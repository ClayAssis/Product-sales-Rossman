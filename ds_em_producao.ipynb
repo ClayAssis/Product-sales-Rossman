{
 "cells": [
  {
   "cell_type": "markdown",
   "id": "agreed-roads",
   "metadata": {
    "slideshow": {
     "slide_type": "notes"
    },
    "tags": []
   },
   "source": [
    "# 0. IMPORTS"
   ]
  },
  {
   "cell_type": "code",
   "execution_count": null,
   "id": "8cd130fe",
   "metadata": {},
   "outputs": [],
   "source": [
    "# Install packages\n",
    "# !pip install pandas seaborn inflection scipy scikit-learn xgboost"
   ]
  },
  {
   "cell_type": "code",
   "execution_count": null,
   "id": "vietnamese-handy",
   "metadata": {
    "execution": {
     "iopub.execute_input": "2021-08-13T11:25:54.852974Z",
     "iopub.status.busy": "2021-08-13T11:25:54.852974Z",
     "iopub.status.idle": "2021-08-13T11:26:18.254974Z",
     "shell.execute_reply": "2021-08-13T11:26:18.254974Z",
     "shell.execute_reply.started": "2021-08-13T11:25:54.852974Z"
    },
    "scrolled": true,
    "tags": []
   },
   "outputs": [],
   "source": [
    "import pandas as pd\n",
    "import seaborn as sns\n",
    "import matplotlib.pyplot as plt\n",
    "import numpy as np\n",
    "import inflection\n",
    "import math\n",
    "import random\n",
    "import pickle\n",
    "import json\n",
    "import datetime as datetime\n",
    "\n",
    "from scipy import stats\n",
    "from IPython.display import Image\n",
    "from IPython.display import HTML\n",
    "from boruta import BorutaPy\n",
    "\n",
    "from sklearn.preprocessing import RobustScaler, MinMaxScaler, LabelEncoder\n",
    "from sklearn.ensemble import RandomForestRegressor\n",
    "from sklearn.metrics import mean_absolute_error,mean_squared_error, mean_absolute_percentage_error\n",
    "from sklearn.linear_model import LinearRegression, Lasso\n",
    "\n",
    "import xgboost as xgb"
   ]
  },
  {
   "cell_type": "markdown",
   "id": "numeric-wireless",
   "metadata": {
    "tags": []
   },
   "source": [
    "## 0.1 Helper functions"
   ]
  },
  {
   "cell_type": "code",
   "execution_count": null,
   "id": "92283fbf-a3dd-4e48-adcc-fd639bafabf2",
   "metadata": {
    "execution": {
     "iopub.execute_input": "2021-08-13T11:26:18.256974Z",
     "iopub.status.busy": "2021-08-13T11:26:18.256974Z",
     "iopub.status.idle": "2021-08-13T11:26:18.285974Z",
     "shell.execute_reply": "2021-08-13T11:26:18.284974Z",
     "shell.execute_reply.started": "2021-08-13T11:26:18.256974Z"
    },
    "tags": []
   },
   "outputs": [],
   "source": [
    "def time_series_cross_validation(kfold, training_set, model_name, model, verbose=False):\n",
    "    '''\n",
    "    kfold: quantity of folds\n",
    "    training_set: traning set\n",
    "    model_name: label, name of the model\n",
    "    model: the model with its parameters\n",
    "    verbose: print a message for every new kfold iteration\n",
    "    '''\n",
    "    \n",
    "    mae_list = []\n",
    "    mape_list = []\n",
    "    rmse_list = []\n",
    "    \n",
    "    for k in range(kfold,0,-1):\n",
    "        if verbose:\n",
    "            print(f'Kfold: {k}...')\n",
    "        \n",
    "        # start and end date for validation\n",
    "        validation_start_date = training_set['date'].max() - datetime.timedelta(days=k*6*7)\n",
    "        validation_end_date = training_set['date'].max() - datetime.timedelta(days=(k-1)*6*7)\n",
    "\n",
    "        # date filter\n",
    "        training = training_set[(training_set['date'] < validation_start_date)]\n",
    "        validation = training_set[(training_set['date'] >= validation_start_date) & (training_set['date'] <= validation_end_date)]\n",
    "\n",
    "        # dataset construction for cross validation\n",
    "        # for training\n",
    "        x_training = training.drop(['date','sales'], axis=1)\n",
    "        y_training = training['sales']\n",
    "        # for validation\n",
    "        x_validation = validation.drop(['date','sales'], axis=1)\n",
    "        y_validation = validation['sales']\n",
    "\n",
    "        # model\n",
    "        m = model.fit(x_training,y_training)\n",
    "\n",
    "        # prediction\n",
    "        yhat = m.predict(x_validation)\n",
    "\n",
    "        # performance\n",
    "        m_result = ml_error('label',np.expm1(y_validation),np.expm1(yhat))\n",
    "        print(m_result)\n",
    "\n",
    "        # store the result for iteration of k\n",
    "        mae_list.append(m_result['MAE'].values)\n",
    "        mape_list.append(m_result['MAPE_manual'].values)\n",
    "        rmse_list.append(m_result['RMSE'].values)\n",
    "        \n",
    "    return pd.DataFrame(index=[model_name], \n",
    "                        data={'MAE': np.round(np.mean(mae_list),2).astype(str) + ' +/- ' + np.round(np.std(mae_list),2).astype(str),\n",
    "                              'MAPE_manual': np.round(np.mean(mape_list),2).astype(str) + ' +/- ' + np.round(np.std(mape_list),2).astype(str),\n",
    "                              'RMSE': np.round(np.mean(rmse_list),2).astype(str) + ' +/- ' + np.round(np.std(rmse_list),2).astype(str)})\n",
    "\n",
    "def mean_percentage_error(y,yhat):\n",
    "    return np.mean((y-yhat)/y)\n",
    "\n",
    "def mean_absolute_percentage_error_manual(y,yhat):\n",
    "    return np.mean(np.abs((y-yhat)/y))\n",
    "\n",
    "def ml_error(model_name, y, yhat):\n",
    "    mae = mean_absolute_error(y,yhat)\n",
    "    mape_manual = mean_absolute_percentage_error_manual(y, yhat)\n",
    "    mape_sklearn = mean_absolute_percentage_error(y, yhat)\n",
    "    rmse = np.sqrt(mean_squared_error(y,yhat))\n",
    "    \n",
    "    return pd.DataFrame(index=[model_name], data= {'MAE':mae,\n",
    "                                                 'MAPE_manual':mape_manual,\n",
    "                                                 'MAPE_sklearn':mape_sklearn,\n",
    "                                                 'RMSE':rmse})\n",
    "\n",
    "def cramer_v(x,y):\n",
    "    \"\"\" calculate Cramers V statistic for categorial-categorial association.\n",
    "        uses correction from Bergsma and Wicher, \n",
    "        Journal of the Korean Statistical Society 42 (2013): 323-328\n",
    "    \"\"\"\n",
    "    # é necessário os valores da cm como uma matriz\n",
    "    cm = pd.crosstab(x, y).values\n",
    "    n = cm.sum()\n",
    "    r,k = cm.shape\n",
    "    \n",
    "    chi2 =stats.chi2_contingency(cm)[0]\n",
    "    \n",
    "    chi2corr = max(0, chi2/n - ((k-1)*(r-1)/(n-1)))\n",
    "    kcorr = k - (k-1)**2/(n-1)\n",
    "    rcorr = r - (r-1)**2/(n-1)\n",
    "    \n",
    "    return np.sqrt((chi2corr) / (min(kcorr-1, rcorr-1)))\n",
    "\n",
    "\n",
    "def jupyter_settings():\n",
    "    %matplotlib inline\n",
    "    plt.style.use( 'bmh' )\n",
    "    plt.rcParams['figure.figsize'] = [12, 8]\n",
    "    plt.rcParams['font.size'] = 24\n",
    "    display( HTML( '<style>.container { width:100% !important; }</style>') )\n",
    "    #for pandas to display the complete dataframe, with no restriction on the number of columns to be displayed, I can change the following option:\n",
    "    pd.options.display.max_columns = None\n",
    "    pd.options.display.max_rows = 50\n",
    "    pd.set_option( 'display.expand_frame_repr', False )\n",
    "    sns.set()"
   ]
  },
  {
   "cell_type": "code",
   "execution_count": null,
   "id": "212e5d83-14ff-49f9-8969-3942188faab8",
   "metadata": {
    "execution": {
     "iopub.execute_input": "2021-08-13T11:26:18.287974Z",
     "iopub.status.busy": "2021-08-13T11:26:18.287974Z",
     "iopub.status.idle": "2021-08-13T11:26:18.312974Z",
     "shell.execute_reply": "2021-08-13T11:26:18.312974Z",
     "shell.execute_reply.started": "2021-08-13T11:26:18.287974Z"
    },
    "tags": []
   },
   "outputs": [],
   "source": [
    "jupyter_settings()"
   ]
  },
  {
   "cell_type": "markdown",
   "id": "chubby-research",
   "metadata": {
    "tags": []
   },
   "source": [
    "## 0.2 Loading data"
   ]
  },
  {
   "cell_type": "code",
   "execution_count": null,
   "id": "supported-bracelet",
   "metadata": {
    "execution": {
     "iopub.execute_input": "2021-08-13T11:26:18.314974Z",
     "iopub.status.busy": "2021-08-13T11:26:18.314974Z",
     "iopub.status.idle": "2021-08-13T11:26:20.069974Z",
     "shell.execute_reply": "2021-08-13T11:26:20.068974Z",
     "shell.execute_reply.started": "2021-08-13T11:26:18.314974Z"
    },
    "tags": []
   },
   "outputs": [],
   "source": [
    "df_sales_raw = pd.read_csv( 'data/train.csv', low_memory = False)\n",
    "df_store_raw = pd.read_csv( 'data/store.csv', low_memory = False)\n",
    "\n",
    "# merge\n",
    "df = pd.merge(df_sales_raw,df_store_raw, how='left', on = 'Store' )"
   ]
  },
  {
   "cell_type": "code",
   "execution_count": null,
   "id": "4df1dc44-22aa-42ca-a0eb-1bcd094bb71e",
   "metadata": {
    "execution": {
     "iopub.execute_input": "2021-08-13T11:26:20.070974Z",
     "iopub.status.busy": "2021-08-13T11:26:20.070974Z",
     "iopub.status.idle": "2021-08-13T11:26:20.411974Z",
     "shell.execute_reply": "2021-08-13T11:26:20.411974Z",
     "shell.execute_reply.started": "2021-08-13T11:26:20.070974Z"
    },
    "tags": []
   },
   "outputs": [],
   "source": [
    "df"
   ]
  },
  {
   "cell_type": "markdown",
   "id": "administrative-place",
   "metadata": {
    "tags": []
   },
   "source": [
    "# 1.0. DATA DESCRIPTION"
   ]
  },
  {
   "cell_type": "code",
   "execution_count": null,
   "id": "polar-rocket",
   "metadata": {
    "execution": {
     "iopub.execute_input": "2021-08-13T11:26:20.413974Z",
     "iopub.status.busy": "2021-08-13T11:26:20.412974Z",
     "iopub.status.idle": "2021-08-13T11:26:20.511974Z",
     "shell.execute_reply": "2021-08-13T11:26:20.511974Z",
     "shell.execute_reply.started": "2021-08-13T11:26:20.413974Z"
    },
    "tags": []
   },
   "outputs": [],
   "source": [
    "# it's good to copy the df at the beginning of each section to avoid that, if you change the df content, you don't have to run all the code again\n",
    "df1 = df.copy()"
   ]
  },
  {
   "cell_type": "markdown",
   "id": "designing-phase",
   "metadata": {
    "tags": []
   },
   "source": [
    "## 1.1 Rename columns"
   ]
  },
  {
   "cell_type": "code",
   "execution_count": null,
   "id": "acceptable-wagon",
   "metadata": {
    "execution": {
     "iopub.execute_input": "2021-08-13T11:26:20.513974Z",
     "iopub.status.busy": "2021-08-13T11:26:20.513974Z",
     "iopub.status.idle": "2021-08-13T11:26:20.518974Z",
     "shell.execute_reply": "2021-08-13T11:26:20.518974Z",
     "shell.execute_reply.started": "2021-08-13T11:26:20.513974Z"
    },
    "tags": []
   },
   "outputs": [],
   "source": [
    "cols_old = ['Store', 'DayOfWeek', 'Date', 'Sales', 'Customers', 'Open', 'Promo','StateHoliday', 'SchoolHoliday', 'StoreType', 'Assortment',\n",
    "            'CompetitionDistance', 'CompetitionOpenSinceMonth','CompetitionOpenSinceYear', 'Promo2', 'Promo2SinceWeek','Promo2SinceYear', 'PromoInterval']\n",
    "\n",
    "snakecase = lambda x: inflection.underscore(x)\n",
    "cols_new = list(map(snakecase,cols_old))\n",
    "df1.columns = cols_new"
   ]
  },
  {
   "cell_type": "code",
   "execution_count": null,
   "id": "9ad3df69",
   "metadata": {},
   "outputs": [],
   "source": [
    "df1.head()"
   ]
  },
  {
   "cell_type": "markdown",
   "id": "experimental-nutrition",
   "metadata": {
    "tags": []
   },
   "source": [
    "## 1.2 Data dimensions"
   ]
  },
  {
   "cell_type": "code",
   "execution_count": null,
   "id": "median-photographer",
   "metadata": {
    "execution": {
     "iopub.execute_input": "2021-08-13T11:26:20.523974Z",
     "iopub.status.busy": "2021-08-13T11:26:20.522974Z",
     "iopub.status.idle": "2021-08-13T11:26:20.538974Z",
     "shell.execute_reply": "2021-08-13T11:26:20.537974Z",
     "shell.execute_reply.started": "2021-08-13T11:26:20.523974Z"
    },
    "tags": []
   },
   "outputs": [],
   "source": [
    "# print the number of rows and columns using 2 ways to interpolate strings\n",
    "print(f'Number of Rows: {df1.shape[0]}')\n",
    "print('Number of Columns: {}'.format(df1.shape[1]))"
   ]
  },
  {
   "cell_type": "markdown",
   "id": "metallic-bracket",
   "metadata": {},
   "source": [
    "## 1.3 Data types"
   ]
  },
  {
   "cell_type": "code",
   "execution_count": null,
   "id": "emerging-operations",
   "metadata": {
    "execution": {
     "iopub.execute_input": "2021-08-13T11:26:20.540974Z",
     "iopub.status.busy": "2021-08-13T11:26:20.540974Z",
     "iopub.status.idle": "2021-08-13T11:26:20.742974Z",
     "shell.execute_reply": "2021-08-13T11:26:20.741974Z",
     "shell.execute_reply.started": "2021-08-13T11:26:20.540974Z"
    },
    "tags": []
   },
   "outputs": [],
   "source": [
    "# initially date is object\n",
    "# must change the date type\n",
    "df1['date'] = pd.to_datetime(df1['date'])\n",
    "\n",
    "df1.dtypes"
   ]
  },
  {
   "cell_type": "markdown",
   "id": "spanish-tulsa",
   "metadata": {
    "tags": []
   },
   "source": [
    "## 1.4 Check NA"
   ]
  },
  {
   "cell_type": "code",
   "execution_count": null,
   "id": "complete-sustainability",
   "metadata": {
    "execution": {
     "iopub.execute_input": "2021-08-13T11:26:20.743974Z",
     "iopub.status.busy": "2021-08-13T11:26:20.742974Z",
     "iopub.status.idle": "2021-08-13T11:26:20.931974Z",
     "shell.execute_reply": "2021-08-13T11:26:20.931974Z",
     "shell.execute_reply.started": "2021-08-13T11:26:20.743974Z"
    },
    "tags": []
   },
   "outputs": [],
   "source": [
    "df1.isna().sum()"
   ]
  },
  {
   "cell_type": "markdown",
   "id": "settled-speaking",
   "metadata": {
    "tags": []
   },
   "source": [
    "## 1.5 Fillout NA"
   ]
  },
  {
   "cell_type": "markdown",
   "id": "ongoing-jamaica",
   "metadata": {},
   "source": [
    "I have 3 basic strategies here:\n",
    "- Remove all lines with NA: disadvantage of losing a lot of information <br>\n",
    "- Use some metric or algorithm to fill in the NA data (mean, median or some ML to estimate values) <br>\n",
    "- Understand where does it come from the NAs. <== I used that!!!\n",
    "    "
   ]
  },
  {
   "cell_type": "markdown",
   "id": "e002bc1f",
   "metadata": {},
   "source": [
    "### Competition_distance: distance in meters to the nearest competitor store"
   ]
  },
  {
   "cell_type": "code",
   "execution_count": null,
   "id": "eastern-sample",
   "metadata": {
    "execution": {
     "iopub.execute_input": "2021-08-13T11:26:20.933974Z",
     "iopub.status.busy": "2021-08-13T11:26:20.932974Z",
     "iopub.status.idle": "2021-08-13T11:26:20.996974Z",
     "shell.execute_reply": "2021-08-13T11:26:20.996974Z",
     "shell.execute_reply.started": "2021-08-13T11:26:20.933974Z"
    },
    "tags": []
   },
   "outputs": [],
   "source": [
    "# Let's investigating the stores that have NAs\n",
    "stores_NA = df1[df1[\"competition_distance\"].isna()][\"store\"].value_counts()\n",
    "display(stores_NA)\n",
    "\n",
    "\n",
    "# it is reasonable to assume that NAs means that there is no competing store close enough. \n",
    "# it will then be replaced by a value much greater than the maximum distance.\n",
    "print(f'The max distance to the nearest competitor store: {df1[\"competition_distance\"].max()}')\n",
    "\n",
    "# As the maximum distance is 75860, we can replace NAs for something like 200000.\n",
    "df1[\"competition_distance\"] = df1[\"competition_distance\"].fillna(200000)\n"
   ]
  },
  {
   "cell_type": "markdown",
   "id": "801be62f",
   "metadata": {},
   "source": [
    "### Competition_open_since_month:  gives the approximate year and month of the time the nearest competitor was opened\n",
    "\n",
    "For the first CRISP interaction, for those stores where I don't have information on when the competing store opened, I'll simply allocate the same month as the sales line. \n",
    "Even if it is not logical, if necessary in the second iteration of the CRISP method I can change this assignment.\n",
    "One reason for this assumption is that the month and year a competing store opened could signify an event in sales behavior.\n",
    "Therefore, if the month and year of the competing store “follows” the month and year of the date of sale, there will be no effect on sales of lines that were initially NA.\n"
   ]
  },
  {
   "cell_type": "code",
   "execution_count": null,
   "id": "rational-enzyme",
   "metadata": {
    "execution": {
     "iopub.execute_input": "2021-08-13T11:26:20.997974Z",
     "iopub.status.busy": "2021-08-13T11:26:20.997974Z",
     "iopub.status.idle": "2021-08-13T11:27:28.793974Z",
     "shell.execute_reply": "2021-08-13T11:27:28.792974Z",
     "shell.execute_reply.started": "2021-08-13T11:26:20.997974Z"
    },
    "tags": []
   },
   "outputs": [],
   "source": [
    "x = lambda x: x[\"date\"].month if math.isnan(x[\"competition_open_since_month\"]) else x[\"competition_open_since_month\"]\n",
    "df1[\"competition_open_since_month\"] = df1.apply(x, axis=1)"
   ]
  },
  {
   "cell_type": "markdown",
   "id": "7a84f25d",
   "metadata": {},
   "source": [
    "I'll aplly the same reasoning  for \"competition_open_since_year\", \"promo2_since_week\" and \"promo2_since_year\"\n"
   ]
  },
  {
   "cell_type": "markdown",
   "id": "738d8d9b",
   "metadata": {},
   "source": [
    "### Competition_open_since_year"
   ]
  },
  {
   "cell_type": "code",
   "execution_count": null,
   "id": "26d3c90f",
   "metadata": {},
   "outputs": [],
   "source": [
    "x = lambda x: x[\"date\"].year if math.isnan(x[\"competition_open_since_year\"]) else x[\"competition_open_since_year\"]\n",
    "df1[\"competition_open_since_year\"] = df1.apply(x, axis=1)\n"
   ]
  },
  {
   "cell_type": "markdown",
   "id": "81222e13",
   "metadata": {},
   "source": [
    "### Promo2_since_week"
   ]
  },
  {
   "cell_type": "code",
   "execution_count": null,
   "id": "6622dc0c",
   "metadata": {},
   "outputs": [],
   "source": [
    "x = lambda x: x[\"date\"].week if math.isnan(x[\"promo2_since_week\"]) else x[\"promo2_since_week\"]\n",
    "df1[\"promo2_since_week\"] = df1.apply(x, axis=1)"
   ]
  },
  {
   "cell_type": "markdown",
   "id": "d9d9a579",
   "metadata": {},
   "source": [
    "### Promo2_since_year"
   ]
  },
  {
   "cell_type": "code",
   "execution_count": null,
   "id": "dac2fb1c",
   "metadata": {},
   "outputs": [],
   "source": [
    "x = lambda x: x[\"date\"].year if math.isnan(x[\"promo2_since_year\"]) else x[\"promo2_since_year\"]\n",
    "df1[\"promo2_since_year\"] = df1.apply(x, axis=1)"
   ]
  },
  {
   "cell_type": "markdown",
   "id": "1a65c25d",
   "metadata": {},
   "source": [
    "### Promo_interval: describes the consecutive intervals Promo2 is started, naming the months the promotion is started anew. \n"
   ]
  },
  {
   "cell_type": "code",
   "execution_count": null,
   "id": "patent-injury",
   "metadata": {
    "execution": {
     "iopub.execute_input": "2021-08-13T11:27:28.794974Z",
     "iopub.status.busy": "2021-08-13T11:27:28.794974Z",
     "iopub.status.idle": "2021-08-13T11:27:41.795974Z",
     "shell.execute_reply": "2021-08-13T11:27:41.795974Z",
     "shell.execute_reply.started": "2021-08-13T11:27:28.794974Z"
    },
    "tags": []
   },
   "outputs": [],
   "source": [
    "# example: \"Feb,May,Aug,Nov\" means each round starts in February, May, August, November of any given year for that store\n",
    "\n",
    "# for the first round of CRISP, the value 0 (zero) will be assigned to the missing data of the column \"promo_interval\"\n",
    "df1[\"promo_interval\"].fillna(0, inplace = True)\n",
    "\n",
    "# next, it will be checked if the month of the row date is the start month of promo2 round and assigned to the new column \"is_promo:\n",
    "# 0 (when not starting month) or 1 (when not starting month)\n",
    "month_map = {1: \"Jan\", 2: \"Feb\", 3: \"Mar\", 4: \"Apr\", 5: \"May\", 6: \"Jun\", 7: \"Jul\", 8: \"Aug\",9: \"Sep\", 10: \"Oct\", 11: \"Nov\",12: \"Dec\"}\n",
    "df1[\"month_map\"] = df1[\"date\"].dt.month.map(month_map)\n",
    "\n",
    "df1[\"is_promo\"] = df1[[\"promo_interval\",\"month_map\"]].apply(lambda x: 0 if x[\"promo_interval\"] == 0 else 1 if x[\"month_map\"] in x[\"promo_interval\"].split(',') else 0, axis = 1)"
   ]
  },
  {
   "cell_type": "code",
   "execution_count": null,
   "id": "3feef6d8",
   "metadata": {},
   "outputs": [],
   "source": [
    "df1.sample(5).T"
   ]
  },
  {
   "cell_type": "code",
   "execution_count": null,
   "id": "moving-attention",
   "metadata": {
    "execution": {
     "iopub.execute_input": "2021-08-13T11:27:41.796974Z",
     "iopub.status.busy": "2021-08-13T11:27:41.796974Z",
     "iopub.status.idle": "2021-08-13T11:27:42.019974Z",
     "shell.execute_reply": "2021-08-13T11:27:42.019974Z",
     "shell.execute_reply.started": "2021-08-13T11:27:41.796974Z"
    },
    "tags": []
   },
   "outputs": [],
   "source": [
    "# confirms that all missing data has been processed\n",
    "df1.isna().sum()"
   ]
  },
  {
   "cell_type": "markdown",
   "id": "starting-inside",
   "metadata": {},
   "source": [
    "## 1.6 Change types\n"
   ]
  },
  {
   "cell_type": "code",
   "execution_count": null,
   "id": "connected-cycle",
   "metadata": {
    "execution": {
     "iopub.execute_input": "2021-08-13T11:27:42.021974Z",
     "iopub.status.busy": "2021-08-13T11:27:42.021974Z",
     "iopub.status.idle": "2021-08-13T11:27:42.028974Z",
     "shell.execute_reply": "2021-08-13T11:27:42.027974Z",
     "shell.execute_reply.started": "2021-08-13T11:27:42.021974Z"
    },
    "tags": []
   },
   "outputs": [],
   "source": [
    "# Changess performed in 1.5 may have changed column types.\n",
    "# that's why it's important to check again\n",
    "df1.dtypes"
   ]
  },
  {
   "cell_type": "code",
   "execution_count": null,
   "id": "assumed-prize",
   "metadata": {
    "execution": {
     "iopub.execute_input": "2021-08-13T11:27:42.029974Z",
     "iopub.status.busy": "2021-08-13T11:27:42.029974Z",
     "iopub.status.idle": "2021-08-13T11:27:42.173974Z",
     "shell.execute_reply": "2021-08-13T11:27:42.172974Z",
     "shell.execute_reply.started": "2021-08-13T11:27:42.029974Z"
    },
    "tags": []
   },
   "outputs": [],
   "source": [
    "# change the type of the following columns\n",
    "df1[\"competition_open_since_month\"] = df1[\"competition_open_since_month\"].astype(int)\n",
    "df1[\"competition_open_since_year\"] = df1[\"competition_open_since_year\"].astype(int)\n",
    "df1[\"promo2_since_week\"] = df1[\"promo2_since_week\"].astype(int)\n",
    "df1[\"promo2_since_year\"] = df1[\"promo2_since_year\"].astype(int)"
   ]
  },
  {
   "cell_type": "markdown",
   "id": "adult-brake",
   "metadata": {
    "tags": []
   },
   "source": [
    "## 1.7 Descriptive statistical"
   ]
  },
  {
   "cell_type": "markdown",
   "id": "4f444d4a-8f4a-4a7d-a6a7-9b562465ffbb",
   "metadata": {
    "execution": {
     "iopub.execute_input": "2021-06-10T11:49:42.803969Z",
     "iopub.status.busy": "2021-06-10T11:49:42.803969Z",
     "iopub.status.idle": "2021-06-10T11:49:42.804969Z",
     "shell.execute_reply": "2021-06-10T11:49:42.804969Z",
     "shell.execute_reply.started": "2021-06-10T11:49:42.803969Z"
    },
    "tags": []
   },
   "source": [
    "From this moment on, we proceed to the exploratory data analysis, following the CRISP methodology data."
   ]
  },
  {
   "cell_type": "code",
   "execution_count": null,
   "id": "74536ceb-cfd9-4bbe-b424-841b6ce40263",
   "metadata": {
    "execution": {
     "iopub.execute_input": "2021-08-13T11:27:42.174974Z",
     "iopub.status.busy": "2021-08-13T11:27:42.174974Z",
     "iopub.status.idle": "2021-08-13T11:27:42.186974Z",
     "shell.execute_reply": "2021-08-13T11:27:42.185974Z",
     "shell.execute_reply.started": "2021-08-13T11:27:42.174974Z"
    },
    "tags": []
   },
   "outputs": [],
   "source": [
    "Image(\"img/crisp.png\")"
   ]
  },
  {
   "cell_type": "markdown",
   "id": "announced-forestry",
   "metadata": {},
   "source": [
    "Metrics: <br>\n",
    "* Central tendency: mean, median\n",
    "* Dispersion: variance, standard deviation, amplitude\n",
    "\n",
    "Although descriptive statistics is compatible with numerical and categorical data, the form of construction is different. Therefore, I need to separate into numerical data and categorical data."
   ]
  },
  {
   "cell_type": "code",
   "execution_count": null,
   "id": "pharmaceutical-backup",
   "metadata": {
    "execution": {
     "iopub.execute_input": "2021-08-13T11:27:42.188974Z",
     "iopub.status.busy": "2021-08-13T11:27:42.187974Z",
     "iopub.status.idle": "2021-08-13T11:27:42.461974Z",
     "shell.execute_reply": "2021-08-13T11:27:42.460974Z",
     "shell.execute_reply.started": "2021-08-13T11:27:42.188974Z"
    },
    "tags": []
   },
   "outputs": [],
   "source": [
    "# Select by types\n",
    "num_attributes = df1.select_dtypes(include=['int32', 'int64', 'float64'])\n",
    "cat_attributes = df1.select_dtypes(exclude=['int32', 'int64', 'float64','datetime64[ns]'])"
   ]
  },
  {
   "cell_type": "code",
   "execution_count": null,
   "id": "b02859d7",
   "metadata": {},
   "outputs": [],
   "source": [
    "num_attributes"
   ]
  },
  {
   "cell_type": "code",
   "execution_count": null,
   "id": "f6035d24",
   "metadata": {},
   "outputs": [],
   "source": [
    "cat_attributes"
   ]
  },
  {
   "cell_type": "markdown",
   "id": "distant-synthetic",
   "metadata": {
    "tags": []
   },
   "source": [
    "### 1.7.1 Numerical attributes"
   ]
  },
  {
   "cell_type": "code",
   "execution_count": null,
   "id": "changing-unemployment",
   "metadata": {
    "execution": {
     "iopub.execute_input": "2021-08-13T11:27:42.462974Z",
     "iopub.status.busy": "2021-08-13T11:27:42.462974Z",
     "iopub.status.idle": "2021-08-13T11:27:43.935974Z",
     "shell.execute_reply": "2021-08-13T11:27:43.934974Z",
     "shell.execute_reply.started": "2021-08-13T11:27:42.462974Z"
    },
    "tags": []
   },
   "outputs": [],
   "source": [
    "# Central tendency: mean, median\n",
    "ct1 = pd.DataFrame(num_attributes.apply(np.mean)).T\n",
    "ct2 = pd.DataFrame(num_attributes.apply(np.median)).T\n",
    "\n",
    "# Dispersion: std, min, max, range, skew, kurtosis\n",
    "d1 = pd.DataFrame(num_attributes.apply(np.std)).T\n",
    "d2 = pd.DataFrame(num_attributes.apply(np.min)).T\n",
    "d3 = pd.DataFrame(num_attributes.apply(np.max)).T\n",
    "d4 = pd.DataFrame(num_attributes.apply(lambda x: x.max() - x.min() )).T\n",
    "d5 = pd.DataFrame(num_attributes.skew()).T\n",
    "d6 = pd.DataFrame(num_attributes.kurtosis()).T\n",
    "\n",
    "# concat\n",
    "m = pd.concat([d2, d3, d4, ct1, ct2, d1, d5, d6]).T.reset_index()\n",
    "m.columns = ['attributes', 'min','max','range','mean','median','std','skew','kurtosis']\n",
    "m"
   ]
  },
  {
   "cell_type": "markdown",
   "id": "be5664e0-b429-44d4-95cb-2ab972083ef1",
   "metadata": {},
   "source": [
    "The following are some examples of variable distribution to begin to understand the distribution of the number of records for each of them:"
   ]
  },
  {
   "cell_type": "code",
   "execution_count": null,
   "id": "athletic-chapter",
   "metadata": {
    "execution": {
     "iopub.execute_input": "2021-08-13T11:27:43.939974Z",
     "iopub.status.busy": "2021-08-13T11:27:43.939974Z",
     "iopub.status.idle": "2021-08-13T11:27:45.670974Z",
     "shell.execute_reply": "2021-08-13T11:27:45.669974Z",
     "shell.execute_reply.started": "2021-08-13T11:27:43.939974Z"
    },
    "tags": []
   },
   "outputs": [],
   "source": [
    "sns.displot(df1[\"sales\"],height=6, aspect=2);"
   ]
  },
  {
   "cell_type": "code",
   "execution_count": null,
   "id": "instructional-strengthening",
   "metadata": {
    "execution": {
     "iopub.execute_input": "2021-08-13T11:27:46.652974Z",
     "iopub.status.busy": "2021-08-13T11:27:46.651974Z",
     "iopub.status.idle": "2021-08-13T11:27:50.466974Z",
     "shell.execute_reply": "2021-08-13T11:27:50.466974Z",
     "shell.execute_reply.started": "2021-08-13T11:27:46.651974Z"
    },
    "tags": []
   },
   "outputs": [],
   "source": [
    "sns.displot(df1[\"competition_distance\"], height=6, aspect=2);"
   ]
  },
  {
   "cell_type": "markdown",
   "id": "outside-disaster",
   "metadata": {},
   "source": [
    "### 1.7.2 Categorical attributes"
   ]
  },
  {
   "cell_type": "code",
   "execution_count": null,
   "id": "regulation-horse",
   "metadata": {
    "execution": {
     "iopub.execute_input": "2021-08-13T11:27:50.471974Z",
     "iopub.status.busy": "2021-08-13T11:27:50.471974Z",
     "iopub.status.idle": "2021-08-13T11:27:50.710974Z",
     "shell.execute_reply": "2021-08-13T11:27:50.710974Z",
     "shell.execute_reply.started": "2021-08-13T11:27:50.471974Z"
    },
    "tags": []
   },
   "outputs": [],
   "source": [
    "cat_attributes.nunique()"
   ]
  },
  {
   "cell_type": "code",
   "execution_count": null,
   "id": "frank-blood",
   "metadata": {
    "execution": {
     "iopub.execute_input": "2021-08-13T11:27:50.713974Z",
     "iopub.status.busy": "2021-08-13T11:27:50.713974Z",
     "iopub.status.idle": "2021-08-13T11:27:52.813974Z",
     "shell.execute_reply": "2021-08-13T11:27:52.813974Z",
     "shell.execute_reply.started": "2021-08-13T11:27:50.713974Z"
    },
    "tags": []
   },
   "outputs": [],
   "source": [
    "# discard data when stores were closed or when the sale was null\n",
    "aux1 = df1[(df1[\"open\"] == 1) & (df1[\"sales\"] > 0)]\n",
    "sns.set_style(\"darkgrid\")\n",
    "plt.figure(figsize=(20,10))\n",
    "\n",
    "plt.subplot(1,3,1)\n",
    "sns.boxplot(x=\"state_holiday\", y=\"sales\", data=aux1)\n",
    "\n",
    "plt.subplot(1,3,2)\n",
    "sns.boxplot(x=\"store_type\", y=\"sales\", data=aux1)\n",
    "\n",
    "plt.subplot(1,3,3)\n",
    "sns.boxplot(x=\"assortment\", y=\"sales\", data=aux1)\n",
    "\n",
    "plt.tight_layout()"
   ]
  },
  {
   "cell_type": "markdown",
   "id": "65e51040-6f4c-4889-bdfe-2848fb9a9a05",
   "metadata": {},
   "source": [
    "In the boxplot charts bellow, the outliers are those considered to be above 1.5 of the interquartile range (IQR) The image below illustrates this."
   ]
  },
  {
   "cell_type": "code",
   "execution_count": null,
   "id": "609353e0-4e87-4f4e-a2d7-bdad19fddb16",
   "metadata": {
    "execution": {
     "iopub.execute_input": "2021-08-13T11:27:52.814974Z",
     "iopub.status.busy": "2021-08-13T11:27:52.814974Z",
     "iopub.status.idle": "2021-08-13T11:27:52.840974Z",
     "shell.execute_reply": "2021-08-13T11:27:52.839974Z",
     "shell.execute_reply.started": "2021-08-13T11:27:52.814974Z"
    },
    "tags": []
   },
   "outputs": [],
   "source": [
    "Image(\"img/box_plot.png\")"
   ]
  },
  {
   "cell_type": "markdown",
   "id": "1de3bd0d-55c7-4560-aad4-cb29769c40f6",
   "metadata": {},
   "source": [
    "# 2.0. FEATURE ENGINEERING"
   ]
  },
  {
   "cell_type": "code",
   "execution_count": null,
   "id": "6fc2a9fd-8332-4d87-a013-663cb7e9adc7",
   "metadata": {
    "execution": {
     "iopub.execute_input": "2021-08-13T11:27:52.841974Z",
     "iopub.status.busy": "2021-08-13T11:27:52.841974Z",
     "iopub.status.idle": "2021-08-13T11:27:53.031974Z",
     "shell.execute_reply": "2021-08-13T11:27:53.030974Z",
     "shell.execute_reply.started": "2021-08-13T11:27:52.841974Z"
    },
    "tags": []
   },
   "outputs": [],
   "source": [
    "df2 = df1.copy()"
   ]
  },
  {
   "cell_type": "markdown",
   "id": "b928d3be-9a9a-4a43-8854-b15f31d0731f",
   "metadata": {
    "tags": []
   },
   "source": [
    "## 2.1 Hypothesis mind map"
   ]
  },
  {
   "cell_type": "markdown",
   "id": "47e1a8a6-fba9-4ead-9a42-b22a63a1028c",
   "metadata": {},
   "source": [
    "Hypothesis mind map:\n",
    "* Phenomenon: What am I modeling (Daily Store Sales)\n",
    "* Agents: What are the agents that act on the phenomenon (five main branches)\n",
    "* Agent Attributes: What is the description of the agents (branches on each of the agents) <br>\n",
    "\n",
    "The goal is to derive a list of hypotheses so that we can validate them or not with the data.\n",
    "Every hypothesis validated or discarded is the insight."
   ]
  },
  {
   "cell_type": "code",
   "execution_count": null,
   "id": "778301fd-590f-4faf-b7ba-97249b9c7c1a",
   "metadata": {
    "execution": {
     "iopub.execute_input": "2021-08-13T11:27:53.032974Z",
     "iopub.status.busy": "2021-08-13T11:27:53.032974Z",
     "iopub.status.idle": "2021-08-13T11:27:53.075974Z",
     "shell.execute_reply": "2021-08-13T11:27:53.075974Z",
     "shell.execute_reply.started": "2021-08-13T11:27:53.032974Z"
    },
    "tags": []
   },
   "outputs": [],
   "source": [
    "Image(\"img/MindMapHypothesis.png\")"
   ]
  },
  {
   "cell_type": "markdown",
   "id": "d617c00d-2122-496e-88d1-037b009e8cca",
   "metadata": {},
   "source": [
    "The hypothesis mindmap above is used to extract hypotheses and further validate them during exploratory data analysis. To formulate hypotheses, consider them as a bet, as shown in the following examples:\n",
    "\"BIGGER stores should sell MORE.\" (Note that I am citing an attribute of an agent (store size) and betting on the correlation with the response variable (sales).\n",
    "\"Stores with BIGGER assortment should sell MORE.\"\n",
    "\"Stores with MORE competitors nearby should sell LESS.\"\n"
   ]
  },
  {
   "cell_type": "markdown",
   "id": "d9bdf268-5857-4dd1-975a-00ef5222972e",
   "metadata": {},
   "source": [
    "## 2.1 Hypotheses"
   ]
  },
  {
   "cell_type": "markdown",
   "id": "e223d816-857e-4279-bac2-42083834d389",
   "metadata": {},
   "source": [
    "### 2.1.1. Store hypotheses"
   ]
  },
  {
   "cell_type": "markdown",
   "id": "5dfd5aa7-5554-4e5c-9855-d1eb22dcfd2f",
   "metadata": {},
   "source": [
    "**1.** Stores with more employees should sell more <br>\n",
    "**2.** Stores with more inventory should sell more <br>\n",
    "**3.** Bigger stores should sell more (or smaller stores should sell less) <br>\n",
    "**4.** Stores with a larger assortment should sell more <br>\n",
    "**5.** Stores with closer competitors should sell less <br>\n",
    "**6.** Stores with longer-standing competitors should sell more"
   ]
  },
  {
   "cell_type": "markdown",
   "id": "b4df750e-b4a3-4d07-9f7b-242f725fa547",
   "metadata": {},
   "source": [
    "### 2.1.2. Product hypotheses"
   ]
  },
  {
   "cell_type": "markdown",
   "id": "a5e95ac0-49dd-4cba-8195-04349ed03c6d",
   "metadata": {
    "execution": {
     "iopub.execute_input": "2021-04-22T10:41:59.270669Z",
     "iopub.status.busy": "2021-04-22T10:41:59.269669Z",
     "iopub.status.idle": "2021-04-22T10:41:59.271669Z",
     "shell.execute_reply": "2021-04-22T10:41:59.271669Z",
     "shell.execute_reply.started": "2021-04-22T10:41:59.270669Z"
    }
   },
   "source": [
    "**1.** Stores that invest more in marketing should sell more <br>\n",
    "**2.** Stores that display more in store windows should sell more <br>\n",
    "**3.** Stores where products cost less should sell more <br>\n",
    "**4.** Stores with more aggressive promotions (larger discounts) should sell more <br>\n",
    "**5.** Stores where products cost less for longer (active promotions) should sell more <br>\n",
    "**6.** Stores with more promotion days should sell more <br>\n",
    "**7.** Stores with more extended promotions should sell more <br>"
   ]
  },
  {
   "cell_type": "markdown",
   "id": "62bc66e7-410e-4a16-a84c-a57068f6912b",
   "metadata": {},
   "source": [
    "### 2.1.3. Time hypotheses"
   ]
  },
  {
   "cell_type": "markdown",
   "id": "5ca531e4-7b20-43f9-a374-61fdadbd89c9",
   "metadata": {},
   "source": [
    "**1.** Stores open during Christmas holiday should sell more <br>\n",
    "**2.** Stores should sell more over the years <br>\n",
    "**3.** Stores should sell more in the second half of the year <br>\n",
    "**4.** Stores should sell more after the 10th day of each month <br>\n",
    "**5.** Stores should sell less on weekends <br>\n",
    "**6.** Stores should sell less during school holidays <br>\n",
    "**7.** Stores that open on Sundays should sell more <br>\n"
   ]
  },
  {
   "cell_type": "markdown",
   "id": "04095042-3a7c-4f47-88d1-47fc68829f7f",
   "metadata": {},
   "source": [
    "## 2.2 Hypotheses prioritization"
   ]
  },
  {
   "cell_type": "markdown",
   "id": "da72e05c-0e43-4c05-96c1-286eae81551b",
   "metadata": {},
   "source": [
    "As we are working on the CRISP method, we are going to validate the hypotheses that we are already able to verify with the current set of data obtained. If for the hypothesis it is necessary to make one more query in SQL, extract, store and process the data, then it is better to do it in the next CRISP cycle, if necessary.\n",
    "The hypotheses below were taken from sections 2.2.1 to 2.2.3 because, in the available dataset, they are the only ones that can be verified."
   ]
  },
  {
   "cell_type": "markdown",
   "id": "3fe74a8c-b46f-454e-a506-bbfc99a61b17",
   "metadata": {},
   "source": [
    "**1.** Stores with a larger assortment should sell more <br>\n",
    "**2.** Stores with closer competitors should sell less <br>\n",
    "**3.** Stores with longer-standing competitors should sell more <br>\n",
    "\n",
    "**4.** Stores where products cost less for longer (active promotions) should sell more <br>\n",
    "**5.** Stores with more promotion days should sell more <br>\n",
    "**6.** Stores with more extended promotions should sell more <br> \n",
    "\n",
    "**7** Stores open during Christmas holiday should sell more <br>\n",
    "**8.** Stores should sell more over the years <br>\n",
    "**9.** Stores should sell more in the second half of the year <br>\n",
    "**10.** Stores should sell more after the 10th day of each month <br>\n",
    "**11.** Stores should sell less on weekends <br>\n",
    "**12.** Stores should sell less during school holidays <br>\n",
    "**13.** Stores that open on Sundays should sell more <br>"
   ]
  },
  {
   "cell_type": "markdown",
   "id": "f911e97a-e6c5-4307-9b4d-aa98aeffcf0a",
   "metadata": {
    "execution": {
     "iopub.execute_input": "2021-04-23T11:22:35.467400Z",
     "iopub.status.busy": "2021-04-23T11:22:35.467400Z",
     "iopub.status.idle": "2021-04-23T11:22:35.468400Z",
     "shell.execute_reply": "2021-04-23T11:22:35.468400Z",
     "shell.execute_reply.started": "2021-04-23T11:22:35.467400Z"
    }
   },
   "source": [
    "## 2.3 Feature engineering"
   ]
  },
  {
   "cell_type": "code",
   "execution_count": null,
   "id": "af885bbc-2af0-406d-b697-c153095d1d20",
   "metadata": {
    "execution": {
     "iopub.execute_input": "2021-08-13T11:27:53.077974Z",
     "iopub.status.busy": "2021-08-13T11:27:53.076974Z",
     "iopub.status.idle": "2021-08-13T11:28:54.397974Z",
     "shell.execute_reply": "2021-08-13T11:28:54.397974Z",
     "shell.execute_reply.started": "2021-08-13T11:27:53.077974Z"
    },
    "tags": []
   },
   "outputs": [],
   "source": [
    "# creation of new columns to use in the EDA and validation/refutation of selected hypotheses\n",
    "\n",
    "# year\n",
    "df2[\"year\"] = df2[\"date\"].dt.year\n",
    "\n",
    "# month\n",
    "df2[\"month\"] = df2[\"date\"].dt.month\n",
    "\n",
    "# day\n",
    "df2[\"day\"] = df2[\"date\"].dt.day\n",
    "\n",
    "# week of year\n",
    "df2[\"week_of_year\"] = df2[\"date\"].dt.isocalendar().week\n",
    "\n",
    "# year week\n",
    "df2[\"year_week\"] = df2[\"date\"].dt.strftime('%Y-%W')\n",
    "\n",
    "# competition_since\n",
    "df2[\"competition_since\"] = df2.apply(lambda x: datetime.datetime(year = x[\"competition_open_since_year\"], month = x[\"competition_open_since_month\"], day = 1), axis = 1)\n",
    "df2[\"competition_time_month\"] = ((df2[\"date\"] - df2[\"competition_since\"]) / 30).apply(lambda x: x.days).astype(int)\n",
    "\n",
    "# promo since (we want to know how long the store joined the promo2)\n",
    "# as week %W starts with 0, subtract 7 days\n",
    "df2[\"promo_since\"] = df2[\"promo2_since_year\"].astype(str) +  '-' + df2[\"promo2_since_week\"].astype(str)\n",
    "df2[\"promo_since\"] = df2[\"promo_since\"].apply(lambda x: datetime.datetime.strptime(x + '-1', '%Y-%W-%w' ) - datetime.timedelta(days=7))\n",
    "\n",
    "# promo_time_week\n",
    "df2[\"promo_time_week\"] = ((df2[\"date\"] - df2[\"promo_since\"])/7).apply(lambda x: x.days).astype(int)\n",
    "\n",
    "# assortment\n",
    "df2[\"assortment\"] = df2[\"assortment\"].map({'a': 'basic', 'b': 'extra', 'c': 'extended'})\n",
    "\n",
    "# state holiday\n",
    "df2[\"state_holiday\"] = df2[\"state_holiday\"].map({'a':'public_holiday', 'b':'easter_holiday', 'c':'christmas', '0': 'regular_day'})\n"
   ]
  },
  {
   "cell_type": "code",
   "execution_count": null,
   "id": "d0fee32f-de72-441b-8adb-10e1fe48ab55",
   "metadata": {
    "execution": {
     "iopub.execute_input": "2021-08-13T11:28:54.399974Z",
     "iopub.status.busy": "2021-08-13T11:28:54.398974Z",
     "iopub.status.idle": "2021-08-13T11:28:54.419974Z",
     "shell.execute_reply": "2021-08-13T11:28:54.418974Z",
     "shell.execute_reply.started": "2021-08-13T11:28:54.399974Z"
    },
    "tags": []
   },
   "outputs": [],
   "source": [
    "df2.head().T"
   ]
  },
  {
   "cell_type": "code",
   "execution_count": null,
   "id": "4561956a-5b0c-4b39-afe3-80e5cb32aca8",
   "metadata": {
    "execution": {
     "iopub.execute_input": "2021-08-13T11:28:54.420974Z",
     "iopub.status.busy": "2021-08-13T11:28:54.420974Z",
     "iopub.status.idle": "2021-08-13T11:28:54.538974Z",
     "shell.execute_reply": "2021-08-13T11:28:54.537974Z",
     "shell.execute_reply.started": "2021-08-13T11:28:54.420974Z"
    },
    "tags": []
   },
   "outputs": [],
   "source": [
    "df2.state_holiday.value_counts()"
   ]
  },
  {
   "cell_type": "markdown",
   "id": "67df5327-6022-4402-9b70-01ca1de8e8c4",
   "metadata": {},
   "source": [
    "# 3.0 FILTERING OF VARIABLES"
   ]
  },
  {
   "cell_type": "markdown",
   "id": "ac9f7b0c-3946-40ab-8bf6-99dc94e730f8",
   "metadata": {},
   "source": [
    "The reason for filtering companies is the limitation of business activity. The impossibility of putting the model into production should be avoided because of the need to use a feature that is not available for future data. The risk of such impossibility is mitigated by considering business constraints. For this reason, it is important to be at the beginning of the CRISP cycle.<br>\n",
    "An example of a business constraint: in developing a project to predict sales of a product, it was found that the variable \"applied discount\" had a strong correlation with sales volume. The model was then trained using this variable. However, the business team felt that it was impossible to know the discount before the product was launched. Therefore, at the time of prediction, in production, it is not possible to use it. Therefore, it is important to filter the variables before starting the actual project. <br>"
   ]
  },
  {
   "cell_type": "code",
   "execution_count": null,
   "id": "904263de-975d-42b2-b819-53935590e0aa",
   "metadata": {
    "execution": {
     "iopub.execute_input": "2021-08-13T11:28:54.539974Z",
     "iopub.status.busy": "2021-08-13T11:28:54.539974Z",
     "iopub.status.idle": "2021-08-13T11:28:54.833974Z",
     "shell.execute_reply": "2021-08-13T11:28:54.832974Z",
     "shell.execute_reply.started": "2021-08-13T11:28:54.539974Z"
    },
    "tags": []
   },
   "outputs": [],
   "source": [
    "df3 = df2.copy()"
   ]
  },
  {
   "cell_type": "markdown",
   "id": "6356bed3-b981-492d-a8db-2314dc6f159d",
   "metadata": {
    "tags": []
   },
   "source": [
    "## 3.1 Rows selection"
   ]
  },
  {
   "cell_type": "markdown",
   "id": "d0c874e9-1bb6-48fb-bc75-48cda64cd945",
   "metadata": {},
   "source": [
    "The \"open\" column indicates whether the store is open (1) or closed (0); however when it is closed, sales are 0; so I don't have any learning extracted from the lines where \"open\" equals 0.\n",
    "The same for the \"sales\" column."
   ]
  },
  {
   "cell_type": "code",
   "execution_count": null,
   "id": "46f8de2e-ed4a-4238-9b1f-1a35a6508107",
   "metadata": {
    "execution": {
     "iopub.execute_input": "2021-08-13T11:28:54.834974Z",
     "iopub.status.busy": "2021-08-13T11:28:54.834974Z",
     "iopub.status.idle": "2021-08-13T11:28:55.221974Z",
     "shell.execute_reply": "2021-08-13T11:28:55.221974Z",
     "shell.execute_reply.started": "2021-08-13T11:28:54.834974Z"
    },
    "tags": []
   },
   "outputs": [],
   "source": [
    "df3 = df3[(df3['open'] != 0) & (df3['sales'] > 0)]"
   ]
  },
  {
   "cell_type": "markdown",
   "id": "cbfb8bfb-a4ba-42db-bda8-af7bc1b2a516",
   "metadata": {
    "tags": []
   },
   "source": [
    "## 3.2 Columns selection"
   ]
  },
  {
   "cell_type": "markdown",
   "id": "db61d0bf-61ba-4e39-802e-0176dcbf4604",
   "metadata": {},
   "source": [
    "The \"customers\" column we don't have at the time of prediction; we don't know how many customers will have 6 weeks from now (this would require another project). <br>\n",
    "In addition to this, the \"open\" column (which after 3.1 only have the value '1'), the \"promo_interval\" and \"month_map\" columns (that were used to derive the \"is_promo\" column) will also be excluded."
   ]
  },
  {
   "cell_type": "code",
   "execution_count": null,
   "id": "27984321-7266-4294-bd8c-475594e5bc63",
   "metadata": {
    "execution": {
     "iopub.execute_input": "2021-08-13T11:28:55.223974Z",
     "iopub.status.busy": "2021-08-13T11:28:55.222974Z",
     "iopub.status.idle": "2021-08-13T11:28:55.445974Z",
     "shell.execute_reply": "2021-08-13T11:28:55.445974Z",
     "shell.execute_reply.started": "2021-08-13T11:28:55.223974Z"
    },
    "tags": []
   },
   "outputs": [],
   "source": [
    "cols_drop = ['customers', 'open', 'promo_interval', 'month_map']\n",
    "\n",
    "df3 = df3.drop(cols_drop, axis=1)"
   ]
  },
  {
   "cell_type": "code",
   "execution_count": null,
   "id": "936eab9c",
   "metadata": {},
   "outputs": [],
   "source": [
    "df3.columns"
   ]
  },
  {
   "cell_type": "markdown",
   "id": "a6739b94-e3fc-40b7-97a3-9478285a624c",
   "metadata": {
    "tags": []
   },
   "source": [
    "# 4.0 EXPLORATORY DATA ANALYSIS"
   ]
  },
  {
   "cell_type": "markdown",
   "id": "f1cf81be-2fd9-4607-9533-5b41e893746a",
   "metadata": {},
   "source": [
    "How do variables impact the phenomenon & what is the strength of that impact?\n",
    "\n",
    "The 3 goals of EDA:\n",
    "- Gain business experience\n",
    "- Validate business hypotheses (insights)\n",
    "    - Generate surprise and counteract beliefs empirically crystallized by the business team\n",
    "- Realize variables that are important to the model\n",
    "\n",
    "The following analyzes will be carried out during EDA:\n",
    "- Univariate analysis\n",
    "    - What is this variable like (min, max, range, distribution) ?\n",
    "- Bivariate analysis\n",
    "    - How does the variable impact the target attribute (relationship, validation of hypotheses) ?\n",
    "- Multivariate analysis\n",
    "    - How the variables are related (correlation between them) ?"
   ]
  },
  {
   "cell_type": "code",
   "execution_count": null,
   "id": "7d9875aa-8bd2-4807-b983-94546c7949d5",
   "metadata": {
    "execution": {
     "iopub.execute_input": "2021-08-13T11:28:55.447974Z",
     "iopub.status.busy": "2021-08-13T11:28:55.446974Z",
     "iopub.status.idle": "2021-08-13T11:28:55.597974Z",
     "shell.execute_reply": "2021-08-13T11:28:55.597974Z",
     "shell.execute_reply.started": "2021-08-13T11:28:55.447974Z"
    },
    "tags": []
   },
   "outputs": [],
   "source": [
    "df4 = df3.copy()"
   ]
  },
  {
   "cell_type": "markdown",
   "id": "6b9265ba-bede-4b88-8d26-52c26ca5936a",
   "metadata": {},
   "source": [
    "Before starting the next sections, let's update the descriptive data analysis:"
   ]
  },
  {
   "cell_type": "code",
   "execution_count": null,
   "id": "87736abc-0d75-4111-92e1-6792c9c36d7a",
   "metadata": {
    "execution": {
     "iopub.execute_input": "2021-08-13T11:28:55.599974Z",
     "iopub.status.busy": "2021-08-13T11:28:55.598974Z",
     "iopub.status.idle": "2021-08-13T11:28:57.275974Z",
     "shell.execute_reply": "2021-08-13T11:28:57.274974Z",
     "shell.execute_reply.started": "2021-08-13T11:28:55.599974Z"
    },
    "tags": []
   },
   "outputs": [],
   "source": [
    "num_attributes = df4.select_dtypes(include=['int32', 'int64', 'float64'])\n",
    "# mean, median\n",
    "ct1 = pd.DataFrame(num_attributes.apply(np.mean)).T\n",
    "ct2 = pd.DataFrame(num_attributes.apply(np.median)).T\n",
    "\n",
    "# std, min, max, range, skew, kurtosis\n",
    "d1 = pd.DataFrame(num_attributes.apply(np.std)).T\n",
    "d2 = pd.DataFrame(num_attributes.apply(np.min)).T\n",
    "d3 = pd.DataFrame(num_attributes.apply(np.max)).T\n",
    "d4 = pd.DataFrame(num_attributes.apply(lambda x: x.max() - x.min() )).T\n",
    "d5 = pd.DataFrame(num_attributes.skew()).T\n",
    "d6 = pd.DataFrame(num_attributes.kurtosis()).T\n",
    "\n",
    "# concat\n",
    "metrics = pd.concat([d2, d3, d4, ct1, ct2, d1, d5, d6]).T.reset_index()\n",
    "metrics.columns = ['attributes', 'min','max','range','mean','median','std','skew','kurtosis']\n",
    "metrics"
   ]
  },
  {
   "cell_type": "markdown",
   "id": "ec042e2a-eb87-415f-8510-27081d1ac44f",
   "metadata": {},
   "source": [
    "## 4.1 Univariate analysis"
   ]
  },
  {
   "cell_type": "markdown",
   "id": "5e2ec911-8898-4e5c-939b-6a8c08750f1d",
   "metadata": {},
   "source": [
    "### 4.1.1 Response variable"
   ]
  },
  {
   "cell_type": "code",
   "execution_count": null,
   "id": "50c8e59f-e233-4b50-9553-b6817f75c6a0",
   "metadata": {
    "execution": {
     "iopub.execute_input": "2021-08-13T11:28:57.276974Z",
     "iopub.status.busy": "2021-08-13T11:28:57.276974Z",
     "iopub.status.idle": "2021-08-13T11:29:06.114974Z",
     "shell.execute_reply": "2021-08-13T11:29:06.113974Z",
     "shell.execute_reply.started": "2021-08-13T11:28:57.276974Z"
    },
    "tags": []
   },
   "outputs": [],
   "source": [
    "fig, ax = plt.subplots(figsize=(12,6))\n",
    "sns.histplot(df4['sales'], kde = True, ax = ax)\n",
    "plt.show()"
   ]
  },
  {
   "cell_type": "code",
   "execution_count": null,
   "id": "a2b3c0c6-68a8-4b73-887c-b971999a0f75",
   "metadata": {
    "execution": {
     "iopub.execute_input": "2021-08-13T11:29:06.115974Z",
     "iopub.status.busy": "2021-08-13T11:29:06.115974Z",
     "iopub.status.idle": "2021-08-13T11:29:07.670974Z",
     "shell.execute_reply": "2021-08-13T11:29:07.669974Z",
     "shell.execute_reply.started": "2021-08-13T11:29:06.115974Z"
    },
    "tags": []
   },
   "outputs": [],
   "source": [
    "a = (df4['sales']) \n",
    "b = np.log1p(df4['sales'])  #transf. log1p\n",
    "c, _ = stats.boxcox(df4['sales']) #trans. boxcox\n",
    "testes = ['a', 'b', 'c']\n",
    "\n",
    "for teste in testes:\n",
    "    k2, p = stats.normaltest(eval(teste))\n",
    "    #shapiro_test = stats.shapiro(eval(teste))\n",
    "    print(f'The p-value of {teste} is {p}')\n",
    "    #print(f\"shapiro test is {shapiro_test} \\n\")"
   ]
  },
  {
   "cell_type": "markdown",
   "id": "b91a779c-b0a4-4ce6-bfab-97e7a041ec8c",
   "metadata": {},
   "source": [
    "An interesting point is that if the sample is smaller, there is an evident increase in the p_value, as expected, after the transformation. This dependence of the sample size with the p_value will also be the target of future investigations."
   ]
  },
  {
   "cell_type": "code",
   "execution_count": null,
   "id": "1f978b81-ef58-4950-a416-ce3182efbde3",
   "metadata": {
    "execution": {
     "iopub.execute_input": "2021-08-13T11:29:07.671974Z",
     "iopub.status.busy": "2021-08-13T11:29:07.671974Z",
     "iopub.status.idle": "2021-08-13T11:29:07.720974Z",
     "shell.execute_reply": "2021-08-13T11:29:07.720974Z",
     "shell.execute_reply.started": "2021-08-13T11:29:07.671974Z"
    },
    "tags": []
   },
   "outputs": [],
   "source": [
    "sample = df4['sales'].sample(1000, random_state=41896)\n",
    "a = sample\n",
    "b = np.log1p(sample)  #transf. log1p\n",
    "c, _ = stats.boxcox(sample) #trans. boxcox\n",
    "testes = ['a', 'b', 'c']\n",
    "\n",
    "for teste in testes:\n",
    "    k2, p = stats.normaltest(eval(teste))\n",
    "    #shapiro_test = stats.shapiro(eval(teste))\n",
    "    print(f'The p-value of {teste} is {p}')\n",
    "    #print(f\"O teste shapiro é {shapiro_test} \\n\")"
   ]
  },
  {
   "cell_type": "markdown",
   "id": "61012493-3e18-4896-a575-048f1269d01f",
   "metadata": {},
   "source": [
    "### 4.1.2 Numerical variable"
   ]
  },
  {
   "cell_type": "code",
   "execution_count": null,
   "id": "80ac7efd-36e1-4043-96b7-d5b8f7894968",
   "metadata": {
    "execution": {
     "iopub.execute_input": "2021-08-13T11:29:07.722974Z",
     "iopub.status.busy": "2021-08-13T11:29:07.721974Z",
     "iopub.status.idle": "2021-08-13T11:29:11.314974Z",
     "shell.execute_reply": "2021-08-13T11:29:11.313974Z",
     "shell.execute_reply.started": "2021-08-13T11:29:07.722974Z"
    },
    "tags": []
   },
   "outputs": [],
   "source": [
    "ax = num_attributes.hist(bins=25, figsize = (25,12), layout=(5,4));\n",
    "plt.subplots_adjust(wspace=0.5, hspace=0.5)\n",
    "plt.show()"
   ]
  },
  {
   "cell_type": "markdown",
   "id": "cd658185-fd6c-4b1c-8a22-ca1312772a0e",
   "metadata": {},
   "source": [
    "Some preliminary analyses:\n",
    "\n",
    "- the number of data from each store is approximately equal\n",
    "- the availability of sales data on each of the 7 days of the week is also uniform\n",
    "- the distribution of the sales value obtained by the different stores does not follow a normal distribution\n",
    "- the same distribution of sales seems to occur for the number of customers\n",
    "- most of the competitors appear to have opened in September, followed by April\n",
    "- promo2 is present in half of the available data\n",
    "- the year where the most beginning of promo2 occurred was 2013\n",
    "- promo2 seems to start more in the first half of the year (first 26 weeks)\n",
    "- there is no normal distribution"
   ]
  },
  {
   "cell_type": "markdown",
   "id": "1673ac9c-c8a9-4c85-ad3c-98563eec9b2b",
   "metadata": {
    "tags": []
   },
   "source": [
    "### 4.1.3 Categorical variable"
   ]
  },
  {
   "cell_type": "code",
   "execution_count": null,
   "id": "ed7164ed-dfc5-4d61-8905-8416bc8f1a1e",
   "metadata": {
    "execution": {
     "iopub.execute_input": "2021-08-13T11:29:11.316974Z",
     "iopub.status.busy": "2021-08-13T11:29:11.315974Z",
     "iopub.status.idle": "2021-08-13T11:29:29.054974Z",
     "shell.execute_reply": "2021-08-13T11:29:29.054974Z",
     "shell.execute_reply.started": "2021-08-13T11:29:11.316974Z"
    },
    "tags": []
   },
   "outputs": [],
   "source": [
    "plt.figure(figsize=(25,12))\n",
    "\n",
    "# state_holiday\n",
    "plt.subplot(3,2,1)\n",
    "sns.countplot(data = df4[df4['state_holiday'] != 'regular_day'],x = 'state_holiday')\n",
    "\n",
    "plt.subplot(3,2,2)\n",
    "sns.kdeplot(df4[df4['state_holiday'] == 'public_holiday']['sales'], label = 'public_holiday', shade=True)\n",
    "sns.kdeplot(df4[df4['state_holiday'] == 'easter_holiday']['sales'], label = 'easter_holiday', shade=True)\n",
    "sns.kdeplot(df4[df4['state_holiday'] == 'christmas']['sales'], label = 'christmas', shade=True)\n",
    "plt.legend()\n",
    "\n",
    "# store_type\n",
    "plt.subplot(3,2,3)\n",
    "sns.countplot(data = df4, x = 'store_type')\n",
    "\n",
    "plt.subplot(3,2,4)\n",
    "sns.kdeplot(df4[df4['store_type'] == 'a']['sales'], label = 'a', shade=True)\n",
    "sns.kdeplot(df4[df4['store_type'] == 'b']['sales'], label = 'b', shade=True)\n",
    "sns.kdeplot(df4[df4['store_type'] == 'c']['sales'], label = 'c', shade=True)\n",
    "sns.kdeplot(df4[df4['store_type'] == 'd']['sales'], label = 'd', shade=True)\n",
    "plt.legend()\n",
    "\n",
    "# assortment\n",
    "plt.subplot(3,2,5)\n",
    "sns.countplot(data = df4, x = 'assortment')\n",
    "\n",
    "plt.subplot(3,2,6)\n",
    "sns.kdeplot(df4[df4['assortment'] == 'extended']['sales'], label = 'extended', shade=True)\n",
    "sns.kdeplot(df4[df4['assortment'] == 'basic']['sales'], label = 'basic', shade=True)\n",
    "sns.kdeplot(df4[df4['assortment'] == 'extra']['sales'], label = 'extra', shade=True)\n",
    "\n",
    "plt.legend()\n",
    "\n",
    "plt.show()"
   ]
  },
  {
   "cell_type": "markdown",
   "id": "97ac83ac-451e-42bb-bf5d-51cf6560cd12",
   "metadata": {},
   "source": [
    "In the figure above, on the left, there is the amount of data present for the categorical variables: 'state_holiday' (excluding the 'regular_day' which is the most part of the data), 'store_type' and 'assortment'. <br> \n",
    "On the right, there is the distribution of the sales value of these same categorical variables in relation to the sales value, starting, therefore, the bivariate analysis that will be much more worked on in the next section, with the validation or refutation of the different hypotheses raised."
   ]
  },
  {
   "cell_type": "markdown",
   "id": "5fa7c8c6-2da1-4f8a-90c0-6d43724e3251",
   "metadata": {
    "tags": []
   },
   "source": [
    "## 4.2 Bivariate analysis"
   ]
  },
  {
   "cell_type": "markdown",
   "id": "dfad790c-9190-48a2-99cc-fff0b1421e91",
   "metadata": {},
   "source": [
    "All hypotheses prioritized in section 2.3 will be validated or refuted in this section."
   ]
  },
  {
   "cell_type": "markdown",
   "id": "06519ae2-f12c-4b1c-a851-0d1a8d14dacb",
   "metadata": {
    "tags": []
   },
   "source": [
    "### H1. Stores with a larger assortment should sell more\n",
    "\n",
    "**true:** stores with a larger assortment tend to sell more"
   ]
  },
  {
   "cell_type": "markdown",
   "id": "c454620d-d916-4444-a979-7f7ecd284005",
   "metadata": {},
   "source": [
    "First, the quantity of each store representing each assortment is observed."
   ]
  },
  {
   "cell_type": "code",
   "execution_count": null,
   "id": "dacc27fa-c625-4bed-8a7f-37fe96bf173d",
   "metadata": {
    "execution": {
     "iopub.execute_input": "2021-08-13T11:29:29.055974Z",
     "iopub.status.busy": "2021-08-13T11:29:29.055974Z",
     "iopub.status.idle": "2021-08-13T11:29:29.198974Z",
     "shell.execute_reply": "2021-08-13T11:29:29.197974Z",
     "shell.execute_reply.started": "2021-08-13T11:29:29.055974Z"
    },
    "tags": []
   },
   "outputs": [],
   "source": [
    "df4[['store','assortment']].drop_duplicates().groupby('assortment').count()"
   ]
  },
  {
   "cell_type": "markdown",
   "id": "e29dcf3c-17cd-4a62-890f-9310878a75be",
   "metadata": {},
   "source": [
    "As there is considerable variation, especially in relation to the \"extra\", we will carry out an analysis of the average performance for each of these types of assortment present in the stores."
   ]
  },
  {
   "cell_type": "code",
   "execution_count": null,
   "id": "5903599b-a128-4213-9889-70d806f73ad3",
   "metadata": {
    "execution": {
     "iopub.execute_input": "2021-08-13T11:29:29.199974Z",
     "iopub.status.busy": "2021-08-13T11:29:29.199974Z",
     "iopub.status.idle": "2021-08-13T11:29:29.432974Z",
     "shell.execute_reply": "2021-08-13T11:29:29.432974Z",
     "shell.execute_reply.started": "2021-08-13T11:29:29.199974Z"
    },
    "tags": []
   },
   "outputs": [],
   "source": [
    "df4[['assortment', 'sales']].groupby('assortment').describe()"
   ]
  },
  {
   "cell_type": "code",
   "execution_count": null,
   "id": "18c62644-0697-4607-85b1-7e6b1d6546e2",
   "metadata": {
    "execution": {
     "iopub.execute_input": "2021-08-13T11:29:29.434974Z",
     "iopub.status.busy": "2021-08-13T11:29:29.434974Z",
     "iopub.status.idle": "2021-08-13T11:29:29.934974Z",
     "shell.execute_reply": "2021-08-13T11:29:29.933974Z",
     "shell.execute_reply.started": "2021-08-13T11:29:29.434974Z"
    },
    "tags": []
   },
   "outputs": [],
   "source": [
    "plt.figure(figsize=(12,8))\n",
    "sns.barplot(x = 'assortment', y='sales', data = df4, estimator = np.mean, ci = 'sd',capsize=.2);"
   ]
  },
  {
   "cell_type": "markdown",
   "id": "72a77219-c12b-46bc-90dc-06e16442d845",
   "metadata": {},
   "source": [
    "To investigate the seasonal effect of such sales in relation to different types of assortment we can create a time series."
   ]
  },
  {
   "cell_type": "code",
   "execution_count": null,
   "id": "834b628b-0e4d-4066-a8d9-0f84c98f6b0f",
   "metadata": {
    "execution": {
     "iopub.execute_input": "2021-08-13T11:29:29.935974Z",
     "iopub.status.busy": "2021-08-13T11:29:29.935974Z",
     "iopub.status.idle": "2021-08-13T11:29:30.451974Z",
     "shell.execute_reply": "2021-08-13T11:29:30.451974Z",
     "shell.execute_reply.started": "2021-08-13T11:29:29.935974Z"
    },
    "tags": []
   },
   "outputs": [],
   "source": [
    "aux1 = df4[['year_week', 'assortment', 'sales']].groupby(['year_week','assortment']).mean().reset_index()\n",
    "aux1.pivot(index='year_week', columns = 'assortment', values='sales').plot(figsize=(25,10));"
   ]
  },
  {
   "cell_type": "markdown",
   "id": "d58d1e38-178d-4608-9e8f-34f939622b12",
   "metadata": {},
   "source": [
    "Apparently, there is an increase of the sales as time passes for stores with \"extra\" assortment in relation to those with \"basic\" and \"extended\" assortment.\n",
    "When observing the monthly moving average (4 weeks) this effect becomes clearer."
   ]
  },
  {
   "cell_type": "code",
   "execution_count": null,
   "id": "66275b18-4228-4e12-9b26-710a7601a310",
   "metadata": {
    "execution": {
     "iopub.execute_input": "2021-08-13T11:29:30.453974Z",
     "iopub.status.busy": "2021-08-13T11:29:30.452974Z",
     "iopub.status.idle": "2021-08-13T11:29:30.909974Z",
     "shell.execute_reply": "2021-08-13T11:29:30.909974Z",
     "shell.execute_reply.started": "2021-08-13T11:29:30.453974Z"
    },
    "tags": []
   },
   "outputs": [],
   "source": [
    "aux1 = df4[['year_week', 'assortment', 'sales']].groupby(['year_week','assortment']).mean().reset_index()\n",
    "aux2 = aux1.pivot(index='year_week', columns = 'assortment', values='sales').reset_index()\n",
    "\n",
    "aux2['rolling_basic'] = aux2['basic'].rolling(4).mean()\n",
    "aux2['rolling_extended'] = aux2['extended'].rolling(4).mean()\n",
    "aux2['rolling_extra'] = aux2['extra'].rolling(4).mean()\n",
    "aux2 = aux2.set_index('year_week')[['rolling_basic','rolling_extended','rolling_extra' ]]\n",
    "aux2.plot(figsize=(25,10));\n"
   ]
  },
  {
   "cell_type": "markdown",
   "id": "6186837a-3075-4ef6-82d6-50a6173b1d79",
   "metadata": {},
   "source": [
    "The hypothesis H1: **\"FALSE, stores with a larger assortment tend to sell more\"**"
   ]
  },
  {
   "cell_type": "markdown",
   "id": "ef8244b5-5bf8-4900-a201-c6c14ce52dda",
   "metadata": {},
   "source": [
    "It is important to be careful when choosing the statistical function behind each of these graphs. Some people use the function \"sum\" instead of \"mean\", which completely reverse the analysis:\n",
    "\n",
    "- sales from stores with the \"basic\" assortment seemed to be higher compared to the \"extended\" assortment;\n",
    "- sales from stores with \"extra\" assortment appeared to be negligible\n",
    "\n",
    "See the graphics below:"
   ]
  },
  {
   "cell_type": "code",
   "execution_count": null,
   "id": "dfb6830c-cbc1-4193-905b-6d81037c94a0",
   "metadata": {
    "execution": {
     "iopub.execute_input": "2021-08-13T11:29:30.911974Z",
     "iopub.status.busy": "2021-08-13T11:29:30.911974Z",
     "iopub.status.idle": "2021-08-13T11:29:31.525974Z",
     "shell.execute_reply": "2021-08-13T11:29:31.525974Z",
     "shell.execute_reply.started": "2021-08-13T11:29:30.911974Z"
    },
    "tags": []
   },
   "outputs": [],
   "source": [
    "plt.figure(figsize=(8,6))\n",
    "sns.barplot(x = 'assortment', y='sales', data=df4[['assortment', 'sales']].groupby('assortment').sum().reset_index());\n",
    "\n",
    "aux1 = df4[['year_week', 'assortment', 'sales']].groupby(['year_week','assortment']).sum().reset_index()\n",
    "aux1.pivot(index='year_week', columns = 'assortment', values='sales').plot(figsize=(10,6));"
   ]
  },
  {
   "cell_type": "markdown",
   "id": "1414a905-34f6-4ed5-8409-bea2fca66901",
   "metadata": {
    "tags": []
   },
   "source": [
    "### H2. Stores with closer competitors should sell less\n",
    "**false:** no, stores with closer competitors do not sell less (or more) than stores with more distant competitors\n"
   ]
  },
  {
   "cell_type": "markdown",
   "id": "a207a0b8-04ea-447a-a06d-ea15b8ea3bde",
   "metadata": {},
   "source": [
    "When plotting the average sales value in different small distance interval groupings, the following distribution is obtained:"
   ]
  },
  {
   "cell_type": "markdown",
   "id": "561bc59c",
   "metadata": {},
   "source": [
    "Using 'MEAN()'"
   ]
  },
  {
   "cell_type": "code",
   "execution_count": null,
   "id": "6721e005-b262-41d8-bf8f-b9a49bef7edc",
   "metadata": {
    "execution": {
     "iopub.execute_input": "2021-08-13T11:29:31.526974Z",
     "iopub.status.busy": "2021-08-13T11:29:31.526974Z",
     "iopub.status.idle": "2021-08-13T11:29:35.853974Z",
     "shell.execute_reply": "2021-08-13T11:29:35.853974Z",
     "shell.execute_reply.started": "2021-08-13T11:29:31.526974Z"
    },
    "tags": []
   },
   "outputs": [],
   "source": [
    "aux1 = df4[['competition_distance','sales']].groupby('competition_distance').mean().reset_index()\n",
    "bins = list(np.arange(0,80000, 1000))\n",
    "aux1['competition_distance_binned'] = pd.cut(df4['competition_distance'], bins = bins)\n",
    "aux2 = aux1[['competition_distance_binned','sales']].groupby('competition_distance_binned').mean().reset_index()\n",
    "plt.figure(figsize=(25,12))\n",
    "plt.subplot(4,1,1)\n",
    "plt.subplots_adjust(hspace=.4)\n",
    "sns.barplot(data=aux2, x='competition_distance_binned', y='sales')\n",
    "plt.xlabel(\"\")\n",
    "plt.xticks(rotation=90)\n",
    "\n",
    "plt.subplot(4,1,2)\n",
    "aux1 = df4[['competition_distance','sales']].groupby('competition_distance').mean().reset_index()\n",
    "sns.scatterplot(x = 'competition_distance', y='sales', data=aux1)\n",
    "plt.xlim(-1000,201000);\n",
    "\n",
    "\n"
   ]
  },
  {
   "cell_type": "code",
   "execution_count": null,
   "id": "13a28dd2-33e1-4a92-85ff-dfe3ed37f335",
   "metadata": {
    "execution": {
     "iopub.execute_input": "2021-08-13T11:29:35.855974Z",
     "iopub.status.busy": "2021-08-13T11:29:35.855974Z",
     "iopub.status.idle": "2021-08-13T11:29:36.048974Z",
     "shell.execute_reply": "2021-08-13T11:29:36.048974Z",
     "shell.execute_reply.started": "2021-08-13T11:29:35.855974Z"
    },
    "tags": []
   },
   "outputs": [],
   "source": [
    "plt.figure(figsize=(10,6))\n",
    "sns.heatmap(aux1.corr(method='pearson'),annot=True);"
   ]
  },
  {
   "cell_type": "markdown",
   "id": "95ad69e3",
   "metadata": {},
   "source": [
    "Using 'SUM()'"
   ]
  },
  {
   "cell_type": "code",
   "execution_count": null,
   "id": "1e414494",
   "metadata": {},
   "outputs": [],
   "source": [
    "aux1 = df4[['competition_distance','sales']].groupby('competition_distance').sum().reset_index()\n",
    "bins = list(np.arange(0,80000, 1000))\n",
    "aux1['competition_distance_binned'] = pd.cut(df4['competition_distance'], bins = bins)\n",
    "aux2 = aux1[['competition_distance_binned','sales']].groupby('competition_distance_binned').sum().reset_index()\n",
    "plt.figure(figsize=(25,12))\n",
    "plt.subplot(2,1,1)\n",
    "plt.subplots_adjust(hspace=.4)\n",
    "sns.barplot(data=aux2, x='competition_distance_binned', y='sales')\n",
    "plt.xlabel(\"\")\n",
    "plt.xticks(rotation=90)\n",
    "\n",
    "plt.subplot(2,1,2)\n",
    "aux1 = df4[['competition_distance','sales']].groupby('competition_distance').sum().reset_index()\n",
    "sns.scatterplot(x = 'competition_distance', y='sales', data=aux1)\n",
    "plt.xlim(-1000,201000);"
   ]
  },
  {
   "cell_type": "markdown",
   "id": "033a2c7e-45b2-412f-ac2a-30b464282fed",
   "metadata": {},
   "source": [
    "From the charts above, there is no apparent correlation between the average sales value and the distance to the nearest competitor. This observation is confirmed by plotting the Pearson correlation graph below:"
   ]
  },
  {
   "cell_type": "code",
   "execution_count": null,
   "id": "abd88afe-ad69-46fc-a245-ed3e5d4d03ce",
   "metadata": {
    "execution": {
     "iopub.execute_input": "2021-08-13T11:29:36.052974Z",
     "iopub.status.busy": "2021-08-13T11:29:36.049974Z",
     "iopub.status.idle": "2021-08-13T11:29:36.530974Z",
     "shell.execute_reply": "2021-08-13T11:29:36.529974Z",
     "shell.execute_reply.started": "2021-08-13T11:29:36.052974Z"
    },
    "tags": []
   },
   "outputs": [],
   "source": [
    "sns.heatmap(aux1.corr(method='pearson'),annot=True)\n",
    "plt.show()\n",
    "                "
   ]
  },
  {
   "cell_type": "markdown",
   "id": "cf41273c-444d-4359-8b62-86ad03d61fe7",
   "metadata": {
    "execution": {
     "iopub.execute_input": "2021-06-20T20:45:53.490400Z",
     "iopub.status.busy": "2021-06-20T20:45:53.490400Z",
     "iopub.status.idle": "2021-06-20T20:45:53.496400Z",
     "shell.execute_reply": "2021-06-20T20:45:53.495400Z",
     "shell.execute_reply.started": "2021-06-20T20:45:53.490400Z"
    }
   },
   "source": [
    "The hypothesis H2: **\"FALSE, stores with closer competitors do not sell less (or more) than stores with more distant competitors\"**."
   ]
  },
  {
   "cell_type": "markdown",
   "id": "71d75766-dffc-45c6-9497-7035a7d068bc",
   "metadata": {},
   "source": [
    "The same comment at the end of H1 is made here: if instead of considering the average, the sum of sales is considered, the analyzes would be completely different:"
   ]
  },
  {
   "cell_type": "markdown",
   "id": "be2f5d30-32e0-4918-9741-7e9057f52907",
   "metadata": {
    "tags": []
   },
   "source": [
    "### H3. Stores with longer-standing competitors should sell more\n",
    "**false:** no, stores with longer-standing competitors do not sell more than stores with more recently opened competitors"
   ]
  },
  {
   "cell_type": "markdown",
   "id": "cc1e8179-8b46-4149-a236-7f9609865935",
   "metadata": {},
   "source": [
    "When plotting the time that the closest competitor is open, the following distribution is obtained:"
   ]
  },
  {
   "cell_type": "code",
   "execution_count": null,
   "id": "869e2d5c-8687-4a75-8d31-af732df40bec",
   "metadata": {
    "execution": {
     "iopub.execute_input": "2021-08-13T11:29:36.531974Z",
     "iopub.status.busy": "2021-08-13T11:29:36.531974Z",
     "iopub.status.idle": "2021-08-13T11:29:40.675974Z",
     "shell.execute_reply": "2021-08-13T11:29:40.675974Z",
     "shell.execute_reply.started": "2021-08-13T11:29:36.531974Z"
    },
    "tags": []
   },
   "outputs": [],
   "source": [
    "aux1 = df4[['competition_time_month', 'sales']].groupby('competition_time_month').mean().reset_index()\n",
    "aux2 = aux1[(aux1['competition_time_month'] < 120) & (aux1['competition_time_month'] != 0)]\n",
    "\n",
    "plt.figure(figsize=(25,8))\n",
    "plt.subplot(2,1,1)\n",
    "sns.barplot(x='competition_time_month', y='sales', data=aux2);\n",
    "plt.xticks(rotation=90);\n",
    "\n",
    "plt.subplot(2,1,2)\n",
    "sns.regplot(x='competition_time_month', y='sales', data=aux2);"
   ]
  },
  {
   "cell_type": "markdown",
   "id": "286266a8-ae91-47ff-9826-dcb600a83a01",
   "metadata": {},
   "source": [
    "Negative x-axis values are due to sales records before the current nearest competitor opens. <br>\n",
    "We noticed that there are records of higher sales trend in the twelve months before competitors open. <br>\n",
    "Also, once the competitor opens, sales begin a downward trend, with no significant recovery being observed for at least the first 120 months (10 years) of the open competitor. <br>\n",
    "Such a trend is also suggested in the Pearson correlation below:"
   ]
  },
  {
   "cell_type": "code",
   "execution_count": null,
   "id": "c4a0a1b6-7b77-4019-a1a5-03145346b973",
   "metadata": {
    "execution": {
     "iopub.execute_input": "2021-08-13T11:29:40.676974Z",
     "iopub.status.busy": "2021-08-13T11:29:40.676974Z",
     "iopub.status.idle": "2021-08-13T11:29:40.851974Z",
     "shell.execute_reply": "2021-08-13T11:29:40.851974Z",
     "shell.execute_reply.started": "2021-08-13T11:29:40.676974Z"
    },
    "tags": []
   },
   "outputs": [],
   "source": [
    "plt.figure(figsize=(10,6))\n",
    "sns.heatmap(aux2.corr(method='pearson'),annot=True);"
   ]
  },
  {
   "cell_type": "markdown",
   "id": "78c7a2ea-af71-4948-9df6-dd78391d2987",
   "metadata": {
    "execution": {
     "iopub.execute_input": "2021-06-20T21:32:14.796400Z",
     "iopub.status.busy": "2021-06-20T21:32:14.796400Z",
     "iopub.status.idle": "2021-06-20T21:32:14.802400Z",
     "shell.execute_reply": "2021-06-20T21:32:14.801400Z",
     "shell.execute_reply.started": "2021-06-20T21:32:14.796400Z"
    }
   },
   "source": [
    "The verdict of hypothesis H3 is that **\"no, stores with longer-term competitors do not sell more than stores with more recently opened competitors\"**."
   ]
  },
  {
   "cell_type": "markdown",
   "id": "1750e511-2a4e-4cb6-94c0-b6e2dc1d5fd3",
   "metadata": {
    "tags": []
   },
   "source": [
    "### H4. Stores where products cost less for longer (active promotions) should sell more\n",
    "**true:** yes, stores where products cost (or have cost) less for longer tend to sell more"
   ]
  },
  {
   "cell_type": "code",
   "execution_count": null,
   "id": "25b2add3-630f-4751-bc82-a97b73dc819f",
   "metadata": {
    "execution": {
     "iopub.execute_input": "2021-08-13T11:29:40.853974Z",
     "iopub.status.busy": "2021-08-13T11:29:40.853974Z",
     "iopub.status.idle": "2021-08-13T11:29:52.810974Z",
     "shell.execute_reply": "2021-08-13T11:29:52.809974Z",
     "shell.execute_reply.started": "2021-08-13T11:29:40.853974Z"
    },
    "tags": []
   },
   "outputs": [],
   "source": [
    "aux1 = df4[['promo_time_week','sales']].groupby('promo_time_week').mean().reset_index()\n",
    "\n",
    "plt.figure(figsize=(25,10))\n",
    "plt.subplot(4,1,1)\n",
    "aux2 = aux1[aux1['promo_time_week'] < 0] # sales in stores that have never had any extended promotions\n",
    "plt.xticks(rotation = 90)\n",
    "plt.ylim(0,10000)\n",
    "sns.barplot(x='promo_time_week', y='sales', data=aux2);\n",
    "\n",
    "plt.subplots_adjust(hspace=.4)\n",
    "plt.subplot(4,1,2)\n",
    "sns.regplot(x='promo_time_week', y='sales', data=aux2);\n",
    "\n",
    "plt.subplots_adjust(hspace=.4)\n",
    "plt.subplot(4,1,3)\n",
    "aux3 = aux1[aux1['promo_time_week'] > 0] # sales in stores that have already had an extended promotion\n",
    "plt.xticks(rotation = 90)\n",
    "plt.ylim(0,10000)\n",
    "sns.barplot(x='promo_time_week', y='sales', data=aux3);\n",
    "\n",
    "plt.subplots_adjust(hspace=.4)\n",
    "plt.subplot(4,1,4)\n",
    "sns.regplot(x='promo_time_week', y='sales', data=aux3);\n",
    "\n"
   ]
  },
  {
   "cell_type": "markdown",
   "id": "76c53476-2a2a-42f6-8ac3-917cafb29b63",
   "metadata": {},
   "source": [
    "On average, sales that occurred in stores that never adopted the promo2 were constant; on the other hand, sales that occurred in stores that have already adopted the promo2 show a tendency, albeit timid, to increase over time. The Pearson correlation shown below complements the analysis:"
   ]
  },
  {
   "cell_type": "code",
   "execution_count": null,
   "id": "9e7152df-61ba-4658-a6d9-ad21aa9652cb",
   "metadata": {
    "execution": {
     "iopub.execute_input": "2021-08-13T11:29:52.812974Z",
     "iopub.status.busy": "2021-08-13T11:29:52.812974Z",
     "iopub.status.idle": "2021-08-13T11:29:53.053974Z",
     "shell.execute_reply": "2021-08-13T11:29:53.052974Z",
     "shell.execute_reply.started": "2021-08-13T11:29:52.812974Z"
    },
    "tags": []
   },
   "outputs": [],
   "source": [
    "plt.figure(figsize=(10,6))\n",
    "sns.heatmap(aux1.corr(method='pearson'), annot = True);"
   ]
  },
  {
   "cell_type": "markdown",
   "id": "e0aab97d-119d-4fff-a879-66d014dd2294",
   "metadata": {
    "execution": {
     "iopub.execute_input": "2021-06-21T11:35:49.499232Z",
     "iopub.status.busy": "2021-06-21T11:35:49.499232Z",
     "iopub.status.idle": "2021-06-21T11:35:49.504232Z",
     "shell.execute_reply": "2021-06-21T11:35:49.503232Z",
     "shell.execute_reply.started": "2021-06-21T11:35:49.499232Z"
    }
   },
   "source": [
    "Hypothesis H4's verdict is that **\"yes, stores where products cost (or have cost) less for longer tend to sell more\"**"
   ]
  },
  {
   "cell_type": "markdown",
   "id": "ee2a29a8-15d4-4d95-8033-a81b2ec17faf",
   "metadata": {
    "tags": []
   },
   "source": [
    "### <s> H5. Stores with more promotion days should sell more </s>\n"
   ]
  },
  {
   "cell_type": "markdown",
   "id": "d93ec2d2-6a4f-4c8c-98b2-ff9f9c075821",
   "metadata": {},
   "source": [
    "As it is very similar to H4, it will be evaluated in the next CRISP cycle if necessary."
   ]
  },
  {
   "cell_type": "markdown",
   "id": "9182bec7-32e6-4053-947b-8557b7677338",
   "metadata": {
    "tags": []
   },
   "source": [
    "### H6. Stores with more extended promotions should sell more\n",
    "**false:** no stores that have a higher amount of extended promotions tend to sell less, on average, compared to stores that only feature the traditional promotion."
   ]
  },
  {
   "cell_type": "markdown",
   "id": "233dbfa9-d1b0-4d8d-ac0c-aacd4e98c90b",
   "metadata": {},
   "source": [
    "On average, it appears that stores that adhered to promo1 tend to sell more than promo2 (which is the extended promotion), according to table below."
   ]
  },
  {
   "cell_type": "code",
   "execution_count": null,
   "id": "a2560f8a-64d8-46cd-ac14-84cb5cf73956",
   "metadata": {
    "execution": {
     "iopub.execute_input": "2021-08-13T11:29:53.054974Z",
     "iopub.status.busy": "2021-08-13T11:29:53.054974Z",
     "iopub.status.idle": "2021-08-13T11:29:53.201974Z",
     "shell.execute_reply": "2021-08-13T11:29:53.201974Z",
     "shell.execute_reply.started": "2021-08-13T11:29:53.054974Z"
    },
    "tags": []
   },
   "outputs": [],
   "source": [
    "df4[['promo','promo2','sales']].groupby(['promo','promo2']).mean().reset_index().sort_values(by='sales')"
   ]
  },
  {
   "cell_type": "markdown",
   "id": "7582036f-21fc-4c68-a623-ed6185f74fac",
   "metadata": {},
   "source": [
    "Next, it will be analyzed whether we notice any change in behavior over time."
   ]
  },
  {
   "cell_type": "code",
   "execution_count": null,
   "id": "508ab6d6-c3a8-44ee-9661-e2302d8d54db",
   "metadata": {
    "execution": {
     "iopub.execute_input": "2021-08-13T11:29:53.203974Z",
     "iopub.status.busy": "2021-08-13T11:29:53.202974Z",
     "iopub.status.idle": "2021-08-13T11:29:53.734974Z",
     "shell.execute_reply": "2021-08-13T11:29:53.734974Z",
     "shell.execute_reply.started": "2021-08-13T11:29:53.203974Z"
    },
    "tags": []
   },
   "outputs": [],
   "source": [
    "aux1 = df4[(df4['promo'] == 1) & (df4['promo2'] == 1)][['year_week','sales']].groupby('year_week').mean().reset_index()\n",
    "aux1.set_index('year_week',inplace=True)\n",
    "ax = aux1.plot()\n",
    "\n",
    "aux2 = df4[(df4['promo'] == 1) & (df4['promo2'] == 0)][['year_week','sales']].groupby('year_week').mean().reset_index()\n",
    "aux2.set_index('year_week',inplace=True)\n",
    "aux2.plot(ax=ax, figsize=(20,10),xlabel='year_week',ylabel='sales')\n",
    "\n",
    "ax.legend(labels=['traditional & extended', 'traditional'])\n",
    "plt.show()"
   ]
  },
  {
   "cell_type": "markdown",
   "id": "b2aa984d-c002-45af-baa8-f1ba68b93979",
   "metadata": {},
   "source": [
    "Sales under the traditional promotion alone have always been equally higher than sales under the traditional and extended promotions at the same time during the period available in the dataset."
   ]
  },
  {
   "cell_type": "markdown",
   "id": "e7b4a9c4-17b6-4494-9639-9b9a56c88692",
   "metadata": {},
   "source": [
    "Hypothesis H6's verdict is that **\"no, stores that feature more extended promotions tend to sell less, on average, compared to stores that feature only the traditional promotion\"**."
   ]
  },
  {
   "cell_type": "markdown",
   "id": "e9f064c4-b58b-49dd-848a-2a7c0c3835af",
   "metadata": {
    "tags": []
   },
   "source": [
    "### H7. Stores open during Christmas holiday should sell more\n",
    "**true**: yes, sales during the Christmas holiday are possibly more expressive compared to sales on public holidays and common days, only losing or tying with the Easter holiday."
   ]
  },
  {
   "cell_type": "code",
   "execution_count": null,
   "id": "7b9f8f0b-5191-416f-8fb3-1fffdfa44da2",
   "metadata": {
    "execution": {
     "iopub.execute_input": "2021-08-13T11:29:53.736974Z",
     "iopub.status.busy": "2021-08-13T11:29:53.735974Z",
     "iopub.status.idle": "2021-08-13T11:30:21.817974Z",
     "shell.execute_reply": "2021-08-13T11:30:21.816974Z",
     "shell.execute_reply.started": "2021-08-13T11:29:53.736974Z"
    },
    "tags": []
   },
   "outputs": [],
   "source": [
    "plt.figure(figsize=(12,8))\n",
    "sns.barplot(x='state_holiday', y='sales', data=df4, estimator = np.mean, capsize=.2)\n",
    "plt.show()"
   ]
  },
  {
   "cell_type": "markdown",
   "id": "9278f9c7-360c-4422-8652-7cbcc4ca29a8",
   "metadata": {},
   "source": [
    "Note that the Christmas holiday, accompanied by Easter, are the two holidays where sales, on average, are higher.\n",
    "Next, an analysis will be carried out over the years."
   ]
  },
  {
   "cell_type": "code",
   "execution_count": null,
   "id": "80b0f7d6-79ad-44ef-b8b5-2a2e5f2aa0af",
   "metadata": {
    "execution": {
     "iopub.execute_input": "2021-08-13T11:30:21.818974Z",
     "iopub.status.busy": "2021-08-13T11:30:21.818974Z",
     "iopub.status.idle": "2021-08-13T11:30:46.488974Z",
     "shell.execute_reply": "2021-08-13T11:30:46.487974Z",
     "shell.execute_reply.started": "2021-08-13T11:30:21.818974Z"
    },
    "tags": []
   },
   "outputs": [],
   "source": [
    "plt.figure(figsize=(12,8))\n",
    "sns.barplot(x='year', y='sales', hue='state_holiday', data=df4, estimator = np.mean, capsize=.1)\n",
    "plt.show()"
   ]
  },
  {
   "cell_type": "markdown",
   "id": "fb47b6c4-bca3-4bd7-a166-d305971d11df",
   "metadata": {},
   "source": [
    "From the figure above, apparently the sales during Christmas 2014 was more expressive compared to Christmas 2013. And in 2015 it's as if the year was under construction, as the last day of the data is on 07/31/2015, so it ends before Christmas."
   ]
  },
  {
   "cell_type": "markdown",
   "id": "99ddb645-1c04-4937-a2d2-7b43cdacc3cb",
   "metadata": {},
   "source": [
    "Hypothesis H7's verdict is that **\"yes, sales during the Christmas holiday are possibly more expressive compared to sales on public holidays and common days, only losing or tying with the Easter holiday\"**."
   ]
  },
  {
   "cell_type": "markdown",
   "id": "d598c0da-744d-4c3e-8c23-2333f9699b54",
   "metadata": {
    "tags": []
   },
   "source": [
    "###  H8. Stores should sell more over the years\n"
   ]
  },
  {
   "cell_type": "markdown",
   "id": "98b0a3f2-66a1-4e83-bdfe-62b7fc9de64f",
   "metadata": {
    "execution": {
     "iopub.execute_input": "2021-06-23T00:51:54.949400Z",
     "iopub.status.busy": "2021-06-23T00:51:54.948400Z",
     "iopub.status.idle": "2021-06-23T00:51:54.955400Z",
     "shell.execute_reply": "2021-06-23T00:51:54.954400Z",
     "shell.execute_reply.started": "2021-06-23T00:51:54.949400Z"
    }
   },
   "source": [
    "**inconclusive:** as there are only 2-year data (2013 and 2014), this hypothesis cannot be affirmed or refuted. However, it can be said that, on average, sales in 2014 were higher than in 2013\"."
   ]
  },
  {
   "cell_type": "code",
   "execution_count": null,
   "id": "b88005e2-c614-45a8-a623-cca984f51e01",
   "metadata": {
    "execution": {
     "iopub.execute_input": "2021-08-13T11:30:46.489974Z",
     "iopub.status.busy": "2021-08-13T11:30:46.489974Z",
     "iopub.status.idle": "2021-08-13T11:33:49.444974Z",
     "shell.execute_reply": "2021-08-13T11:33:49.443974Z",
     "shell.execute_reply.started": "2021-08-13T11:30:46.489974Z"
    },
    "tags": []
   },
   "outputs": [],
   "source": [
    "aux1 = df4[['year','sales']].groupby('year').mean().reset_index()\n",
    "\n",
    "plt.figure(figsize=(20,8))\n",
    "\n",
    "plt.subplot(1,3,1)\n",
    "sns.barplot(x='year', y='sales', data=df4, estimator = np.mean, capsize=.1)\n",
    "\n",
    "plt.subplot(1,3,2)\n",
    "sns.regplot(x='year', y='sales', data=df4, x_estimator=np.mean)\n",
    "plt.xlim(2012.5, 2015.5)\n",
    "plt.xticks([2013,2014,2015])\n",
    "\n",
    "plt.subplot(1,3,3)\n",
    "sns.heatmap(aux1.corr(method='pearson'), annot=True)\n",
    "plt.show()"
   ]
  },
  {
   "cell_type": "markdown",
   "id": "5765555b-f7ec-42ea-aefa-fb4a486067aa",
   "metadata": {},
   "source": [
    "There are only 2 years with data from 01/01 to 31/12, which is 2013 and 2014. So this is not a comprehensive analysis; in 2015, average sales are not taking into account the second half. <br>\n",
    "We can say that, on average, stores sold more in 2014 compared to 2013. <br> \n",
    "It is noteworthy that this analysis will hardly be an insight, since sales should be one of the metrics already monitored by the company."
   ]
  },
  {
   "cell_type": "markdown",
   "id": "55cc92d8-e816-44b4-9f68-54a6791fcba4",
   "metadata": {},
   "source": [
    "Hypothesis H8's verdict is that it is **\"inconclusive, as there are only 2-year data (2013 and 2014), this hypothesis cannot be affirmed or refuted. However, it can be said that, on average, sales in 2014 were higher than in 2013\"**."
   ]
  },
  {
   "cell_type": "markdown",
   "id": "7042957a-1533-4adc-af74-0f34bcf622e2",
   "metadata": {
    "tags": []
   },
   "source": [
    "### H9. Stores should sell more in the second half of the year\n",
    "**false:** it is not possible to say that there are more sales in the second semester; although the average is slightly higher, the fluctuation is higher\n"
   ]
  },
  {
   "cell_type": "code",
   "execution_count": null,
   "id": "6e0f87cd-8f86-4c4d-84eb-eaa2ea186d25",
   "metadata": {
    "execution": {
     "iopub.execute_input": "2021-08-13T11:33:49.445974Z",
     "iopub.status.busy": "2021-08-13T11:33:49.445974Z",
     "iopub.status.idle": "2021-08-13T11:36:22.787974Z",
     "shell.execute_reply": "2021-08-13T11:36:22.786974Z",
     "shell.execute_reply.started": "2021-08-13T11:33:49.445974Z"
    },
    "tags": []
   },
   "outputs": [],
   "source": [
    "aux1 = df4[['month','sales']].groupby('month').mean().reset_index()\n",
    "\n",
    "plt.figure(figsize=(20,8))\n",
    "\n",
    "plt.subplot(1,3,1)\n",
    "sns.barplot(x='month', y='sales', data=df4, estimator = np.mean, capsize=.1)\n",
    "\n",
    "plt.subplot(1,3,2)\n",
    "sns.regplot(x='month', y='sales', data=df4, x_estimator=np.mean)\n",
    "plt.xlim(0.5, 12.5)\n",
    "plt.xticks([1,2,3,4,5,6,7,8,9,10,11,12])\n",
    "plt.xlabel\n",
    "\n",
    "plt.subplot(1,3,3)\n",
    "sns.heatmap(aux1.corr(method='pearson'), annot=True)\n",
    "plt.show()"
   ]
  },
  {
   "cell_type": "markdown",
   "id": "4279ab12-b7a6-4773-bb82-a14d8744205d",
   "metadata": {},
   "source": [
    "Note that the second half of the year concentrate months with low sales (September and October) and months with high sales (November and December)\n",
    "For now, it is inconclusive to say that in the second half it sells more or less compared to the first. For this, a new analysis can be performed:"
   ]
  },
  {
   "cell_type": "code",
   "execution_count": null,
   "id": "31549ee3-d336-454f-96ff-f70d88eecd33",
   "metadata": {
    "execution": {
     "iopub.execute_input": "2021-08-13T11:36:22.788974Z",
     "iopub.status.busy": "2021-08-13T11:36:22.788974Z",
     "iopub.status.idle": "2021-08-13T11:36:23.051974Z",
     "shell.execute_reply": "2021-08-13T11:36:23.050974Z",
     "shell.execute_reply.started": "2021-08-13T11:36:22.788974Z"
    },
    "tags": []
   },
   "outputs": [],
   "source": [
    "x = lambda x: 'first semester' if x in [1,2,3,4,5,6] else 'second semester'\n",
    "aux1['semester'] = aux1['month'].apply(x)\n",
    "plt.figure(figsize=(10,8))\n",
    "sns.barplot(x='semester', y='sales', data=aux1, estimator = np.mean, capsize=.1)\n",
    "plt.show()"
   ]
  },
  {
   "cell_type": "markdown",
   "id": "6b3d9694-515f-4512-97c1-3d2b729c2d78",
   "metadata": {},
   "source": [
    "Hypothesis H9's verdict is that it is **\"false, as it is not possible to say that there are more sales in the second half; although the average is slightly higher, the fluctuation is greater, as previously commented\"**."
   ]
  },
  {
   "cell_type": "markdown",
   "id": "d7df5fc5-349b-4d94-8ae8-2ad0b4ac4e51",
   "metadata": {
    "tags": []
   },
   "source": [
    "### H10. Stores should sell more after the 10th day of each month\n",
    "**false:** before the 10th day of each month, stores sell slightly more"
   ]
  },
  {
   "cell_type": "code",
   "execution_count": null,
   "id": "37aeb873-4f00-48d6-9414-4948e39baba1",
   "metadata": {
    "execution": {
     "iopub.execute_input": "2021-08-13T11:36:23.053974Z",
     "iopub.status.busy": "2021-08-13T11:36:23.052974Z",
     "iopub.status.idle": "2021-08-13T11:38:55.515974Z",
     "shell.execute_reply": "2021-08-13T11:38:55.515974Z",
     "shell.execute_reply.started": "2021-08-13T11:36:23.053974Z"
    },
    "tags": []
   },
   "outputs": [],
   "source": [
    "aux1 = df4[['day','sales']].groupby('day').mean().reset_index()\n",
    "\n",
    "plt.figure(figsize=(20,16))\n",
    "\n",
    "plt.subplot(2,2,1)\n",
    "sns.barplot(x='day', y='sales', data=df4, estimator = np.mean, capsize=.1)\n",
    "\n",
    "plt.subplot(2,2,2)\n",
    "sns.regplot(x='day', y='sales', data=df4, x_estimator=np.mean)\n",
    "plt.xlim(0.5, 31.5)\n",
    "plt.xlabel\n",
    "\n",
    "plt.subplot(2,2,3)\n",
    "sns.heatmap(aux1.corr(method='pearson'), annot=True)\n",
    "\n",
    "\n",
    "x = lambda x: 'before day 10' if x <= 10 else 'after day 10'\n",
    "aux1['before_after'] = aux1['day'].apply(x)\n",
    "plt.subplot(2,2,4)\n",
    "sns.barplot(x='before_after', y='sales', data=aux1, estimator = np.mean, capsize=.1)\n",
    "\n",
    "\n",
    "plt.show()"
   ]
  },
  {
   "cell_type": "markdown",
   "id": "450e4f6c-fcab-4826-9cb8-c291f88ecaeb",
   "metadata": {},
   "source": [
    "After analyzing the composition of the 4 graphs of this hypothesis, it is noted that before the 10th, on average, stores sell more. <br>\n",
    "Highlight for sales in the first days of each month, although relatively high, in an almost constant fall until the 10th. It is also noticed that sales increase more towards the end of the month."
   ]
  },
  {
   "cell_type": "markdown",
   "id": "541b45a4-d192-40b5-8aaf-4118226f4f1b",
   "metadata": {
    "execution": {
     "iopub.execute_input": "2021-06-23T03:06:47.139400Z",
     "iopub.status.busy": "2021-06-23T03:06:47.139400Z",
     "iopub.status.idle": "2021-06-23T03:06:47.145400Z",
     "shell.execute_reply": "2021-06-23T03:06:47.144400Z",
     "shell.execute_reply.started": "2021-06-23T03:06:47.139400Z"
    }
   },
   "source": [
    "The verdict of hypothesis H10 is that it is **\"false, because before the 10th, stores sell slightly more\"**."
   ]
  },
  {
   "cell_type": "markdown",
   "id": "6a575bb3-35da-4174-ab37-9e2362f4b80c",
   "metadata": {
    "tags": []
   },
   "source": [
    "### H11. Stores should sell less on weekends\n",
    "**true:** on weekends, in total, stores sell less"
   ]
  },
  {
   "cell_type": "code",
   "execution_count": null,
   "id": "a982447a-aea2-4ba2-954d-7468ee2fca31",
   "metadata": {
    "execution": {
     "iopub.execute_input": "2021-08-13T11:38:55.517974Z",
     "iopub.status.busy": "2021-08-13T11:38:55.517974Z",
     "iopub.status.idle": "2021-08-13T11:41:51.122974Z",
     "shell.execute_reply": "2021-08-13T11:41:51.121974Z",
     "shell.execute_reply.started": "2021-08-13T11:38:55.517974Z"
    },
    "tags": []
   },
   "outputs": [],
   "source": [
    "aux1 = df4[['day_of_week','sales']].groupby('day_of_week').mean().reset_index()\n",
    "\n",
    "plt.figure(figsize=(20,8))\n",
    "\n",
    "plt.subplot(1,3,1)\n",
    "sns.barplot(x='day_of_week', y='sales', data=df4, estimator = np.mean, capsize=.1)\n",
    "\n",
    "plt.subplot(1,3,2)\n",
    "sns.regplot(x='day_of_week', y='sales', data=df4, x_estimator=np.mean)\n",
    "plt.xlim(0.5, 7.5)\n",
    "\n",
    "\n",
    "plt.subplot(1,3,3)\n",
    "sns.heatmap(aux1.corr(method='pearson'), annot=True)\n",
    "plt.show()"
   ]
  },
  {
   "cell_type": "markdown",
   "id": "3c57d22e-1c31-4cae-9fe8-023902072559",
   "metadata": {},
   "source": [
    "It appears that the weekends, on average, have lower sales on Saturday and higher on Sunday. But if we add up the sales contributions from all stores, we see that weekends represent low sales overall."
   ]
  },
  {
   "cell_type": "code",
   "execution_count": null,
   "id": "07a30dc4-376e-4421-a385-9589a6ea0daa",
   "metadata": {
    "execution": {
     "iopub.execute_input": "2021-08-13T11:41:51.123974Z",
     "iopub.status.busy": "2021-08-13T11:41:51.123974Z",
     "iopub.status.idle": "2021-08-13T11:42:11.650974Z",
     "shell.execute_reply": "2021-08-13T11:42:11.649974Z",
     "shell.execute_reply.started": "2021-08-13T11:41:51.123974Z"
    },
    "tags": []
   },
   "outputs": [],
   "source": [
    "plt.figure(figsize=(12,8))\n",
    "sns.barplot(x='day_of_week', y='sales', data=df4, estimator = np.sum)\n",
    "plt.show()"
   ]
  },
  {
   "cell_type": "markdown",
   "id": "fe5a382f-486d-4387-8dee-0927104e4c99",
   "metadata": {},
   "source": [
    "With this, it is also noted that, if on average, Sunday is the day of the week with the highest sales, but in total it is the day that sells the least, many stores should not open on Sundays. This matter will be dealt with in case 13."
   ]
  },
  {
   "cell_type": "markdown",
   "id": "e32fb24d-8fb9-4fd2-afbc-c9830b80d0e8",
   "metadata": {},
   "source": [
    "The verdict of hypothesis H11 is that it is **\"true, because on weekends, in total, stores sell less\"**."
   ]
  },
  {
   "cell_type": "markdown",
   "id": "22d2c70e-1faf-4b04-81cc-18dc14c11e08",
   "metadata": {
    "tags": []
   },
   "source": [
    "### H12. Stores should sell less during school holidays\n",
    "**false:** on school holidays stores sell more, except in September and December."
   ]
  },
  {
   "cell_type": "code",
   "execution_count": null,
   "id": "773d2f27-471d-4a4f-9e6b-39a7ca788240",
   "metadata": {
    "execution": {
     "iopub.execute_input": "2021-08-13T11:42:11.652974Z",
     "iopub.status.busy": "2021-08-13T11:42:11.651974Z",
     "iopub.status.idle": "2021-08-13T11:42:37.726974Z",
     "shell.execute_reply": "2021-08-13T11:42:37.725974Z",
     "shell.execute_reply.started": "2021-08-13T11:42:11.652974Z"
    },
    "tags": []
   },
   "outputs": [],
   "source": [
    "plt.figure(figsize=(8,6))\n",
    "sns.barplot(x='school_holiday', y='sales', data=df4, estimator = np.mean, capsize=.1);"
   ]
  },
  {
   "cell_type": "markdown",
   "id": "acd16536-054e-4886-b206-4b3973c9bcc0",
   "metadata": {},
   "source": [
    "With the analysis of the graph above, it can be seen that on school holidays, on average, more sales are made; below will be an analysis per month."
   ]
  },
  {
   "cell_type": "code",
   "execution_count": null,
   "id": "af159ecc-9688-4bf0-93c9-0287079b0ad8",
   "metadata": {
    "execution": {
     "iopub.execute_input": "2021-08-13T11:42:37.728974Z",
     "iopub.status.busy": "2021-08-13T11:42:37.727974Z",
     "iopub.status.idle": "2021-08-13T11:42:38.220974Z",
     "shell.execute_reply": "2021-08-13T11:42:38.219974Z",
     "shell.execute_reply.started": "2021-08-13T11:42:37.728974Z"
    },
    "tags": []
   },
   "outputs": [],
   "source": [
    "plt.figure(figsize=(16,7))\n",
    "aux1 = df4[['month','school_holiday','sales']].groupby(['month','school_holiday']).mean().reset_index()\n",
    "sns.barplot(x='month', y = 'sales', hue='school_holiday', data = aux1);"
   ]
  },
  {
   "cell_type": "markdown",
   "id": "ca2b15f7-0050-4df0-b2d8-f7853eb44ffe",
   "metadata": {},
   "source": [
    "Note that, with the exception of September and December, on average more is sold on school holidays. Highlight for sales of the March and November school holidays."
   ]
  },
  {
   "cell_type": "markdown",
   "id": "033ad91e-a327-48ed-8e6b-205ee17db960",
   "metadata": {},
   "source": [
    "Hypothesis H12's verdict is that it is **\"false, because on school holidays, stores sell more\"**."
   ]
  },
  {
   "cell_type": "markdown",
   "id": "48674d91-d959-4793-8477-17a0b9e1bfc0",
   "metadata": {
    "tags": []
   },
   "source": [
    "### H13. Stores that open on Sundays should sell more\n",
    "**true:** stores that open on Sunday sell more"
   ]
  },
  {
   "cell_type": "markdown",
   "id": "f02e6cff-b2d6-4b00-8641-938a882962c5",
   "metadata": {},
   "source": [
    "This is an extra hypothesis that emerged after the conclusion of hypothesis 11. First, it is necessary to check the number of stores that open each day of the week."
   ]
  },
  {
   "cell_type": "code",
   "execution_count": null,
   "id": "cd7baae0-516d-4165-954f-a111a2b07f6e",
   "metadata": {
    "execution": {
     "iopub.execute_input": "2021-08-13T11:42:38.221974Z",
     "iopub.status.busy": "2021-08-13T11:42:38.221974Z",
     "iopub.status.idle": "2021-08-13T11:42:38.629974Z",
     "shell.execute_reply": "2021-08-13T11:42:38.628974Z",
     "shell.execute_reply.started": "2021-08-13T11:42:38.221974Z"
    },
    "tags": []
   },
   "outputs": [],
   "source": [
    "df4[['day_of_week','store']].groupby('day_of_week').nunique()"
   ]
  },
  {
   "cell_type": "markdown",
   "id": "2c7c5361-eeaf-4f1a-b8da-e27b25b1c613",
   "metadata": {},
   "source": [
    "After analyzing hypothesis 11, Sunday is the only day that fewer stores open, only 33."
   ]
  },
  {
   "cell_type": "code",
   "execution_count": null,
   "id": "68e10a0d-60a2-4887-86d9-fd6177ae8d47",
   "metadata": {
    "execution": {
     "iopub.execute_input": "2021-08-13T11:42:38.631974Z",
     "iopub.status.busy": "2021-08-13T11:42:38.630974Z",
     "iopub.status.idle": "2021-08-13T11:43:12.737974Z",
     "shell.execute_reply": "2021-08-13T11:43:12.736974Z",
     "shell.execute_reply.started": "2021-08-13T11:42:38.631974Z"
    },
    "tags": []
   },
   "outputs": [],
   "source": [
    "# captures stores that open on Sundays\n",
    "stores_open_sunday = list(df4[df4['day_of_week']==7]['store'].unique())\n",
    "\n",
    "x = lambda x: 'open sunday' if x in stores_open_sunday else 'not open sunday'\n",
    "aux1 = df4[['store','sales','day_of_week']].copy()\n",
    "aux1['open_sunday'] = aux1['store'].apply(x)\n",
    "\n",
    "plt.figure(figsize=(8,6))\n",
    "sns.barplot(x='open_sunday', y='sales', data=aux1, estimator = np.mean)\n",
    "plt.show()"
   ]
  },
  {
   "cell_type": "markdown",
   "id": "d673b22c-6f49-4e2d-a737-8bb80da50cd3",
   "metadata": {},
   "source": [
    "After analyzing the above chart, it can be said that stores that open on Sundays sell, on average, more than stores that do not open on Sundays. But to be fairer in comparison, Sunday sales should be excluded, so stores that open on Sunday will have the performance of their sales from Monday to Saturday compared to sales of stores that do not open on Sunday."
   ]
  },
  {
   "cell_type": "code",
   "execution_count": null,
   "id": "3cd88d37-6c70-4053-8d39-a6255c2e60bb",
   "metadata": {
    "execution": {
     "iopub.execute_input": "2021-08-13T11:43:12.746974Z",
     "iopub.status.busy": "2021-08-13T11:43:12.745974Z",
     "iopub.status.idle": "2021-08-13T11:43:41.014974Z",
     "shell.execute_reply": "2021-08-13T11:43:41.013974Z",
     "shell.execute_reply.started": "2021-08-13T11:43:12.746974Z"
    },
    "tags": []
   },
   "outputs": [],
   "source": [
    "aux2 = aux1[aux1['day_of_week'] != 7]\n",
    "plt.figure(figsize=(8,6))\n",
    "sns.barplot(x='open_sunday', y='sales', data=aux2, estimator = np.mean)\n",
    "plt.show()"
   ]
  },
  {
   "cell_type": "markdown",
   "id": "8b9c0680-470e-4532-a0a7-edbce517564f",
   "metadata": {},
   "source": [
    "Even excluding Sunday sales, stores that usually open on that day of the week have a superior performance compared to stores that do not open on Sundays."
   ]
  },
  {
   "cell_type": "markdown",
   "id": "948d11e3-de00-42bb-9df6-3b19cc03098a",
   "metadata": {},
   "source": [
    "Hypothesis H13's verdict is that it is **\"true, stores that open on Sunday sell more\"**."
   ]
  },
  {
   "cell_type": "markdown",
   "id": "5fa46b78-759c-47c8-bfa9-36e62b316271",
   "metadata": {},
   "source": [
    "### 4.2.1 Summary of hypotheses"
   ]
  },
  {
   "cell_type": "code",
   "execution_count": null,
   "id": "ec32161e-d5e4-44cc-9eef-898007427f39",
   "metadata": {
    "execution": {
     "iopub.execute_input": "2021-08-13T11:43:41.016974Z",
     "iopub.status.busy": "2021-08-13T11:43:41.016974Z",
     "iopub.status.idle": "2021-08-13T11:43:41.028974Z",
     "shell.execute_reply": "2021-08-13T11:43:41.027974Z",
     "shell.execute_reply.started": "2021-08-13T11:43:41.016974Z"
    },
    "tags": []
   },
   "outputs": [],
   "source": [
    "from tabulate import tabulate\n",
    "\n",
    "tab = [['Hypotheses', 'Conclusion', 'Relevance'],\n",
    "       ['H1 - stores with a larger assortment should sell more', 'true','medium'],\n",
    "       ['H2 - stores with closer competitors should sell lesss', 'false','low'],\n",
    "       ['H3 - stores with longer-standing competitors should sell more','false','medium'],\n",
    "       ['H4 - stores where products cost less for longer (active promotions) should sell more', 'true','low'],\n",
    "       ['H5 - stores with more promotion days should sell more', 'not evaluated', '-'],\n",
    "       ['H6 - stores with more extended promotions should sell more','false', 'high'],\n",
    "       ['H7 - stores open during Christmas holiday should sell more', 'true', 'high'],\n",
    "       ['H8 - stores should sell more over the years','inconclusive','high*'],\n",
    "       ['H9 - stores should sell more in the second half of the year', 'false', 'medium'],\n",
    "       ['H10 - stores should sell more after the 10th day of each month', 'false', 'high'],\n",
    "       ['H11 - stores should sell less on weekends','true','high'],\n",
    "       ['H12 - stores should sell less during school holidays', 'false', 'high'],\n",
    "       ['H13 - stores that open on Sundays should sell more', 'true','high'],       \n",
    "      ]\n",
    "\n",
    "print(tabulate(tab, headers='firstrow', tablefmt=\"fancy_grid\"))\n",
    "print(\"*although the H8 was inconclusive, I consider the variable 'year' to be highly relevant for the Machine Learning model\")"
   ]
  },
  {
   "cell_type": "markdown",
   "id": "d9f2699d-d518-4d72-afde-b7f1c9167111",
   "metadata": {
    "tags": []
   },
   "source": [
    "## 4.3 Multivariate analysis"
   ]
  },
  {
   "cell_type": "markdown",
   "id": "bccda356-b88e-4ceb-aa2c-2d688592d948",
   "metadata": {},
   "source": [
    "### 4.3.1. Numerical attributes"
   ]
  },
  {
   "cell_type": "code",
   "execution_count": null,
   "id": "ba5d12d4-8b44-40b2-86a8-b5217443c9b1",
   "metadata": {
    "execution": {
     "iopub.execute_input": "2021-08-13T11:43:41.029974Z",
     "iopub.status.busy": "2021-08-13T11:43:41.029974Z",
     "iopub.status.idle": "2021-08-13T11:43:44.111974Z",
     "shell.execute_reply": "2021-08-13T11:43:44.101974Z",
     "shell.execute_reply.started": "2021-08-13T11:43:41.029974Z"
    },
    "tags": []
   },
   "outputs": [],
   "source": [
    "correlation = num_attributes.corr(method='pearson')\n",
    "plt.figure(figsize=(20,12))\n",
    "sns.heatmap(correlation, annot=True);"
   ]
  },
  {
   "cell_type": "markdown",
   "id": "c45e5ced-749c-49cf-988f-cbac7d9df5be",
   "metadata": {
    "tags": []
   },
   "source": [
    "### 4.3.2. Categorical attributes"
   ]
  },
  {
   "cell_type": "markdown",
   "id": "114ef636-086d-4e67-a092-9deab026314a",
   "metadata": {},
   "source": [
    "In this section, the correlation analysis of categorical variables is performed following the method of Cramér's V (https://en.wikipedia.org/wiki/Cram%C3%A9r%27s_V) <br>\n",
    "The function was defined in section 0.1."
   ]
  },
  {
   "cell_type": "code",
   "execution_count": null,
   "id": "c29aaf12-0840-4f56-a472-c96516e8bf5e",
   "metadata": {
    "execution": {
     "iopub.execute_input": "2021-08-13T11:43:44.113974Z",
     "iopub.status.busy": "2021-08-13T11:43:44.113974Z",
     "iopub.status.idle": "2021-08-13T11:43:44.162974Z",
     "shell.execute_reply": "2021-08-13T11:43:44.161974Z",
     "shell.execute_reply.started": "2021-08-13T11:43:44.113974Z"
    },
    "tags": []
   },
   "outputs": [],
   "source": [
    "# selects only columns of type 'object'\n",
    "a = df4.select_dtypes(include='object')"
   ]
  },
  {
   "cell_type": "code",
   "execution_count": null,
   "id": "e72545ef-678b-4d61-9246-141bfd8bdf57",
   "metadata": {
    "execution": {
     "iopub.execute_input": "2021-08-13T11:43:44.163974Z",
     "iopub.status.busy": "2021-08-13T11:43:44.163974Z",
     "iopub.status.idle": "2021-08-13T11:43:46.865974Z",
     "shell.execute_reply": "2021-08-13T11:43:46.864974Z",
     "shell.execute_reply.started": "2021-08-13T11:43:44.163974Z"
    },
    "tags": []
   },
   "outputs": [],
   "source": [
    "a1 = cramer_v(a['state_holiday'], a['state_holiday'])\n",
    "a2 = cramer_v(a['state_holiday'], a['store_type'])\n",
    "a3 = cramer_v(a['state_holiday'], a['assortment'])\n",
    "\n",
    "a4 = cramer_v(a['store_type'], a['state_holiday'])\n",
    "a5 = cramer_v(a['store_type'], a['store_type'])\n",
    "a6 = cramer_v(a['store_type'], a['assortment'])\n",
    "\n",
    "a7 = cramer_v(a['assortment'], a['state_holiday'])\n",
    "a8 = cramer_v(a['assortment'], a['store_type'])\n",
    "a9 = cramer_v(a['assortment'], a['assortment'])\n",
    "\n",
    "#  final dataset\n",
    "d = pd.DataFrame({'state_holiday':[a1,a2,a3],\n",
    "              'store_type':[a4,a5,a6],\n",
    "              'assortment':[a7,a8,a9]          \n",
    "             })\n",
    "\n",
    "d = d.set_index(d.columns)\n",
    "plt.figure(figsize=(20,12))\n",
    "sns.heatmap(d,annot=True);"
   ]
  },
  {
   "cell_type": "markdown",
   "id": "8e950505-908e-4385-a286-ca4b04613d83",
   "metadata": {},
   "source": [
    "Note that the variables 'store_type' and 'assortment' have a reasonable correlation."
   ]
  },
  {
   "cell_type": "markdown",
   "id": "0e0d8e3d-76c2-4d27-8b68-5b4d53bf3364",
   "metadata": {},
   "source": [
    "# 5. DATA PREPARATION"
   ]
  },
  {
   "cell_type": "markdown",
   "id": "6c66d59a-b319-48dc-b131-4034bf0a35da",
   "metadata": {
    "execution": {
     "iopub.execute_input": "2021-06-29T10:32:32.689444Z",
     "iopub.status.busy": "2021-06-29T10:32:32.689444Z",
     "iopub.status.idle": "2021-06-29T10:32:32.695445Z",
     "shell.execute_reply": "2021-06-29T10:32:32.694445Z",
     "shell.execute_reply.started": "2021-06-29T10:32:32.689444Z"
    }
   },
   "source": [
    "In this section, data modeling begins, which involves preparing the data and filtering the most relevant variables for the model learning."
   ]
  },
  {
   "cell_type": "code",
   "execution_count": null,
   "id": "8c2a352f-45f7-4008-a49a-afafb13efeef",
   "metadata": {
    "execution": {
     "iopub.execute_input": "2021-08-13T11:43:46.866974Z",
     "iopub.status.busy": "2021-08-13T11:43:46.866974Z",
     "iopub.status.idle": "2021-08-13T11:43:46.874974Z",
     "shell.execute_reply": "2021-08-13T11:43:46.874974Z",
     "shell.execute_reply.started": "2021-08-13T11:43:46.866974Z"
    },
    "tags": []
   },
   "outputs": [],
   "source": [
    "Image(\"img/crisp2.png\")"
   ]
  },
  {
   "cell_type": "markdown",
   "id": "5ab3207e-c7bd-483d-9ee9-c89224d8c94b",
   "metadata": {},
   "source": [
    "Most machine learning algorithms is facilitated with numerical data, on the same scale. The next subsections are dedicated to transforming all variables into the same order of magnitude."
   ]
  },
  {
   "cell_type": "code",
   "execution_count": null,
   "id": "132c0712-c26d-4178-b612-03183236a63f",
   "metadata": {
    "execution": {
     "iopub.execute_input": "2021-08-13T11:43:46.875974Z",
     "iopub.status.busy": "2021-08-13T11:43:46.875974Z",
     "iopub.status.idle": "2021-08-13T11:43:47.015974Z",
     "shell.execute_reply": "2021-08-13T11:43:47.014974Z",
     "shell.execute_reply.started": "2021-08-13T11:43:46.875974Z"
    },
    "tags": []
   },
   "outputs": [],
   "source": [
    "df5 = df4.copy()"
   ]
  },
  {
   "cell_type": "markdown",
   "id": "88b48c8b-a921-4a31-9622-707a2a43d2b1",
   "metadata": {
    "tags": []
   },
   "source": [
    "## 5.1. Normalization"
   ]
  },
  {
   "cell_type": "markdown",
   "id": "78a99ea3-ba7c-4a5c-862a-6cc2bbb58d41",
   "metadata": {},
   "source": [
    "After consulting section 4.1.2 it is noted that there is no normal distribution. Therefore, normalization (which would be centered on 0 and adjust the standard deviation to 1) will not be applied to any data series."
   ]
  },
  {
   "cell_type": "markdown",
   "id": "dc91079a-b5bd-431a-a867-66e7cff0c9a2",
   "metadata": {
    "tags": []
   },
   "source": [
    "## 5.2. Rescaling"
   ]
  },
  {
   "cell_type": "code",
   "execution_count": null,
   "id": "0a996c67-a575-4e53-918d-a3a3d0f8c6ab",
   "metadata": {
    "execution": {
     "iopub.execute_input": "2021-08-13T11:43:47.016974Z",
     "iopub.status.busy": "2021-08-13T11:43:47.016974Z",
     "iopub.status.idle": "2021-08-13T11:43:47.032974Z",
     "shell.execute_reply": "2021-08-13T11:43:47.032974Z",
     "shell.execute_reply.started": "2021-08-13T11:43:47.016974Z"
    },
    "tags": []
   },
   "outputs": [],
   "source": [
    "# originally the 'week_of_year' series is as type UInt32; the conversion takes place.\n",
    "df5['week_of_year'] = df5['week_of_year'].astype(np.int64)"
   ]
  },
  {
   "cell_type": "code",
   "execution_count": null,
   "id": "ced11b65-bfa4-496a-ad9e-8412306c1363",
   "metadata": {
    "execution": {
     "iopub.execute_input": "2021-08-13T11:43:47.034974Z",
     "iopub.status.busy": "2021-08-13T11:43:47.034974Z",
     "iopub.status.idle": "2021-08-13T11:43:47.268974Z",
     "shell.execute_reply": "2021-08-13T11:43:47.267974Z",
     "shell.execute_reply.started": "2021-08-13T11:43:47.034974Z"
    },
    "tags": []
   },
   "outputs": [],
   "source": [
    "df5.select_dtypes(include=['int32','int64','float64']).columns"
   ]
  },
  {
   "cell_type": "markdown",
   "id": "5405bd99-9d67-4d24-b621-327e37ec3f2b",
   "metadata": {},
   "source": [
    "The 4 variables (non-cyclic) where the rescaling will be performed are:\n",
    "- 'competition_distance'\n",
    "- 'year'\n",
    "- 'competition_time_month'\n",
    "- 'promo_time_week'\n",
    "\n",
    "The choice between MinMaxScaler or RobustScaler is whether or not they have outliers"
   ]
  },
  {
   "cell_type": "code",
   "execution_count": null,
   "id": "6c83b079-fa1a-483a-98ca-6c61958241e3",
   "metadata": {
    "execution": {
     "iopub.execute_input": "2021-08-13T11:43:47.269974Z",
     "iopub.status.busy": "2021-08-13T11:43:47.269974Z",
     "iopub.status.idle": "2021-08-13T11:43:47.774974Z",
     "shell.execute_reply": "2021-08-13T11:43:47.774974Z",
     "shell.execute_reply.started": "2021-08-13T11:43:47.269974Z"
    },
    "tags": []
   },
   "outputs": [],
   "source": [
    "plt.figure(figsize=(10,6))\n",
    "sns.boxplot(x = df5['competition_distance']);"
   ]
  },
  {
   "cell_type": "markdown",
   "id": "8b5bf469-1808-46e5-9bfb-1b11355c2c51",
   "metadata": {},
   "source": [
    "In section 1.5, outliers were inserted for the value of 200k, replacing the missing values; it was a way of signaling that the closest competitors, for stores where this value was nan, are actually very far away.\n",
    "This variable will be rescaligned using RobustScaler."
   ]
  },
  {
   "cell_type": "code",
   "execution_count": null,
   "id": "3265d574-3e7a-448e-b28d-146d39bbe793",
   "metadata": {
    "execution": {
     "iopub.execute_input": "2021-08-13T11:43:47.776974Z",
     "iopub.status.busy": "2021-08-13T11:43:47.776974Z",
     "iopub.status.idle": "2021-08-13T11:43:48.040974Z",
     "shell.execute_reply": "2021-08-13T11:43:48.039974Z",
     "shell.execute_reply.started": "2021-08-13T11:43:47.776974Z"
    },
    "tags": []
   },
   "outputs": [],
   "source": [
    "plt.figure(figsize=(10,6))\n",
    "sns.boxplot(x = df5['competition_time_month']);"
   ]
  },
  {
   "cell_type": "markdown",
   "id": "e5f9f633-03a2-4f21-8ce5-d26ca268d21a",
   "metadata": {
    "execution": {
     "iopub.execute_input": "2021-06-27T16:01:15.898666Z",
     "iopub.status.busy": "2021-06-27T16:01:15.898666Z",
     "iopub.status.idle": "2021-06-27T16:01:15.902666Z",
     "shell.execute_reply": "2021-06-27T16:01:15.902666Z",
     "shell.execute_reply.started": "2021-06-27T16:01:15.898666Z"
    }
   },
   "source": [
    "There are also many outliers on 'competition_time_month'. RobustScaler will be used."
   ]
  },
  {
   "cell_type": "code",
   "execution_count": null,
   "id": "a47eb4e8-d798-4d8c-9592-af1f6b009fd4",
   "metadata": {
    "execution": {
     "iopub.execute_input": "2021-08-13T11:43:48.042974Z",
     "iopub.status.busy": "2021-08-13T11:43:48.041974Z",
     "iopub.status.idle": "2021-08-13T11:43:48.301974Z",
     "shell.execute_reply": "2021-08-13T11:43:48.300974Z",
     "shell.execute_reply.started": "2021-08-13T11:43:48.042974Z"
    },
    "tags": []
   },
   "outputs": [],
   "source": [
    "plt.figure(figsize=(10,6))\n",
    "sns.boxplot(x = df5['promo_time_week']);"
   ]
  },
  {
   "cell_type": "markdown",
   "id": "be93d111-a30f-4cf1-a1df-736beedf70e1",
   "metadata": {
    "tags": []
   },
   "source": [
    "For this variable, outliers are not as relevant; MinMaxScaler will be used."
   ]
  },
  {
   "cell_type": "code",
   "execution_count": null,
   "id": "43013cbb-049a-4151-8500-39cb663aa250",
   "metadata": {
    "execution": {
     "iopub.execute_input": "2021-08-13T11:43:48.303974Z",
     "iopub.status.busy": "2021-08-13T11:43:48.303974Z",
     "iopub.status.idle": "2021-08-13T11:43:48.593974Z",
     "shell.execute_reply": "2021-08-13T11:43:48.592974Z",
     "shell.execute_reply.started": "2021-08-13T11:43:48.303974Z"
    },
    "tags": []
   },
   "outputs": [],
   "source": [
    "plt.figure(figsize=(10,6))\n",
    "sns.boxplot(x = df5['year']);"
   ]
  },
  {
   "cell_type": "markdown",
   "id": "2335ec19-ccf9-4884-ba3e-a03f4798d803",
   "metadata": {},
   "source": [
    "There are no outliers for the year; MinMaxScaler will be used."
   ]
  },
  {
   "cell_type": "code",
   "execution_count": null,
   "id": "e2753d37-339c-4eb7-adb1-50eae733fa2d",
   "metadata": {
    "execution": {
     "iopub.execute_input": "2021-08-13T11:43:48.594974Z",
     "iopub.status.busy": "2021-08-13T11:43:48.594974Z",
     "iopub.status.idle": "2021-08-13T11:43:48.945974Z",
     "shell.execute_reply": "2021-08-13T11:43:48.944974Z",
     "shell.execute_reply.started": "2021-08-13T11:43:48.594974Z"
    },
    "tags": []
   },
   "outputs": [],
   "source": [
    "rs = RobustScaler()\n",
    "mms = MinMaxScaler()\n",
    "\n",
    "df5['competition_distance'] = rs.fit_transform(df5[['competition_distance']].values)\n",
    "# save the scaler used for production use\n",
    "pickle.dump(rs, open('parameter/competition_distance_scaler.pkl','wb'))\n",
    "\n",
    "df5['competition_time_month'] = rs.fit_transform(df5[['competition_time_month']].values)\n",
    "# save the scaler used for production use\n",
    "pickle.dump(rs, open('parameter/competition_time_month_scaler.pkl','wb'))\n",
    "\n",
    "df5['promo_time_week'] = mms.fit_transform(df5[['promo_time_week']].values)\n",
    "# save the scaler used for production use\n",
    "pickle.dump(mms, open('parameter/promo_time_week_scaler.pkl','wb'))\n",
    "\n",
    "df5['year'] = mms.fit_transform(df5[['year']].values)\n",
    "# save the scaler used for production use\n",
    "pickle.dump(mms, open('parameter/year_scaler.pkl','wb'))\n",
    "\n",
    "\n"
   ]
  },
  {
   "cell_type": "markdown",
   "id": "7f381162-99bf-443f-9e7c-53013d97eb52",
   "metadata": {
    "tags": []
   },
   "source": [
    "## 5.3. Transformation"
   ]
  },
  {
   "cell_type": "markdown",
   "id": "20ee5740-7c66-48c7-8649-46a3a04cd216",
   "metadata": {},
   "source": [
    "### 5.3.1 Non-cyclical features encoding"
   ]
  },
  {
   "cell_type": "markdown",
   "id": "d4b65a25-59f8-4deb-9991-33face4de315",
   "metadata": {},
   "source": [
    "The 3 variables (non-cyclic) where the encoding will be done are:\n",
    "- 'state_holiday'\n",
    "- 'store_type'\n",
    "- 'assortment'"
   ]
  },
  {
   "cell_type": "code",
   "execution_count": null,
   "id": "ce57864d-68f7-479f-9c56-55414101d946",
   "metadata": {
    "execution": {
     "iopub.execute_input": "2021-08-13T11:43:48.947974Z",
     "iopub.status.busy": "2021-08-13T11:43:48.946974Z",
     "iopub.status.idle": "2021-08-13T11:43:49.844974Z",
     "shell.execute_reply": "2021-08-13T11:43:49.843974Z",
     "shell.execute_reply.started": "2021-08-13T11:43:48.947974Z"
    },
    "tags": []
   },
   "outputs": [],
   "source": [
    "# one hot encoding: works great for 'states', such as 'sales taking place on a holiday or not'\n",
    "df5 = pd.get_dummies(data=df5,prefix='state_holiday',columns=['state_holiday'])\n",
    "\n",
    "# label_encoding: we don't know if the information present in the store_type has any relationship or if it's just labels\n",
    "le = LabelEncoder()\n",
    "df5['store_type'] = le.fit_transform(df5['store_type'])\n",
    "# save the encoder used to use in production\n",
    "pickle.dump(le, open('parameter/store_type_scaler.pkl', 'wb'))\n",
    "\n",
    "\n",
    "# ordinal encoding: assortment types have order: basic < extra < extendend\n",
    "assortment_dict = {'basic':1, 'extra':2, 'extended':3} \n",
    "df5['assortment'] = df5['assortment'].map(assortment_dict)"
   ]
  },
  {
   "cell_type": "markdown",
   "id": "8c593e3f-265a-4388-8c85-47298953b4ac",
   "metadata": {},
   "source": [
    "### 5.3.2 Cyclical features encoding"
   ]
  },
  {
   "cell_type": "markdown",
   "id": "30f9b863-379b-45de-86ac-004daeb2b05e",
   "metadata": {},
   "source": [
    "To represent the cyclical nature of variables such as \"months of the year\" or \"weeks of the year\" we can break the variable into two others, sine and cosine.\n",
    "More information: https://towardsdatascience.com/cyclical-features-encoding-its-about-time-ce23581845ca"
   ]
  },
  {
   "cell_type": "code",
   "execution_count": null,
   "id": "36ae04a6",
   "metadata": {},
   "outputs": [],
   "source": [
    "Image(\"img/Cyclical features encoding.png\")"
   ]
  },
  {
   "cell_type": "code",
   "execution_count": null,
   "id": "e505a3a3-6efd-49a8-bc15-b38b55909fc0",
   "metadata": {
    "execution": {
     "iopub.execute_input": "2021-08-13T11:43:49.845974Z",
     "iopub.status.busy": "2021-08-13T11:43:49.845974Z",
     "iopub.status.idle": "2021-08-13T11:44:52.891974Z",
     "shell.execute_reply": "2021-08-13T11:44:52.890974Z",
     "shell.execute_reply.started": "2021-08-13T11:43:49.845974Z"
    },
    "tags": []
   },
   "outputs": [],
   "source": [
    "#month\n",
    "df5['month_sin'] = df5['month'].apply(lambda x : np.sin(x * (2 * np.pi / 12)))\n",
    "df5['month_cos'] = df5['month'].apply(lambda x : np.cos(x * (2 * np.pi / 12)))\n",
    "\n",
    "\n",
    "#day\n",
    "# I did the division month by month (depending on the last day of the month), while some people use just 30.\n",
    "# I thought it was risky because in the months that have 31 days, there will be the division \"31/30\", which will give more than 2pi, which will have a value very close (or even higher) than day 1\n",
    "\n",
    "# create a dictionary with the months and the respective number of days\n",
    "max_days_month = df5.groupby('month')['day'].max().to_dict()\n",
    "\n",
    "# new column to record the maximum day value of that month\n",
    "df5['max_days_month'] = df5['month'].map(max_days_month)\n",
    "\n",
    "x = lambda x: np.sin(x['day'] * (2 * np.pi / x['max_days_month']))\n",
    "df5['day_sin'] = df5.apply(x, axis=1)\n",
    "\n",
    "x = lambda x: np.cos(x['day'] * (2 * np.pi / x['max_days_month']))\n",
    "df5['day_cos'] = df5.apply(x, axis=1)\n",
    "\n",
    "# since the column was used in the above calculations, it can be discarded\n",
    "df5.drop(columns='max_days_month',inplace=True)\n",
    "\n",
    "\n",
    "#week_of_year\n",
    "df5['week_of_year_sin'] = df5['week_of_year'].apply(lambda x : np.sin(x * (2 * np.pi / 52)))\n",
    "df5['week_of_year_cos'] = df5['week_of_year'].apply(lambda x : np.cos(x * (2 * np.pi / 52)))\n",
    "\n",
    "#day_of_week\n",
    "df5['day_of_week_sin'] = df5['day_of_week'].apply(lambda x : np.sin(x * (2 * np.pi / 7)))\n",
    "df5['day_of_week_cos'] = df5['day_of_week'].apply(lambda x : np.cos(x * (2 * np.pi / 7)))"
   ]
  },
  {
   "cell_type": "markdown",
   "id": "1197e810-87ec-4aad-8f25-d972221692aa",
   "metadata": {},
   "source": [
    "Plot with variable of cyclic nature. Note that the beginning and end of each month are close together."
   ]
  },
  {
   "cell_type": "code",
   "execution_count": null,
   "id": "4ee93ac9-4148-416c-ae29-e8f48788d7fa",
   "metadata": {
    "execution": {
     "iopub.execute_input": "2021-08-13T11:44:52.892974Z",
     "iopub.status.busy": "2021-08-13T11:44:52.892974Z",
     "iopub.status.idle": "2021-08-13T11:44:53.357974Z",
     "shell.execute_reply": "2021-08-13T11:44:53.356974Z",
     "shell.execute_reply.started": "2021-08-13T11:44:52.892974Z"
    },
    "tags": []
   },
   "outputs": [],
   "source": [
    "df5[['day','day_sin','day_cos']].groupby('day').mean().plot();"
   ]
  },
  {
   "cell_type": "markdown",
   "id": "4353b922-3ab7-4d8e-989d-a5907bae1b93",
   "metadata": {
    "tags": []
   },
   "source": [
    "### 5.3.3 Transformation of the target variable"
   ]
  },
  {
   "cell_type": "code",
   "execution_count": null,
   "id": "24cd1a87-ee8b-41a5-aa3d-1a1d93a5dad6",
   "metadata": {
    "execution": {
     "iopub.execute_input": "2021-08-13T11:44:53.358974Z",
     "iopub.status.busy": "2021-08-13T11:44:53.358974Z",
     "iopub.status.idle": "2021-08-13T11:44:53.441974Z",
     "shell.execute_reply": "2021-08-13T11:44:53.440974Z",
     "shell.execute_reply.started": "2021-08-13T11:44:53.358974Z"
    },
    "tags": []
   },
   "outputs": [],
   "source": [
    "df5['sales'] = np.log1p(df5['sales'])"
   ]
  },
  {
   "cell_type": "code",
   "execution_count": null,
   "id": "c6004a13-84ce-4f5d-addc-0f0e3461f2c1",
   "metadata": {
    "execution": {
     "iopub.execute_input": "2021-08-13T11:44:53.442974Z",
     "iopub.status.busy": "2021-08-13T11:44:53.442974Z",
     "iopub.status.idle": "2021-08-13T11:45:03.264974Z",
     "shell.execute_reply": "2021-08-13T11:45:03.264974Z",
     "shell.execute_reply.started": "2021-08-13T11:44:53.442974Z"
    },
    "tags": []
   },
   "outputs": [],
   "source": [
    "sns.histplot(x = df5['sales'],bins=100,kde = True);"
   ]
  },
  {
   "cell_type": "markdown",
   "id": "20c2ab9f-4838-443e-9708-114b35d76442",
   "metadata": {},
   "source": [
    "# 6. FEATURE SELECTION"
   ]
  },
  {
   "cell_type": "markdown",
   "id": "bed05f42-5420-4c03-8b9f-5d90c8df1efa",
   "metadata": {},
   "source": [
    "\"The simplest solution is almost always the best.\" (Occam's Razor)"
   ]
  },
  {
   "cell_type": "code",
   "execution_count": null,
   "id": "290766ca-4989-4f15-8aaf-94ddd7d5775f",
   "metadata": {
    "execution": {
     "iopub.execute_input": "2021-08-13T11:45:03.266974Z",
     "iopub.status.busy": "2021-08-13T11:45:03.266974Z",
     "iopub.status.idle": "2021-08-13T11:45:03.721974Z",
     "shell.execute_reply": "2021-08-13T11:45:03.720974Z",
     "shell.execute_reply.started": "2021-08-13T11:45:03.266974Z"
    },
    "tags": []
   },
   "outputs": [],
   "source": [
    "df6 = df5.copy()\n",
    "\n",
    "# delete features that were already used to derive others but are now no longer important\n",
    "cols_drop = ['day','month','week_of_year','day_of_week', 'promo_since','competition_since','year_week']\n",
    "df6 = df6.drop(cols_drop, axis = 1)"
   ]
  },
  {
   "cell_type": "markdown",
   "id": "1261b8fe-b1d4-4473-b6a7-5f3142a3525e",
   "metadata": {
    "tags": []
   },
   "source": [
    "## 6.1 Split dataframe into training and test dataset"
   ]
  },
  {
   "cell_type": "markdown",
   "id": "2b8969e3-d3b1-45e9-b3f3-e5449984374a",
   "metadata": {},
   "source": [
    "Up to the last 6 weeks it will be the training data and then it will be the test data."
   ]
  },
  {
   "cell_type": "code",
   "execution_count": null,
   "id": "e0955fd4-96e2-4faf-b9f5-7e2b122d2ffe",
   "metadata": {
    "execution": {
     "iopub.execute_input": "2021-08-13T11:45:03.722974Z",
     "iopub.status.busy": "2021-08-13T11:45:03.722974Z",
     "iopub.status.idle": "2021-08-13T11:45:03.800974Z",
     "shell.execute_reply": "2021-08-13T11:45:03.799974Z",
     "shell.execute_reply.started": "2021-08-13T11:45:03.722974Z"
    },
    "tags": []
   },
   "outputs": [],
   "source": [
    "df6[['store','date']].groupby('store').min().value_counts()"
   ]
  },
  {
   "cell_type": "code",
   "execution_count": null,
   "id": "7fb1fa93-9df1-4a36-a5af-0a4893c4e933",
   "metadata": {
    "execution": {
     "iopub.execute_input": "2021-08-13T11:45:03.801974Z",
     "iopub.status.busy": "2021-08-13T11:45:03.801974Z",
     "iopub.status.idle": "2021-08-13T11:45:03.882974Z",
     "shell.execute_reply": "2021-08-13T11:45:03.881974Z",
     "shell.execute_reply.started": "2021-08-13T11:45:03.801974Z"
    },
    "tags": []
   },
   "outputs": [],
   "source": [
    "df6[['store','date']].groupby('store').max().value_counts()"
   ]
  },
  {
   "cell_type": "markdown",
   "id": "6efa4911-89e0-4ea8-9a12-425aec45bdf5",
   "metadata": {},
   "source": [
    "Sales almost all started on 01/02/2013 and the last sales record for almost all stores is 07/31/2015. <br>\n",
    "It is quite reasonable that the 6 week period for the forecast is the one that precedes 07/31/2015. <br>"
   ]
  },
  {
   "cell_type": "code",
   "execution_count": null,
   "id": "14eb50ff-e90d-4019-9172-9c0651c7638c",
   "metadata": {
    "execution": {
     "iopub.execute_input": "2021-08-13T11:45:03.883974Z",
     "iopub.status.busy": "2021-08-13T11:45:03.883974Z",
     "iopub.status.idle": "2021-08-13T11:45:03.951974Z",
     "shell.execute_reply": "2021-08-13T11:45:03.951974Z",
     "shell.execute_reply.started": "2021-08-13T11:45:03.883974Z"
    },
    "tags": []
   },
   "outputs": [],
   "source": [
    "# subtrair 6 semanas (6 * 7 dias)\n",
    "df6[['store','date']].groupby('store').max().reset_index()['date'][0]- datetime.timedelta(days=6*7)"
   ]
  },
  {
   "cell_type": "markdown",
   "id": "67d9a7f3-b541-4838-8d8d-8cd8c3ce1c35",
   "metadata": {},
   "source": [
    "It is now known that the 6-week period preceding the last sales record started on 06/19/2015. Therefore, this date will be used as a limit for separating the dataset in training and testing."
   ]
  },
  {
   "cell_type": "code",
   "execution_count": null,
   "id": "92c19c0d-2683-4ace-a1e8-9cf045612341",
   "metadata": {
    "execution": {
     "iopub.execute_input": "2021-08-13T11:45:03.953974Z",
     "iopub.status.busy": "2021-08-13T11:45:03.953974Z",
     "iopub.status.idle": "2021-08-13T11:45:04.167974Z",
     "shell.execute_reply": "2021-08-13T11:45:04.166974Z",
     "shell.execute_reply.started": "2021-08-13T11:45:03.953974Z"
    },
    "tags": []
   },
   "outputs": [],
   "source": [
    "# training dataset\n",
    "x_train = df6[df6['date'] < '2015-06-19']\n",
    "y_train = x_train['sales']\n",
    "\n",
    "# test dataset\n",
    "x_test = df6[df6['date'] >= '2015-06-19']\n",
    "y_test = x_test['sales']\n",
    "\n",
    "print(f\"Training min date: {x_train['date'].min()}\")\n",
    "print(f\"Training max date: {x_train['date'].max()}\")\n",
    "\n",
    "print(f\"\\nTest min date: {x_test['date'].min()}\")\n",
    "print(f\"Test max date: {x_test['date'].max()}\")"
   ]
  },
  {
   "cell_type": "markdown",
   "id": "392625ab-eee8-4334-b546-0eef58323896",
   "metadata": {},
   "source": [
    "## 6.2 Boruta as feature selector\n",
    "(after running the script once, it is not necessary to run it again - the processing time is long and the result obtained should not vary significantly when changing the seed)"
   ]
  },
  {
   "cell_type": "code",
   "execution_count": null,
   "id": "eee607e1",
   "metadata": {},
   "outputs": [],
   "source": [
    "Image('img/Boruta as feature selector.png')"
   ]
  },
  {
   "cell_type": "code",
   "execution_count": null,
   "id": "66064644-f0f8-4878-aba4-80ee3204bb40",
   "metadata": {
    "execution": {
     "iopub.execute_input": "2021-08-13T11:45:04.168974Z",
     "iopub.status.busy": "2021-08-13T11:45:04.168974Z",
     "iopub.status.idle": "2021-08-13T11:45:04.173974Z",
     "shell.execute_reply": "2021-08-13T11:45:04.172974Z",
     "shell.execute_reply.started": "2021-08-13T11:45:04.168974Z"
    },
    "tags": []
   },
   "outputs": [],
   "source": [
    "\"\"\"\n",
    "\n",
    "### training and test dataset for Boruta\n",
    "x_train_n = x_train.drop(columns = ['date', 'sales'], axis =1).values\n",
    "y_train_n = y_train.values.ravel()\n",
    "\n",
    "### define RandomForestRegressor\n",
    "rf = RandomForestRegressor(n_jobs=-1)\n",
    "\n",
    "### define Boruta\n",
    "boruta = BorutaPy(rf, n_estimators='auto', verbose=2, random_state = 42).fit(x_train_n, y_train_n)\n",
    "\n",
    "cols_selected = boruta.support_.tolist()\n",
    "\n",
    "### to read the columns chosen by Boruta (instead of numbers), run the lines below\n",
    "### as x_train still has the 'date' and 'sales' features, I need to remove them to preserve the same column sequence as x_train_n (which is just a vector)\n",
    "x_train_fs = x_train.drop(['date','sales'],axis=1)\n",
    "\n",
    "### the line below selects, based on the variable cols_selected, taken from the 'support_' output of Boruta, which is a vector of True and False for each of the columns\n",
    "cols_selected_boruta = x_train_fs.iloc[:,cols_selected].columns.to_list()\n",
    "\n",
    "### columns not selected\n",
    "cols_not_selected_boruta = list(np.setdiff1d(x_train_fs.columns, cols_selected_boruta))\n",
    "\"\"\""
   ]
  },
  {
   "cell_type": "markdown",
   "id": "b3827aad-4a0b-47f7-a949-5855f394251d",
   "metadata": {
    "tags": []
   },
   "source": [
    "### 6.2.1 Best features from Boruta"
   ]
  },
  {
   "cell_type": "code",
   "execution_count": null,
   "id": "8fb7ae10-be61-4349-b87a-08519f26b88a",
   "metadata": {
    "execution": {
     "iopub.execute_input": "2021-08-13T11:45:04.175974Z",
     "iopub.status.busy": "2021-08-13T11:45:04.174974Z",
     "iopub.status.idle": "2021-08-13T11:45:04.192974Z",
     "shell.execute_reply": "2021-08-13T11:45:04.191974Z",
     "shell.execute_reply.started": "2021-08-13T11:45:04.174974Z"
    },
    "tags": []
   },
   "outputs": [],
   "source": [
    "cols_not_selected_boruta = ['is_promo','month_sin', 'school_holiday', 'state_holiday_christmas', 'state_holiday_easter_holiday', \n",
    "                            'state_holiday_public_holiday', 'state_holiday_regular_day', 'week_of_year_sin', 'year']\n",
    "\n",
    "cols_selected_boruta = ['store','promo', 'store_type', 'assortment', 'competition_distance', 'competition_open_since_month',\n",
    "                        'competition_open_since_year', 'promo2', 'promo2_since_week', 'promo2_since_year', 'competition_time_month',\n",
    "                        'promo_time_week', 'month_cos', 'day_sin', 'day_cos', 'week_of_year_cos', 'day_of_week_sin', 'day_of_week_cos']"
   ]
  },
  {
   "cell_type": "markdown",
   "id": "8d15097d-af33-484b-bec3-d8e7f41281b1",
   "metadata": {},
   "source": [
    "### 6.2.2 Update of the table of hypotheses"
   ]
  },
  {
   "cell_type": "code",
   "execution_count": null,
   "id": "3a76a2f8-24db-4878-af3d-6f18c962b290",
   "metadata": {
    "execution": {
     "iopub.execute_input": "2021-08-13T11:45:04.194974Z",
     "iopub.status.busy": "2021-08-13T11:45:04.194974Z",
     "iopub.status.idle": "2021-08-13T11:45:04.218974Z",
     "shell.execute_reply": "2021-08-13T11:45:04.217974Z",
     "shell.execute_reply.started": "2021-08-13T11:45:04.194974Z"
    },
    "tags": []
   },
   "outputs": [],
   "source": [
    "from tabulate import tabulate\n",
    "\n",
    "tab = [['Hypotheses', 'Conclusion', 'Relevance', 'Key variable(s)','Boruta'],\n",
    "       ['H1 - stores with a larger assortment should sell more', 'true','medium','assortment','selected'],\n",
    "       ['H2 - stores with closer competitors should sell lesss', 'false','low','competition_distance','selected'],\n",
    "       ['H3 - stores with longer-standing competitors should sell more','false','medium','competition_time_month','selected'],\n",
    "       ['H4 - stores where products cost less for longer (active promotions) should sell more', 'true','low','promo_time_week','selected'],\n",
    "       ['H5 - stores with more promotion days should sell more', 'not evaluated', '-','-','-'],\n",
    "       ['H6 - stores with more extended promotions should sell more','false', 'high','promo and promo2','selected'],\n",
    "       ['H7 - stores open during Christmas holiday should sell more', 'true', 'high','state_holiday','not selected'],\n",
    "       ['H8 - stores should sell more over the years','inconclusive','high*','year','not selected'],\n",
    "       ['H9 - stores should sell more in the second half of the year', 'false', 'medium','month','partially selected (month_cos selected and month_sin discarded)'],\n",
    "       ['H10 - stores should sell more after the 10th day of each month', 'false', 'high','day','selected'],\n",
    "       ['H11 - stores should sell less on weekends','true','high','day_of_week','selected'],\n",
    "       ['H12 - stores should sell less during school holidays', 'false', 'high','school_holiday','not selected'],\n",
    "       ['H13 - stores that open on Sundays should sell more', 'true','high','day_of_week','selected'],       \n",
    "      ]\n",
    "\n",
    "print(tabulate(tab, headers='firstrow', tablefmt=\"fancy_grid\"))\n",
    "print(\"*although the H8 was inconclusive, I consider the variable 'year' to be highly relevant for the Machine Learning model\")"
   ]
  },
  {
   "cell_type": "markdown",
   "id": "82f9dc1b-9e82-4d99-9812-ca9206b40924",
   "metadata": {},
   "source": [
    "<br>\n",
    "It appears that:\n",
    "<ul>\n",
    "<li>2 hypotheses whose key variable I had considered of low relevance for the model ('competition_distance' and 'promo_time_week'), Boruta considered them as important;</li><br>\n",
    "<li>3 hypotheses whose key variable I had considered of medium relevance for the model ('assortment, 'competition_time_month' and 'month'*), Boruta considered them as important;</li>\n",
    "<ul>\n",
    "*'month' Boruta partially selected\n",
    "</ul><br>\n",
    "\n",
    "<li>4 hypotheses whose key variable I had considered of high relevance for the model ('promo and promo2', 'day' and 'day_of_week'), Boruta considered them as important;</li><br>\n",
    "<li>3 hypotheses whose key variable I had considered of high relevance for the model ('state_holiday, 'year' and 'school_holiday'), Boruta did not consider them as important. </li>"
   ]
  },
  {
   "cell_type": "markdown",
   "id": "283373d1-f9ba-4659-990a-b352c0f3ae49",
   "metadata": {},
   "source": [
    "A possible explanation for the holiday variables not being considered by Boruta is that such holidays can influence sales during the week as a whole, including the holiday day itself.\n",
    "\n",
    "Another variable selected by Boruta is the 'store_type'; as it is not clear what each of these types of stores means (the database only provided letters, from 'a' to 'd'), it was not used during the hypothesis validations in the bivariate analysis. However, it was found, during the multivariate analysis of categorical attributes that it has a relatively strong correlation with the 'assortment', which was selected.\n",
    "\n",
    "Finally, the variable 'is_promo', derived in section 1.5, whose value is 1 (when the sale refers to the month in which the promo started2) or 0 (when the sale occurred in a month other than the start of the promo2) does not seem to have relevance in predicting sales. When revisiting the derivation of this variable, it appears that an analysis error was made: when assigning 'is_promo = 1' only based on the existence of the month of sale in the variable (already discarded in the current dataset) 'promo_interval', there is assignment in the the store's past, even before it first joined the promo2.\n",
    "The example below, rescued from df1 shows that store 620 started promo2 in week 40 of 2014, starting in Jan, Apr, Jul and Oct. For sales in July 2013 there was no promo2 yet, however it was wrongly assigned the value '1' to 'is_promo'."
   ]
  },
  {
   "cell_type": "code",
   "execution_count": null,
   "id": "39347da5-6ff4-4ab9-84ce-0ba2b498c3c8",
   "metadata": {
    "execution": {
     "iopub.execute_input": "2021-08-13T11:45:04.220974Z",
     "iopub.status.busy": "2021-08-13T11:45:04.219974Z",
     "iopub.status.idle": "2021-08-13T11:45:04.249974Z",
     "shell.execute_reply": "2021-08-13T11:45:04.248974Z",
     "shell.execute_reply.started": "2021-08-13T11:45:04.219974Z"
    },
    "tags": []
   },
   "outputs": [],
   "source": [
    "df1.loc[799289]"
   ]
  },
  {
   "cell_type": "markdown",
   "id": "3935ac32-54e4-4346-9540-375e508ceb0d",
   "metadata": {},
   "source": [
    "With that, 2 important points arise:\n",
    "<li> Every gateway in the DS project is really important to create a copy of df\n",
    "<li> the next CRISP cycle will have an update on the value assignment for the variable 'is_promo' to not assign '1' in the store's past, while promo2 didn't exist yet. With that, it is possible that Boruta's analysis for this variable may change."
   ]
  },
  {
   "cell_type": "markdown",
   "id": "e1fa2a49-cd6f-4ef6-948c-3e2b54dcdc52",
   "metadata": {},
   "source": [
    "## 6.3 Manual feature selection"
   ]
  },
  {
   "cell_type": "markdown",
   "id": "838bf904-cab7-4913-8736-a7b98aa51223",
   "metadata": {},
   "source": [
    "Even though Boruta does not initially consider the variables 'month_sin' and 'week_of_year_sin', as they are complementary to the variables 'month_cos' and 'week_of_year_cos', they will be added to the group of variables selected by Boruta."
   ]
  },
  {
   "cell_type": "code",
   "execution_count": null,
   "id": "60e3d5e9-f193-4ab1-87fd-d5bad4cb1858",
   "metadata": {
    "execution": {
     "iopub.execute_input": "2021-08-13T11:45:04.251974Z",
     "iopub.status.busy": "2021-08-13T11:45:04.250974Z",
     "iopub.status.idle": "2021-08-13T11:45:04.263974Z",
     "shell.execute_reply": "2021-08-13T11:45:04.262974Z",
     "shell.execute_reply.started": "2021-08-13T11:45:04.251974Z"
    },
    "tags": []
   },
   "outputs": [],
   "source": [
    "cols_not_selected_boruta = ['is_promo','month_sin', 'school_holiday', 'state_holiday_christmas', 'state_holiday_easter_holiday', \n",
    "                            'state_holiday_public_holiday', 'state_holiday_regular_day', 'week_of_year_sin', 'year']\n",
    "\n",
    "cols_selected_boruta = ['store','promo', 'store_type', 'assortment', 'competition_distance', 'competition_open_since_month',\n",
    "                        'competition_open_since_year', 'promo2', 'promo2_since_week', 'promo2_since_year', 'competition_time_month',\n",
    "                        'promo_time_week', 'month_cos', 'day_sin', 'day_cos', 'week_of_year_cos', 'day_of_week_sin', 'day_of_week_cos']\n",
    "\n",
    "\n",
    "# add 'month_sin' and 'week_of_year_sin' (initially Boruta left both out)\n",
    "cols_selected_boruta_with_extra = ['store','promo', 'store_type', 'assortment', 'competition_distance', 'competition_open_since_month',\n",
    "                                   'competition_open_since_year', 'promo2', 'promo2_since_week', 'promo2_since_year', 'competition_time_month',\n",
    "                                   'promo_time_week','month_sin', 'month_cos', 'day_sin', 'day_cos', 'week_of_year_sin','week_of_year_cos', \n",
    "                                   'day_of_week_sin', 'day_of_week_cos']\n"
   ]
  },
  {
   "cell_type": "markdown",
   "id": "66df7063-2027-45e0-acf9-f5bd5d8a044b",
   "metadata": {},
   "source": [
    "# 7. MACHINE LEARNING MODELING"
   ]
  },
  {
   "cell_type": "markdown",
   "id": "c4155c5c-3ee8-408f-bf6f-45e62c100c7a",
   "metadata": {},
   "source": [
    "In this section, machine learning modeling begins. <br>\n",
    "With the exception of the average model, the model will also be cross-validated in its subsection; the explanation about cross validation applied to time series and the summary of the performance of all models is presented in section 7.6."
   ]
  },
  {
   "cell_type": "code",
   "execution_count": null,
   "id": "39959476-69c4-44e2-80de-7db489f374ef",
   "metadata": {
    "execution": {
     "iopub.execute_input": "2021-08-13T11:45:04.265974Z",
     "iopub.status.busy": "2021-08-13T11:45:04.265974Z",
     "iopub.status.idle": "2021-08-13T11:45:04.288974Z",
     "shell.execute_reply": "2021-08-13T11:45:04.287974Z",
     "shell.execute_reply.started": "2021-08-13T11:45:04.265974Z"
    },
    "tags": []
   },
   "outputs": [],
   "source": [
    "Image(\"img/crisp3.png\")"
   ]
  },
  {
   "cell_type": "code",
   "execution_count": null,
   "id": "d547e22f-028e-4a97-a211-37f7c4f6f980",
   "metadata": {
    "execution": {
     "iopub.execute_input": "2021-08-13T11:45:04.289974Z",
     "iopub.status.busy": "2021-08-13T11:45:04.289974Z",
     "iopub.status.idle": "2021-08-13T11:45:04.727974Z",
     "shell.execute_reply": "2021-08-13T11:45:04.726974Z",
     "shell.execute_reply.started": "2021-08-13T11:45:04.289974Z"
    },
    "tags": []
   },
   "outputs": [],
   "source": [
    "# training dataset\n",
    "x_train = df6[df6['date'] < '2015-06-19']\n",
    "y_train = x_train['sales']\n",
    "\n",
    "# test dataset\n",
    "x_test = df6[df6['date'] >= '2015-06-19']\n",
    "y_test = x_test.set_index('store')['sales']\n",
    "\n",
    "# add 'date' and 'sales' to consolidate training base that will be used in cross-validation\n",
    "training_set = x_train[cols_selected_boruta_with_extra + ['date','sales']]\n",
    "test_set = x_test[cols_selected_boruta_with_extra + ['date','sales']]\n",
    "\n",
    "# update of training and test variables only with the columns selected by Boruta (without the 'date' and 'sales' columns)\n",
    "x_train = x_train[cols_selected_boruta_with_extra]\n",
    "x_test = x_test[cols_selected_boruta_with_extra]"
   ]
  },
  {
   "cell_type": "markdown",
   "id": "799fd466-098c-4af2-88d3-61e9fd30236f",
   "metadata": {},
   "source": [
    "## 7.1. Average model"
   ]
  },
  {
   "cell_type": "code",
   "execution_count": null,
   "id": "a11dd21f-44a3-4a71-8cbe-a99095035638",
   "metadata": {
    "execution": {
     "iopub.execute_input": "2021-08-13T11:45:04.728974Z",
     "iopub.status.busy": "2021-08-13T11:45:04.728974Z",
     "iopub.status.idle": "2021-08-13T11:45:05.079974Z",
     "shell.execute_reply": "2021-08-13T11:45:05.078974Z",
     "shell.execute_reply.started": "2021-08-13T11:45:04.728974Z"
    },
    "tags": []
   },
   "outputs": [],
   "source": [
    "aux0 = x_train.copy()\n",
    "aux0['sales'] = y_train.values\n",
    "\n",
    "aux1 = x_test.copy()\n",
    "\n",
    "# prediction\n",
    "aux2 = aux0[['store','sales']].groupby('store').mean().reset_index().rename(columns = {'sales':'predictions'})\n",
    "aux1 = pd.merge(aux1, aux2, how='left', on='store')\n",
    "\n",
    "# for manual MAPE calculation, it is important that both series (actual and predicted) have the same index\n",
    "aux1.set_index('store',inplace=True)\n",
    "yhat_baseline = aux1['predictions']\n",
    "\n",
    "# performance\n",
    "baseline_result = ml_error('Average model', np.expm1(y_test),np.expm1(yhat_baseline))\n",
    "baseline_result\n",
    "\n",
    "# the division between MAPE_manual and MAPE_sklearn was necessary as initially they were resulting in different values.\n",
    "# after investigating, I found that the index of the two pd.series (y_test and y_hat) were mismatched,\n",
    "# in this case, y_test skipped the index if the sales record for a certain store did not exist and y_hat did not skip, as it is the result of the merge of aux1 with aux2.\n",
    "# thus, the math operation was totally distorted."
   ]
  },
  {
   "cell_type": "markdown",
   "id": "671eaa15-6175-4ec9-a715-a07999bc85bd",
   "metadata": {},
   "source": [
    "## 7.2. Linear regression\n",
    "Linear regression produces linear models that minimize the sum of squared errors between the actual and predicted values of the target variable training data."
   ]
  },
  {
   "cell_type": "code",
   "execution_count": null,
   "id": "c16cdadc-a60a-4935-9e1f-7fecf4207040",
   "metadata": {
    "execution": {
     "iopub.execute_input": "2021-08-13T11:45:05.080974Z",
     "iopub.status.busy": "2021-08-13T11:45:05.080974Z",
     "iopub.status.idle": "2021-08-13T11:45:05.878974Z",
     "shell.execute_reply": "2021-08-13T11:45:05.878974Z",
     "shell.execute_reply.started": "2021-08-13T11:45:05.080974Z"
    },
    "tags": []
   },
   "outputs": [],
   "source": [
    "# model\n",
    "lr = LinearRegression().fit(x_train,y_train)\n",
    "\n",
    "# prediction\n",
    "y_hat_lr = lr.predict(x_test)\n",
    "\n",
    "# performance\n",
    "lr_result = ml_error('Linear regression',np.expm1(y_test),np.expm1(y_hat_lr) )\n",
    "lr_result"
   ]
  },
  {
   "cell_type": "markdown",
   "id": "3a96316f-9304-4428-a7ff-bde41ff37349",
   "metadata": {},
   "source": [
    "It is verified that the linear regression model performs worse than the average. It is a strong indication that the datasert data is not linear but complex enough that we have to use other machine learning algorithms."
   ]
  },
  {
   "cell_type": "markdown",
   "id": "8cf8afcc-ada0-4aea-b445-9abb8ce2ee7d",
   "metadata": {},
   "source": [
    "### 7.2.1. Linear regression - cross validation "
   ]
  },
  {
   "cell_type": "code",
   "execution_count": null,
   "id": "cf88abe3-2884-4cc1-b035-32bbf9e57556",
   "metadata": {
    "execution": {
     "iopub.execute_input": "2021-08-13T11:45:05.880974Z",
     "iopub.status.busy": "2021-08-13T11:45:05.880974Z",
     "iopub.status.idle": "2021-08-13T11:45:10.493974Z",
     "shell.execute_reply": "2021-08-13T11:45:10.492974Z",
     "shell.execute_reply.started": "2021-08-13T11:45:05.880974Z"
    },
    "tags": []
   },
   "outputs": [],
   "source": [
    "lr_result_cv = time_series_cross_validation(5, training_set,'Linear regression', lr)\n",
    "lr_result_cv"
   ]
  },
  {
   "cell_type": "markdown",
   "id": "f415ae6f-64b0-402f-8926-0ea325f6e7a0",
   "metadata": {},
   "source": [
    "## 7.3. Regularized linear regression\n",
    "Regularized linear regression balances the same minimization of sum-of-squares with a penalty term on the size of the coefficients and tends to produce simpler models that are less prone to overfitting.\n",
    "https://uc-r.github.io/regularized_regression (another explanation, in Portuguese: https://help.alteryx.com/pt-br/current/designer/linear-regression-tool) <br>\n",
    "The most popular linear regression techniques that use regularization are the so-called Ridge Regression: least absolute shrinkage and selection operator (LASSO) and Elastic Net (source: Python Machine Learning', by Sebastian Raschka, 3rd edition, p. 337)"
   ]
  },
  {
   "cell_type": "code",
   "execution_count": null,
   "id": "eca265ea-3900-4fa1-a78f-d27d28363c4c",
   "metadata": {
    "execution": {
     "iopub.execute_input": "2021-08-13T11:45:10.495974Z",
     "iopub.status.busy": "2021-08-13T11:45:10.494974Z",
     "iopub.status.idle": "2021-08-13T11:45:11.229974Z",
     "shell.execute_reply": "2021-08-13T11:45:11.228974Z",
     "shell.execute_reply.started": "2021-08-13T11:45:10.495974Z"
    },
    "tags": []
   },
   "outputs": [],
   "source": [
    "# model\n",
    "lrr = Lasso(alpha=0.01).fit(x_train,y_train)\n",
    "\n",
    "# prediction\n",
    "y_hat_lrr = lrr.predict(x_test)\n",
    "\n",
    "# performance\n",
    "lrr_result = ml_error('Regularized linear regression',np.expm1(y_test),np.expm1(y_hat_lrr) )\n",
    "lrr_result"
   ]
  },
  {
   "cell_type": "markdown",
   "id": "0b041c5d-3091-4785-8701-0f68a9326794",
   "metadata": {},
   "source": [
    "### 7.3.1. Regularized linear regression - cross validation"
   ]
  },
  {
   "cell_type": "code",
   "execution_count": null,
   "id": "56c9a65a-8b3c-49f6-a768-8f1a476a4594",
   "metadata": {
    "execution": {
     "iopub.execute_input": "2021-08-13T11:45:11.230974Z",
     "iopub.status.busy": "2021-08-13T11:45:11.230974Z",
     "iopub.status.idle": "2021-08-13T11:45:15.532974Z",
     "shell.execute_reply": "2021-08-13T11:45:15.531974Z",
     "shell.execute_reply.started": "2021-08-13T11:45:11.230974Z"
    }
   },
   "outputs": [],
   "source": [
    "lrr_result_cv = time_series_cross_validation(5, training_set,'Regularized linear regression', lrr)\n",
    "lrr_result_cv"
   ]
  },
  {
   "cell_type": "markdown",
   "id": "fd1bb7e5-5ff7-4982-b4a3-939da722ec35",
   "metadata": {},
   "source": [
    "## 7.4. Random forest regressor"
   ]
  },
  {
   "cell_type": "code",
   "execution_count": null,
   "id": "c87f07f8-8e20-4e0e-ba58-34d5f0fc143b",
   "metadata": {
    "execution": {
     "iopub.execute_input": "2021-08-13T11:45:15.534974Z",
     "iopub.status.busy": "2021-08-13T11:45:15.533974Z",
     "iopub.status.idle": "2021-08-13T11:48:14.453974Z",
     "shell.execute_reply": "2021-08-13T11:48:14.452974Z",
     "shell.execute_reply.started": "2021-08-13T11:45:15.534974Z"
    },
    "tags": []
   },
   "outputs": [],
   "source": [
    "# model\n",
    "rf = RandomForestRegressor(n_estimators = 100, n_jobs = -1, random_state = 42).fit(x_train,y_train)\n",
    "\n",
    "# prediction\n",
    "y_hat_rf = rf.predict(x_test)\n",
    "\n",
    "# performance\n",
    "rf_result = ml_error('Random forest regressor',np.expm1(y_test),np.expm1(y_hat_rf) )\n",
    "rf_result\n"
   ]
  },
  {
   "cell_type": "markdown",
   "id": "862ba2ff-d41e-4c13-9eff-791086010959",
   "metadata": {},
   "source": [
    "### 7.4.1. Random forest regressor - cross validation"
   ]
  },
  {
   "cell_type": "code",
   "execution_count": null,
   "id": "3158a39e-8eb9-47d2-8177-db539a723fb1",
   "metadata": {
    "execution": {
     "iopub.execute_input": "2021-08-13T11:48:14.454974Z",
     "iopub.status.busy": "2021-08-13T11:48:14.454974Z",
     "iopub.status.idle": "2021-08-13T12:01:48.861974Z",
     "shell.execute_reply": "2021-08-13T12:01:48.860974Z",
     "shell.execute_reply.started": "2021-08-13T11:48:14.454974Z"
    },
    "tags": []
   },
   "outputs": [],
   "source": [
    "rf_result_cv = time_series_cross_validation(5, training_set,'Random forest regressor', rf,verbose=True)\n",
    "rf_result_cv"
   ]
  },
  {
   "cell_type": "markdown",
   "id": "a3f613d8-3774-4cd7-a7ad-340ae831d547",
   "metadata": {},
   "source": [
    "## 7.5. XGBoost regressor"
   ]
  },
  {
   "cell_type": "code",
   "execution_count": null,
   "id": "ff96cd14-2305-4b4a-87a2-190780de8d4e",
   "metadata": {
    "execution": {
     "iopub.execute_input": "2021-08-13T12:01:48.864974Z",
     "iopub.status.busy": "2021-08-13T12:01:48.863974Z",
     "iopub.status.idle": "2021-08-13T12:04:07.316974Z",
     "shell.execute_reply": "2021-08-13T12:04:07.315974Z",
     "shell.execute_reply.started": "2021-08-13T12:01:48.864974Z"
    },
    "tags": []
   },
   "outputs": [],
   "source": [
    "# XGBoost default parameters\n",
    "model_xgb = xgb.XGBRegressor(objective = 'reg:squarederror',\n",
    "                       n_estimators = 100,\n",
    "                       tree_method='gpu_hist', \n",
    "                       gpu_id=0,\n",
    "                       eta = 0.3,\n",
    "                       max_depth = 6,\n",
    "                       subsample = 1,\n",
    "                       colsample_bytree = 1).fit(x_train,y_train)\n",
    "\n",
    "# prediction\n",
    "y_hat_xgb = model_xgb.predict(x_test)\n",
    "\n",
    "# performance\n",
    "xgb_result = ml_error('XGBoost regressor',np.expm1(y_test),np.expm1(y_hat_xgb) )\n",
    "xgb_result\n"
   ]
  },
  {
   "cell_type": "markdown",
   "id": "c2942650-81d7-4d47-a71a-0d60904dc0ef",
   "metadata": {},
   "source": [
    "### 7.5.1. XGBoost regressor - cross validation"
   ]
  },
  {
   "cell_type": "code",
   "execution_count": null,
   "id": "40546a11-4c3c-4fce-bd60-d93ce8fbbfe0",
   "metadata": {
    "execution": {
     "iopub.execute_input": "2021-08-13T12:04:07.318974Z",
     "iopub.status.busy": "2021-08-13T12:04:07.317974Z",
     "iopub.status.idle": "2021-08-13T12:06:27.667974Z",
     "shell.execute_reply": "2021-08-13T12:06:27.667974Z",
     "shell.execute_reply.started": "2021-08-13T12:04:07.318974Z"
    }
   },
   "outputs": [],
   "source": [
    "xgb_result_cv = time_series_cross_validation(5, training_set,'XGBoost regressor', model_xgb,verbose=True)\n",
    "xgb_result_cv"
   ]
  },
  {
   "cell_type": "markdown",
   "id": "0a27a676-7e85-4d82-ab49-668238de9469",
   "metadata": {},
   "source": [
    "## 7.6. Model performance"
   ]
  },
  {
   "cell_type": "markdown",
   "id": "d424c1f4-fc78-4a45-95f1-14e5e846a7e7",
   "metadata": {},
   "source": [
    "### 7.6.1. Initial performance"
   ]
  },
  {
   "cell_type": "code",
   "execution_count": null,
   "id": "5f92fd67-d36a-478a-934f-9dfc7fe22571",
   "metadata": {
    "execution": {
     "iopub.execute_input": "2021-08-13T12:06:27.669974Z",
     "iopub.status.busy": "2021-08-13T12:06:27.669974Z",
     "iopub.status.idle": "2021-08-13T12:06:27.685974Z",
     "shell.execute_reply": "2021-08-13T12:06:27.685974Z",
     "shell.execute_reply.started": "2021-08-13T12:06:27.669974Z"
    },
    "tags": []
   },
   "outputs": [],
   "source": [
    "model_results = pd.concat([baseline_result,lr_result,lrr_result,rf_result,xgb_result])\n",
    "model_results.sort_values('RMSE')"
   ]
  },
  {
   "cell_type": "markdown",
   "id": "4a6452c8-2e37-48f3-a54c-ed137d8e6cbf",
   "metadata": {},
   "source": [
    "For now, it can be seen that the Random forest regressor performed better in relation to the other models. But that doesn't mean it will always be like this. We cannot evaluate ML models just for a slice of the last 6 weeks. It is necessary to perform several slices and test for all, so we will have a more reliable overview of the performance of the models. This is the topic of the next section."
   ]
  },
  {
   "cell_type": "markdown",
   "id": "bbacbdbf-4937-4c93-aebf-1bcb3637d33c",
   "metadata": {
    "tags": []
   },
   "source": [
    "### 7.6.2. Cross-validation performance"
   ]
  },
  {
   "cell_type": "markdown",
   "id": "3fb3dc93-394e-4179-b54f-979594c6e958",
   "metadata": {},
   "source": [
    "The cross-validation method for time series consists of k dataset divisions, where for each of these divisions, there is an increase in the amount of training data, while the test data (validation) remains constant. At each iteration, in a new division of the dataset, the performance of the model is evaluated.\n",
    "In the case of this work, the test data window (validation) is 6 weeks.\n",
    "The following figure illustrates this explanation for k = 4."
   ]
  },
  {
   "cell_type": "code",
   "execution_count": null,
   "id": "a29c4f86-ae89-4dca-bb88-aa0af0a3b875",
   "metadata": {
    "execution": {
     "iopub.execute_input": "2021-08-13T12:06:27.687974Z",
     "iopub.status.busy": "2021-08-13T12:06:27.687974Z",
     "iopub.status.idle": "2021-08-13T12:06:27.721974Z",
     "shell.execute_reply": "2021-08-13T12:06:27.720974Z",
     "shell.execute_reply.started": "2021-08-13T12:06:27.687974Z"
    },
    "tags": []
   },
   "outputs": [],
   "source": [
    "Image('img/ts_cross_validation.png')"
   ]
  },
  {
   "cell_type": "code",
   "execution_count": null,
   "id": "a6983c5f-8ab9-454c-b166-94ec7a47abab",
   "metadata": {
    "execution": {
     "iopub.execute_input": "2021-08-13T12:06:27.723974Z",
     "iopub.status.busy": "2021-08-13T12:06:27.723974Z",
     "iopub.status.idle": "2021-08-13T12:06:27.750974Z",
     "shell.execute_reply": "2021-08-13T12:06:27.749974Z",
     "shell.execute_reply.started": "2021-08-13T12:06:27.723974Z"
    }
   },
   "outputs": [],
   "source": [
    "model_results_cv = pd.concat([lr_result_cv,lrr_result_cv,rf_result_cv,xgb_result_cv])\n",
    "model_results_cv.sort_values('RMSE')"
   ]
  },
  {
   "cell_type": "markdown",
   "id": "c42396ed-671a-4d93-9694-2b602d003cb0",
   "metadata": {},
   "source": [
    "Although Random forest performed better at this time, the parameters of the XGBoos model will be fine-tuned; one of the reasons for this is that XXGBoost, when in production, requires much less memory compared to RandomForest."
   ]
  },
  {
   "cell_type": "markdown",
   "id": "fe896d8e-2335-4d05-9cff-010dd181f788",
   "metadata": {},
   "source": [
    "# 8. HYPERPARAMETER TUNING\n",
    "The goal is to find the set of parameters that maximizes model learning and performance without overfitting."
   ]
  },
  {
   "cell_type": "markdown",
   "id": "85beb8a7-5876-42f2-bd77-c359a3f224da",
   "metadata": {},
   "source": [
    "The 3 main hyperparameter adjustment strategies are:\n",
    "1) Random search: <br>\n",
    "     Advantages: fast, low cost and easy to implement <br>\n",
    "     Disadvantages: may repeat already tested parameter sets and may not select the best parameter set for the model <br>\n",
    "\n",
    "2) Grid search: <br>\n",
    "     Advantage: finding the best combination of parameters that maximize the model's performance (within the set of values available for each of the parameters) <br>\n",
    "     Disadvantage: time consuming and very costly computationally <br>\n",
    "\n",
    "3) Bayesian search: <br>\n",
    "     Advantages: it is able to find parameter values based on past learnings, in addition to being faster than grid search <br>\n",
    "     Disadvantages: slower than random search\n",
    "    \n",
    "Will be implementing random search because it is faster, which is a mandatory feature in this project."
   ]
  },
  {
   "cell_type": "markdown",
   "id": "be660efc-93be-43f3-8e98-9c24b4863875",
   "metadata": {},
   "source": [
    "## 8.1 Random search"
   ]
  },
  {
   "cell_type": "code",
   "execution_count": null,
   "id": "d1bea81e-af81-4a19-bb7c-0b61a6e1bd29",
   "metadata": {
    "execution": {
     "iopub.execute_input": "2021-08-13T12:06:27.752974Z",
     "iopub.status.busy": "2021-08-13T12:06:27.751974Z",
     "iopub.status.idle": "2021-08-13T12:06:27.769974Z",
     "shell.execute_reply": "2021-08-13T12:06:27.768974Z",
     "shell.execute_reply.started": "2021-08-13T12:06:27.752974Z"
    },
    "tags": []
   },
   "outputs": [],
   "source": [
    "\"\"\"\n",
    "## session disabled due to high processing time - 7h 42m 32s\n",
    "## results compiled in the following table\n",
    "\n",
    "param = {\n",
    "    'n_estimators':  [100, 200, 300, 400, 500, 1500, 2000, 2500, 3000, 3500],\n",
    "    'eta':  [0.01,0.03], \n",
    "    'max_depth': [3,5,9],\n",
    "    'subsample': [0.1,0.5,0.7],\n",
    "    'colsample_bytree': [0.3,0.7,0.9],\n",
    "    'min_child_weight':[3,8,15],\n",
    "\n",
    "}\n",
    "\n",
    "final_result = pd.DataFrame()\n",
    "max_eval = 25\n",
    "\n",
    "\n",
    "for i in range(max_eval):\n",
    "    # random choice of dictionary values\n",
    "    hp = {k: random.sample(v,1)[0] for k, v in param.items()}\n",
    "    print(hp)\n",
    "    model_xgb = xgb.XGBRegressor(objective = 'reg:squarederror',\n",
    "                                 n_estimators = hp['n_estimators'],\n",
    "                                 tree_method='gpu_hist', \n",
    "                                 gpu_id=0,\n",
    "                                 eta =  hp['eta'],\n",
    "                                 max_depth = hp['max_depth'],\n",
    "                                 subsample = hp['subsample'],\n",
    "                                 colsample_bytree = hp['colsample_bytree'],\n",
    "                                 min_child_weight = hp['min_child_weight']\n",
    "                           )\n",
    "\n",
    "    ## CV\n",
    "    result = time_series_cross_validation(5, training_set,'XGBoost regressor', model_xgb,verbose=True)\n",
    "    final_result = pd.concat([final_result, result])\n",
    "\n",
    "final_result\n",
    "\n",
    "\"\"\""
   ]
  },
  {
   "cell_type": "markdown",
   "id": "d2569f0c-6026-470c-980f-dfb9cbbfb45b",
   "metadata": {},
   "source": [
    "Initially the n_estimators, in random search, could vary between [1500, 1700, 2500, 3000, 3500], but the model was too heavy to go into production and a new search was performed, reducing the n_estimators to [100, 200, 300, 400, 500]. All results are shown in the table below."
   ]
  },
  {
   "cell_type": "code",
   "execution_count": null,
   "id": "745da9d0-f083-4759-94bb-ee068e8ebbf9",
   "metadata": {
    "execution": {
     "iopub.execute_input": "2021-08-13T12:06:27.771974Z",
     "iopub.status.busy": "2021-08-13T12:06:27.771974Z",
     "iopub.status.idle": "2021-08-13T12:06:27.811974Z",
     "shell.execute_reply": "2021-08-13T12:06:27.810974Z",
     "shell.execute_reply.started": "2021-08-13T12:06:27.771974Z"
    },
    "tags": []
   },
   "outputs": [],
   "source": [
    "resultados_finais = {'MAE': ['819.97 +/- 133.17',\n",
    "                             '1429.38 +/- 155.06',\n",
    "                             '803.45 +/- 148.08',\n",
    "                             '1778.07 +/- 205.95',\n",
    "                             '1314.99 +/- 167.76',\n",
    "                             '875.68 +/- 153.02',\n",
    "                             '1434.12 +/- 154.04',\n",
    "                             '1665.99 +/- 184.88',\n",
    "                             '1240.11 +/- 140.59',\n",
    "                             '1286.88 +/- 150.43',\n",
    "                             '1288.63 +/- 158.53',\n",
    "                             '1199.55 +/- 146.86',\n",
    "                             '910.01 +/- 134.73',\n",
    "                             '1306.34 +/- 148.25',\n",
    "                             '3080.75 +/- 435.4',\n",
    "                             '7049.79 +/- 589.86',\n",
    "                             '7055.46 +/- 595.23',\n",
    "                             '996.07 +/- 163.0',\n",
    "                             '7049.77 +/- 589.88',\n",
    "                             '2035.94 +/- 285.59',\n",
    "                             '1830.23 +/- 215.46',\n",
    "                             '1635.67 +/- 195.87',\n",
    "                             '2013.13 +/- 274.57',\n",
    "                             '1874.98 +/- 246.91',\n",
    "                             '972.0 +/- 166.53'],\n",
    "\n",
    "                        'MAPE_manual': ['0.11 +/- 0.01',\n",
    "                                        '0.2 +/- 0.01',\n",
    "                                        '0.11 +/- 0.01',\n",
    "                                        '0.25 +/- 0.01',\n",
    "                                        '0.18 +/- 0.01',\n",
    "                                        '0.12 +/- 0.01',\n",
    "                                        '0.2 +/- 0.01',\n",
    "                                        '0.23 +/- 0.01',\n",
    "                                        '0.17 +/- 0.01',\n",
    "                                        '0.18 +/- 0.01',\n",
    "                                        '0.18 +/- 0.01',\n",
    "                                        '0.16 +/- 0.01',\n",
    "                                        '0.13 +/- 0.01',\n",
    "                                        '0.18 +/- 0.01',\n",
    "                                        '0.36 +/- 0.02',\n",
    "                                        '0.95 +/- 0.0',\n",
    "                                        '0.95 +/- 0.0',\n",
    "                                        '0.14 +/- 0.01',\n",
    "                                        '0.95 +/- 0.0',\n",
    "                                        '0.24 +/- 0.01',\n",
    "                                        '0.26 +/- 0.01',\n",
    "                                        '0.23 +/- 0.01',\n",
    "                                        '0.27 +/- 0.01',\n",
    "                                        '0.25 +/- 0.01',\n",
    "                                        '0.13 +/- 0.02'],\n",
    "                     \n",
    "                        'RMSE': ['1186.38 +/- 203.43',\n",
    "                                 '2071.52 +/- 204.79',\n",
    "                                 '1174.34 +/- 235.99',\n",
    "                                 '2555.52 +/- 284.45',\n",
    "                                 '1908.63 +/- 226.44',\n",
    "                                 '1273.37 +/- 243.37',\n",
    "                                 '2082.6 +/- 206.7',\n",
    "                                 '2407.18 +/- 250.03',\n",
    "                                 '1794.51 +/- 191.54',\n",
    "                                 '1864.99 +/- 205.9',\n",
    "                                 '1879.64 +/- 217.16',\n",
    "                                 '1738.76 +/- 203.14',\n",
    "                                 '1307.57 +/- 196.17',\n",
    "                                 '1891.86 +/- 204.63',\n",
    "                                 '4097.96 +/- 551.4',\n",
    "                                 '7716.74 +/- 690.72',\n",
    "                                 '7729.99 +/- 696.1',\n",
    "                                 '1443.0 +/- 236.73',\n",
    "                                 '7716.72 +/- 690.74',\n",
    "                                 '2930.73 +/- 391.74',\n",
    "                                 '2628.95 +/- 304.43',\n",
    "                                 '2357.71 +/- 271.9',\n",
    "                                 '2919.74 +/- 395.95',\n",
    "                                 '2723.33 +/- 355.11',\n",
    "                                 '1409.8 +/- 247.92'],\n",
    "                     \n",
    "                     'Parameters': [\"'n_estimators': 2500, 'eta': 0.03, 'max_depth': 9, 'subsample': 0.1, 'colsample_bytree': 0.9, 'min_child_weight': 15\",\n",
    "                                    \"'n_estimators': 3000, 'eta': 0.03, 'max_depth': 3, 'subsample': 0.5, 'colsample_bytree': 0.3, 'min_child_weight': 15\",\n",
    "                                    \"'n_estimators': 1500, 'eta': 0.03, 'max_depth': 9, 'subsample': 0.7, 'colsample_bytree': 0.9, 'min_child_weight': 15\",\n",
    "                                    \"'n_estimators': 1500, 'eta': 0.01, 'max_depth': 3, 'subsample': 0.1, 'colsample_bytree': 0.9, 'min_child_weight': 3\",\n",
    "                                    \"'n_estimators': 2500, 'eta': 0.01, 'max_depth': 5, 'subsample': 0.7, 'colsample_bytree': 0.7, 'min_child_weight': 15\",\n",
    "                                    \"'n_estimators': 1500, 'eta': 0.03, 'max_depth': 9, 'subsample': 0.5, 'colsample_bytree': 0.3, 'min_child_weight': 8\",\n",
    "                                    \"'n_estimators': 3000, 'eta': 0.03, 'max_depth': 3, 'subsample': 0.7, 'colsample_bytree': 0.3, 'min_child_weight': 3\",\n",
    "                                    \"'n_estimators': 2500, 'eta': 0.01, 'max_depth': 3, 'subsample': 0.1, 'colsample_bytree': 0.9, 'min_child_weight': 15\",\n",
    "                                    \"'n_estimators': 3500, 'eta': 0.03, 'max_depth': 3, 'subsample': 0.7, 'colsample_bytree': 0.9, 'min_child_weight': 15\",\n",
    "                                    \"'n_estimators': 2500, 'eta': 0.01, 'max_depth': 5, 'subsample': 0.1, 'colsample_bytree': 0.7, 'min_child_weight': 3\",\n",
    "                                    \"'n_estimators': 2500, 'eta': 0.01, 'max_depth': 5, 'subsample': 0.7, 'colsample_bytree': 0.9, 'min_child_weight': 3\",\n",
    "                                    \"'n_estimators': 3000, 'eta': 0.01, 'max_depth': 5, 'subsample': 0.1, 'colsample_bytree': 0.9, 'min_child_weight': 3\",\n",
    "                                    \"'n_estimators': 2500, 'eta': 0.03, 'max_depth': 6, 'subsample': 0.1, 'colsample_bytree': 0.7, 'min_child_weight': 15\",\n",
    "                                    \"'n_estimators': 3500, 'eta': 0.01, 'max_depth': 5, 'subsample': 0.1, 'colsample_bytree': 0.3, 'min_child_weight': 8\",\n",
    "                                    \"'n_estimators': 100, 'eta': 0.03, 'max_depth': 3, 'subsample': 0.1, 'colsample_bytree': 0.9, 'min_child_weight': 15\",\n",
    "                                    \"'n_estimators': 100, 'eta': 0.01, 'max_depth': 9, 'subsample': 0.7, 'colsample_bytree': 0.9, 'min_child_weight': 15\",\n",
    "                                    \"'n_estimators': 100, 'eta': 0.01, 'max_depth': 3, 'subsample': 0.1, 'colsample_bytree': 0.3, 'min_child_weight': 8\",\n",
    "                                    \"'n_estimators': 500, 'eta': 0.03, 'max_depth': 9, 'subsample': 0.1, 'colsample_bytree': 0.7, 'min_child_weight': 8\",\n",
    "                                    \"'n_estimators': 100, 'eta': 0.01, 'max_depth': 9, 'subsample': 0.7, 'colsample_bytree': 0.9, 'min_child_weight': 8\",\n",
    "                                    \"'n_estimators': 400, 'eta': 0.01, 'max_depth': 9, 'subsample': 0.1, 'colsample_bytree': 0.3, 'min_child_weight': 15\",\n",
    "                                    \"'n_estimators': 400, 'eta': 0.03, 'max_depth': 3, 'subsample': 0.5, 'colsample_bytree': 0.9, 'min_child_weight': 15\",\n",
    "                                    \"'n_estimators': 400, 'eta': 0.03, 'max_depth': 5, 'subsample': 0.7, 'colsample_bytree': 0.3, 'min_child_weight': 8\",\n",
    "                                    \"'n_estimators': 500, 'eta': 0.01, 'max_depth': 3, 'subsample': 0.1, 'colsample_bytree': 0.7, 'min_child_weight': 15\",\n",
    "                                    \"'n_estimators': 500, 'eta': 0.01, 'max_depth': 5, 'subsample': 0.1, 'colsample_bytree': 0.9, 'min_child_weight': 15\",\n",
    "                                    \"'n_estimators': 500, 'eta': 0.03, 'max_depth': 9, 'subsample': 0.7, 'colsample_bytree': 0.9, 'min_child_weight': 15\"]\n",
    "                       }\n",
    "\n",
    "print(tabulate(resultados_finais, headers=['MAE','MAPE','RMSE', 'Hyperparameters'], tablefmt=\"fancy_grid\"))"
   ]
  },
  {
   "cell_type": "markdown",
   "id": "6cf21c1a-9685-45c9-b8be-00088468138a",
   "metadata": {},
   "source": [
    "## 8.2 Final model"
   ]
  },
  {
   "cell_type": "code",
   "execution_count": null,
   "id": "c496eb65-b496-439f-b7f6-0cd17481cc62",
   "metadata": {
    "execution": {
     "iopub.execute_input": "2021-08-13T12:06:27.813974Z",
     "iopub.status.busy": "2021-08-13T12:06:27.812974Z",
     "iopub.status.idle": "2021-08-13T12:12:05.401974Z",
     "shell.execute_reply": "2021-08-13T12:12:05.400974Z",
     "shell.execute_reply.started": "2021-08-13T12:06:27.813974Z"
    },
    "tags": []
   },
   "outputs": [],
   "source": [
    "## first final model\n",
    "#param_tuned = {\n",
    "#    'n_estimators': 1500 ,\n",
    "#    'eta': 0.03 , \n",
    "#    'max_depth': 9,\n",
    "#    'subsample': 0.7 ,\n",
    "#    'colsample_bytree': 0.9 ,\n",
    "#    'min_child_weight': 15\n",
    "#}\n",
    "### Performance of this model ->  XGBoost regressor\tMAE: 635.853387\tMAPE: 0.092987\tRMSE: 928.257959\n",
    "\n",
    "# second final model (after the first one got too heavy in production)\n",
    "param_tuned = {\n",
    "    'n_estimators': 500 ,\n",
    "    'eta': 0.03 , \n",
    "    'max_depth': 9,\n",
    "    'subsample': 0.7 ,\n",
    "    'colsample_bytree': 0.9 ,\n",
    "    'min_child_weight': 15\n",
    "}\n",
    "\n",
    "\n",
    "model_xgb_tuned = xgb.XGBRegressor(objective = 'reg:squarederror',\n",
    "                                   n_estimators = param_tuned['n_estimators'],\n",
    "                                   eta = param_tuned['eta'],\n",
    "                                   tree_method='gpu_hist', \n",
    "                                   gpu_id=0,\n",
    "                                   max_depth = param_tuned['max_depth'],\n",
    "                                   subsample = param_tuned['subsample'],\n",
    "                                   colsample_bytree = param_tuned['colsample_bytree'],\n",
    "                                   min_child_weight = param_tuned['min_child_weight'] ).fit(x_train,y_train)\n",
    "\n",
    "# prediction\n",
    "y_hat_xgb = model_xgb_tuned.predict(x_test)\n",
    "\n",
    "# performance\n",
    "xgb_result_tuned = ml_error('XGBoost regressor',np.expm1(y_test),np.expm1(y_hat_xgb) )\n",
    "xgb_result_tuned\n",
    "\n"
   ]
  },
  {
   "cell_type": "code",
   "execution_count": null,
   "id": "ccef2b41-074f-4b06-8783-01dbfad2c1ac",
   "metadata": {
    "execution": {
     "iopub.execute_input": "2021-08-13T12:12:05.402974Z",
     "iopub.status.busy": "2021-08-13T12:12:05.402974Z",
     "iopub.status.idle": "2021-08-13T12:12:07.021974Z",
     "shell.execute_reply": "2021-08-13T12:12:07.020974Z",
     "shell.execute_reply.started": "2021-08-13T12:12:05.402974Z"
    },
    "tags": []
   },
   "outputs": [],
   "source": [
    "## to save the model (run only once)\n",
    "pickle.dump(model_xgb_tuned, open('model/model_rossmann.pkl', 'wb'))\n"
   ]
  },
  {
   "cell_type": "code",
   "execution_count": null,
   "id": "ac82c48c",
   "metadata": {},
   "outputs": [],
   "source": [
    "# to load the template\n",
    "model_xgb_tuned = pickle.load(open('model/model_rossmann.pkl', 'rb'))\n",
    "y_hat_xgb_tuned = model_xgb_tuned.predict(x_test)\n",
    "xgb_result_tuned = ml_error('XGBoost regressor',np.expm1(y_test),np.expm1(y_hat_xgb) )\n",
    "xgb_result_tuned"
   ]
  },
  {
   "cell_type": "markdown",
   "id": "98c1274e-0280-4405-a66b-ef501748501f",
   "metadata": {},
   "source": [
    "### 8.2.1 Final model tree samples"
   ]
  },
  {
   "cell_type": "code",
   "execution_count": null,
   "id": "c2bb2462-c24f-49af-a728-5c8d65172614",
   "metadata": {
    "execution": {
     "iopub.execute_input": "2021-08-13T12:12:07.022974Z",
     "iopub.status.busy": "2021-08-13T12:12:07.022974Z",
     "iopub.status.idle": "2021-08-13T12:12:07.025974Z",
     "shell.execute_reply": "2021-08-13T12:12:07.025974Z",
     "shell.execute_reply.started": "2021-08-13T12:12:07.022974Z"
    },
    "tags": []
   },
   "outputs": [],
   "source": [
    "## to plot the tree drawn by XGBoost\n",
    "\n",
    "## run the code below once\n",
    "import os\n",
    "os.environ[\"PATH\"] += os.pathsep + r'/home/ub/anaconda3/envs/ds_production/lib/python3.9/site-packages/graphviz'\n",
    "\n",
    "## run the code below (the num_trees parameter is the number of the tree to be drawn)\n",
    "import graphviz\n",
    "from xgboost import plot_tree\n",
    "plot_tree(model_xgb_tuned,num_trees=15)\n",
    "fig = plt.gcf()\n",
    "fig.set_size_inches(150, 100)\n",
    "\n",
    "## to save the picture\n",
    "fig.savefig('tree15.png')"
   ]
  },
  {
   "cell_type": "markdown",
   "id": "a08ccac9-4e74-41b9-9bd2-e9bfd0eb24cb",
   "metadata": {},
   "source": [
    "Below are three samples of trees from the final model. Note that the top node in all of them is the 'promo' feature; as seen in section 4.3.1, the variable with the highest correlation with the target variable is precisely the 'promo'."
   ]
  },
  {
   "cell_type": "code",
   "execution_count": null,
   "id": "719ede41-6519-4962-b174-d5396b6dee60",
   "metadata": {
    "execution": {
     "iopub.execute_input": "2021-08-13T12:12:07.027974Z",
     "iopub.status.busy": "2021-08-13T12:12:07.027974Z",
     "iopub.status.idle": "2021-08-13T12:12:07.103974Z",
     "shell.execute_reply": "2021-08-13T12:12:07.102974Z",
     "shell.execute_reply.started": "2021-08-13T12:12:07.027974Z"
    },
    "tags": []
   },
   "outputs": [],
   "source": [
    "Image(\"trees/sample_tree0.png\")"
   ]
  },
  {
   "cell_type": "code",
   "execution_count": null,
   "id": "b2810135-e320-414b-ae33-f3c3b99e2647",
   "metadata": {
    "execution": {
     "iopub.execute_input": "2021-08-13T12:12:07.104974Z",
     "iopub.status.busy": "2021-08-13T12:12:07.104974Z",
     "iopub.status.idle": "2021-08-13T12:12:07.162974Z",
     "shell.execute_reply": "2021-08-13T12:12:07.161974Z",
     "shell.execute_reply.started": "2021-08-13T12:12:07.104974Z"
    }
   },
   "outputs": [],
   "source": [
    "Image(\"trees/sample_tree1.png\")"
   ]
  },
  {
   "cell_type": "code",
   "execution_count": null,
   "id": "339bf8a1-1621-454b-910c-2d372b75fccf",
   "metadata": {
    "execution": {
     "iopub.execute_input": "2021-08-13T12:12:07.163974Z",
     "iopub.status.busy": "2021-08-13T12:12:07.163974Z",
     "iopub.status.idle": "2021-08-13T12:12:07.211974Z",
     "shell.execute_reply": "2021-08-13T12:12:07.210974Z",
     "shell.execute_reply.started": "2021-08-13T12:12:07.163974Z"
    }
   },
   "outputs": [],
   "source": [
    "Image(\"trees/sample_tree15.png\")"
   ]
  },
  {
   "cell_type": "markdown",
   "id": "607bbe75-8250-44fc-a5c3-8b33d1b75524",
   "metadata": {
    "tags": []
   },
   "source": [
    "# 9. TRANSLATION AND ERROR INTERPRETATION\n",
    "How to understand the performance of the model and tell the CEO how much money this model will bring to the company in the next six weeks?"
   ]
  },
  {
   "cell_type": "code",
   "execution_count": null,
   "id": "78d7494e-339f-4d05-ad20-e0b595e50615",
   "metadata": {
    "execution": {
     "iopub.execute_input": "2021-08-13T12:12:07.212974Z",
     "iopub.status.busy": "2021-08-13T12:12:07.212974Z",
     "iopub.status.idle": "2021-08-13T12:12:07.236974Z",
     "shell.execute_reply": "2021-08-13T12:12:07.235974Z",
     "shell.execute_reply.started": "2021-08-13T12:12:07.212974Z"
    },
    "tags": []
   },
   "outputs": [],
   "source": [
    "Image(\"img/crisp4.png\")"
   ]
  },
  {
   "cell_type": "code",
   "execution_count": null,
   "id": "dd369b38-d7ba-4fcb-a2e0-29cf24ee6594",
   "metadata": {
    "execution": {
     "iopub.execute_input": "2021-08-13T12:12:07.237974Z",
     "iopub.status.busy": "2021-08-13T12:12:07.237974Z",
     "iopub.status.idle": "2021-08-13T12:12:07.262974Z",
     "shell.execute_reply": "2021-08-13T12:12:07.262974Z",
     "shell.execute_reply.started": "2021-08-13T12:12:07.237974Z"
    },
    "tags": []
   },
   "outputs": [],
   "source": [
    "# obtaining sales data (and forecast) on the original scale\n",
    "df9 = test_set.copy()\n",
    "\n",
    "# rescale\n",
    "df9['sales'] = np.expm1(df9['sales'])\n",
    "df9['predictions'] = (np.expm1(y_hat_xgb_tuned))\n"
   ]
  },
  {
   "cell_type": "markdown",
   "id": "028e154a-4a91-4512-a54b-d8458182b3b6",
   "metadata": {},
   "source": [
    "Regression model performance:\n",
    "\n",
    "MAE* (Mean Absolute Error) <br>\n",
    "MAPE* (Mean Absolute Percentage Error) <br>\n",
    "RMSE* (Root Mean Squared Error) <br>\n",
    "MPE** (Mean Percentage Error) <br>\n",
    "*The fundamental difference between MAE/MAPE & RMSE is that the first two are not sensitive to outliers, as the error is always absolute, divided by the number of samples. In the third, the error is squared, enhancing its impact; subsequently, it is divided by the sample number before extracting the square root.\n",
    "\n",
    "** Useful to understand if the model is overestimating or underestimating predictions\n",
    "<br> <br>\n",
    "\n",
    "Model performance on the business: <br>\n",
    "comparison with the status quo: how the sales forecast is currently done vs. the model's forecast proposal\n",
    "revenue increase"
   ]
  },
  {
   "cell_type": "markdown",
   "id": "645f8810-5e2e-41b8-9cef-80c9ee4587e5",
   "metadata": {},
   "source": [
    "## 9.1 MPE"
   ]
  },
  {
   "cell_type": "markdown",
   "id": "53f4862f-3160-4e9c-ac34-a0952dce7112",
   "metadata": {},
   "source": [
    "MPE does not need to be calculated at every model training, unless desired. It is not an error used to evaluate the performance of models, just to report whether the model is tending to underestimate or overestimate the predicted value."
   ]
  },
  {
   "cell_type": "code",
   "execution_count": null,
   "id": "ad4c59a1-428a-40d5-b67e-3ad2cbf41dc6",
   "metadata": {
    "execution": {
     "iopub.execute_input": "2021-08-13T12:12:07.264974Z",
     "iopub.status.busy": "2021-08-13T12:12:07.264974Z",
     "iopub.status.idle": "2021-08-13T12:12:07.287974Z",
     "shell.execute_reply": "2021-08-13T12:12:07.286974Z",
     "shell.execute_reply.started": "2021-08-13T12:12:07.264974Z"
    },
    "tags": []
   },
   "outputs": [],
   "source": [
    "mpe = mean_percentage_error(np.expm1(y_test),np.expm1(y_hat_xgb))\n",
    "mpe"
   ]
  },
  {
   "cell_type": "markdown",
   "id": "e9f5671f-55a2-4c69-bc2d-bf4cc2bb7b62",
   "metadata": {
    "execution": {
     "iopub.execute_input": "2021-07-11T22:14:02.816402Z",
     "iopub.status.busy": "2021-07-11T22:14:02.815402Z",
     "iopub.status.idle": "2021-07-11T22:14:02.821402Z",
     "shell.execute_reply": "2021-07-11T22:14:02.820402Z",
     "shell.execute_reply.started": "2021-07-11T22:14:02.816402Z"
    }
   },
   "source": [
    "With the value slightly negative, it appears that there is a tendency to overestimate (that is, to predict sales values greater than the real one)."
   ]
  },
  {
   "cell_type": "markdown",
   "id": "a0e97446-7fe8-4bbe-8584-7801ea138966",
   "metadata": {},
   "source": [
    "## 9.2 Business performance"
   ]
  },
  {
   "cell_type": "code",
   "execution_count": null,
   "id": "c19fe81c-f57c-4d62-81d9-8f20dd9102b2",
   "metadata": {
    "execution": {
     "iopub.execute_input": "2021-08-13T12:12:07.288974Z",
     "iopub.status.busy": "2021-08-13T12:12:07.288974Z",
     "iopub.status.idle": "2021-08-13T12:12:08.567974Z",
     "shell.execute_reply": "2021-08-13T12:12:08.566974Z",
     "shell.execute_reply.started": "2021-08-13T12:12:07.288974Z"
    },
    "tags": []
   },
   "outputs": [],
   "source": [
    "# number of days\n",
    "df9_aux0 = df9[['store','predictions']].groupby('store').count().rename(columns = {'predictions':'days'})\n",
    "\n",
    "# sum of sales\n",
    "df9_aux1 = df9[['store','predictions']].groupby('store').sum().reset_index()\n",
    "\n",
    "# MAE & MAPE\n",
    "df9_aux2 = df9[['store','sales','predictions']].groupby('store').apply(lambda x: mean_absolute_error(x['sales'],x['predictions'])).reset_index().rename(columns = {0:'MAE'})\n",
    "df9_aux3 = df9[['store','sales','predictions']].groupby('store').apply(lambda x: mean_absolute_percentage_error(x['sales'],x['predictions'])).reset_index().rename(columns = {0:'MAPE'})\n",
    "\n",
    "# merge: days + sum + MAE + MAPE\n",
    "df9_aux4 = pd.merge(df9_aux2, df9_aux3, how='inner', on ='store')\n",
    "df9_aux5 = pd.merge(df9_aux4, df9_aux0, how='inner', on ='store')\n",
    "df9_1 = pd.merge(df9_aux1, df9_aux5, how='inner', on='store')\n",
    "\n",
    "\n",
    "# creation of scenarios\n",
    "df9_1['worst_scenario'] = df9_1['predictions'] - df9_1['days']*df9_1['MAE']\n",
    "df9_1['best_scenario'] = df9_1['predictions'] + df9_1['days']*df9_1['MAE']\n",
    "\n",
    "# export MAE to show in production (worst and best scenarios)\n",
    "df9_1[['store','MAE']].to_csv('data/MAE.csv', index=False)\n",
    "\n",
    "df9_1.head()\n"
   ]
  },
  {
   "cell_type": "code",
   "execution_count": null,
   "id": "d161a243-be0c-4b07-ad49-ec4a0660c1d8",
   "metadata": {
    "execution": {
     "iopub.execute_input": "2021-08-13T12:12:08.568974Z",
     "iopub.status.busy": "2021-08-13T12:12:08.568974Z",
     "iopub.status.idle": "2021-08-13T12:12:08.586974Z",
     "shell.execute_reply": "2021-08-13T12:12:08.585974Z",
     "shell.execute_reply.started": "2021-08-13T12:12:08.568974Z"
    },
    "tags": []
   },
   "outputs": [],
   "source": [
    "# reorder columns\n",
    "df9_1 = df9_1[['store', 'predictions', 'worst_scenario', 'best_scenario', 'MAE', 'MAPE']]\n",
    "df9_1.sample(4, random_state = 746)"
   ]
  },
  {
   "cell_type": "markdown",
   "id": "4517d5a3-81a0-4c8f-a36b-96d1fc742f48",
   "metadata": {},
   "source": [
    "Note that MAPE can fluctuate considerably. To visualize the error oscillation, one point per store can be plotted with its respective MAPE"
   ]
  },
  {
   "cell_type": "code",
   "execution_count": null,
   "id": "75a8bf69-d009-4aaf-b79f-e8ae1396681b",
   "metadata": {
    "execution": {
     "iopub.execute_input": "2021-08-13T12:12:08.587974Z",
     "iopub.status.busy": "2021-08-13T12:12:08.587974Z",
     "iopub.status.idle": "2021-08-13T12:12:08.852974Z",
     "shell.execute_reply": "2021-08-13T12:12:08.851974Z",
     "shell.execute_reply.started": "2021-08-13T12:12:08.587974Z"
    },
    "tags": []
   },
   "outputs": [],
   "source": [
    "sns.scatterplot(x='store', y='MAPE', data = df9_1);"
   ]
  },
  {
   "cell_type": "markdown",
   "id": "8bf9b4c6-8179-418b-8a19-566a16c08d8f",
   "metadata": {},
   "source": [
    "Important: it is not recommended to make any business decisions based on the current model for stores that have the biggest mistakes; it is recommended, in future CRISP cycles, to understand if there are particularities in these stores and, eventually, to create specific models for them."
   ]
  },
  {
   "cell_type": "markdown",
   "id": "d13f93ba-6667-4e05-a0f0-de3b993f06a3",
   "metadata": {},
   "source": [
    "## 9.3 Total performance"
   ]
  },
  {
   "cell_type": "code",
   "execution_count": null,
   "id": "78347f9c-e830-43b5-bafc-9ea35a5aa767",
   "metadata": {
    "execution": {
     "iopub.execute_input": "2021-08-13T12:12:08.853974Z",
     "iopub.status.busy": "2021-08-13T12:12:08.853974Z",
     "iopub.status.idle": "2021-08-13T12:12:08.868974Z",
     "shell.execute_reply": "2021-08-13T12:12:08.867974Z",
     "shell.execute_reply.started": "2021-08-13T12:12:08.853974Z"
    },
    "tags": []
   },
   "outputs": [],
   "source": [
    "df_total_performance = pd.DataFrame(df9_1[['predictions', 'worst_scenario','best_scenario']].sum()).rename(columns = {0:'values'})\n",
    "df_total_performance['values'] = df_total_performance['values'].map('R$ {:,.2f}'.format)\n",
    "df_total_performance"
   ]
  },
  {
   "cell_type": "markdown",
   "id": "c6196b05-490e-40ec-9112-9f84abefcc77",
   "metadata": {},
   "source": [
    "With that, we know the total value of the predictions, considering the worst and the best scenario."
   ]
  },
  {
   "cell_type": "markdown",
   "id": "56156d4b-ab73-45c8-ab11-2718628a9e66",
   "metadata": {
    "tags": []
   },
   "source": [
    "## 9.4 Machine learning performance"
   ]
  },
  {
   "cell_type": "markdown",
   "id": "24099f8c-aff9-4252-877f-c40f83dd6ca0",
   "metadata": {
    "execution": {
     "iopub.execute_input": "2021-07-12T20:06:06.645401Z",
     "iopub.status.busy": "2021-07-12T20:06:06.645401Z",
     "iopub.status.idle": "2021-07-12T20:06:06.651401Z",
     "shell.execute_reply": "2021-07-12T20:06:06.650401Z",
     "shell.execute_reply.started": "2021-07-12T20:06:06.645401Z"
    }
   },
   "source": [
    "To summarize the performance of the machine learning model, a set of four graphs is generated."
   ]
  },
  {
   "cell_type": "code",
   "execution_count": null,
   "id": "f219d40b-de40-494a-8ad6-2fb5b18d9635",
   "metadata": {
    "execution": {
     "iopub.execute_input": "2021-08-13T12:12:08.869974Z",
     "iopub.status.busy": "2021-08-13T12:12:08.869974Z",
     "iopub.status.idle": "2021-08-13T12:12:08.903974Z",
     "shell.execute_reply": "2021-08-13T12:12:08.902974Z",
     "shell.execute_reply.started": "2021-08-13T12:12:08.869974Z"
    },
    "tags": []
   },
   "outputs": [],
   "source": [
    "df9['error'] = df9['sales'] - df9['predictions']\n",
    "df9['error_rate'] = df9['predictions']/df9['sales']"
   ]
  },
  {
   "cell_type": "code",
   "execution_count": null,
   "id": "e5cef803-0085-4fef-9f17-91ba3d205122",
   "metadata": {
    "execution": {
     "iopub.execute_input": "2021-08-13T12:12:08.905974Z",
     "iopub.status.busy": "2021-08-13T12:12:08.905974Z",
     "iopub.status.idle": "2021-08-13T12:12:16.766974Z",
     "shell.execute_reply": "2021-08-13T12:12:16.765974Z",
     "shell.execute_reply.started": "2021-08-13T12:12:08.905974Z"
    },
    "tags": []
   },
   "outputs": [],
   "source": [
    "plt.figure(figsize = (20,10))\n",
    "plt.subplot(2,2,1)\n",
    "sns.lineplot(x = 'date', y = 'sales', data = df9, label = 'sales')\n",
    "sns.lineplot(x = 'date', y = 'predictions', data = df9, label = 'predictions')\n",
    "\n",
    "plt.subplot(2,2,2)\n",
    "sns.lineplot(x = 'date', y = 'error_rate', data = df9)\n",
    "plt.axhline(1, linestyle = '--')\n",
    "\n",
    "plt.subplot(2,2,3)\n",
    "sns.histplot(data = df9['error'])\n",
    "\n",
    "plt.subplot(2,2,4)\n",
    "sns.scatterplot(x = df9['predictions'], y = df9['error']);\n"
   ]
  },
  {
   "cell_type": "markdown",
   "id": "ce5759e1-e7bd-4294-85d4-4127d3eacbc0",
   "metadata": {},
   "source": [
    "This set of graphs summarizes the model's performance. <br>\n",
    "- The first (top left) shows sales and their respective forecasts, considering all stores. <br>\n",
    "- The second (top right) shows the error rate, where below 1 is valid for the periods where it underestimated and above 1 is valid for the periods it overestimated. <br>\n",
    "- The third (bottom left) is the error distribution, which resembles a normal distribution. <br>\n",
    "- The fourth (bottom right) shows the errors by the value of the predictions; it is noted that the errors for forecasts around R$ 8k tend to be greater, with the largest errors in the model (outliers) being in this range. <br>\n",
    "\n",
    "The last two graphs are used in residual analysis to help understand the model's weaknesses and what you need to do to increase its performance."
   ]
  },
  {
   "cell_type": "markdown",
   "id": "23be9f49-6acf-410e-ae6e-22c293ae2b37",
   "metadata": {},
   "source": [
    "# 10. Model in production\n",
    "With the performance of the model understood, it can be said that it is ready to complete the first CRISP cycle. At this stage the model will be put into production to make the predictions accessible to any consumer; and then, depending on the feedback received and the priorities of the company, the second CRISP cycle can be carried out or a new project can be started."
   ]
  },
  {
   "cell_type": "code",
   "execution_count": null,
   "id": "dc2dac06-66f0-4bde-ab2c-7f6a965ae155",
   "metadata": {
    "execution": {
     "iopub.execute_input": "2021-08-13T12:12:16.767974Z",
     "iopub.status.busy": "2021-08-13T12:12:16.767974Z",
     "iopub.status.idle": "2021-08-13T12:12:16.778974Z",
     "shell.execute_reply": "2021-08-13T12:12:16.777974Z",
     "shell.execute_reply.started": "2021-08-13T12:12:16.767974Z"
    },
    "tags": []
   },
   "outputs": [],
   "source": [
    "Image(\"img/crisp5.png\")"
   ]
  },
  {
   "cell_type": "markdown",
   "id": "6b15a143-55bf-4caf-93e7-14a750ef9590",
   "metadata": {},
   "source": [
    "The architecture of the model in production can be represented as follows:"
   ]
  },
  {
   "cell_type": "code",
   "execution_count": null,
   "id": "b91a347c-bb6f-49d1-96b2-925d8fc209f3",
   "metadata": {
    "execution": {
     "iopub.execute_input": "2021-08-13T12:12:16.779974Z",
     "iopub.status.busy": "2021-08-13T12:12:16.779974Z",
     "iopub.status.idle": "2021-08-13T12:12:16.825974Z",
     "shell.execute_reply": "2021-08-13T12:12:16.824974Z",
     "shell.execute_reply.started": "2021-08-13T12:12:16.779974Z"
    },
    "tags": []
   },
   "outputs": [],
   "source": [
    "Image(\"img/schema_prod.png\")"
   ]
  },
  {
   "cell_type": "markdown",
   "id": "8c2886cc-b1ac-4388-88ee-6d361ec6dc56",
   "metadata": {},
   "source": [
    "The next three subsections bring the scripts for the \"Rossmann class\", \"API handler\" and an API test."
   ]
  },
  {
   "cell_type": "markdown",
   "id": "a88e0e98-503c-47a4-8622-630c1219cfc6",
   "metadata": {},
   "source": [
    "## 10.1. Rossmann class"
   ]
  },
  {
   "cell_type": "code",
   "execution_count": null,
   "id": "5949f7a2-f029-4293-9dc3-2ad11cb8b882",
   "metadata": {
    "execution": {
     "iopub.execute_input": "2021-07-28T13:45:15.487400Z",
     "iopub.status.busy": "2021-07-28T13:45:15.487400Z",
     "iopub.status.idle": "2021-07-28T13:45:15.524400Z",
     "shell.execute_reply": "2021-07-28T13:45:15.524400Z",
     "shell.execute_reply.started": "2021-07-28T13:45:15.487400Z"
    },
    "tags": []
   },
   "outputs": [],
   "source": [
    "import pickle\n",
    "import inflection\n",
    "import pandas as pd\n",
    "import numpy as np\n",
    "import math\n",
    "import datetime\n",
    "from sklearn.metrics import mean_absolute_error\n",
    "\n",
    "class Rossmann(object):\n",
    "    def __init__(self):\n",
    "        self.home_path = ''\n",
    "        \n",
    "        # read scaler for use in production\n",
    "        self.competition_distance_scaler = pickle.load(open(self.home_path + 'parameter/competition_distance_scaler.pkl','rb'))\n",
    "        \n",
    "        # read scaler for use in production\n",
    "        self.competition_time_month_scaler = pickle.load(open(self.home_path + 'parameter/competition_time_month_scaler.pkl','rb'))\n",
    "        \n",
    "        # read scaler for use in production\n",
    "        self.promo_time_week_scaler =  pickle.load(open(self.home_path + 'parameter/promo_time_week_scaler.pkl','rb'))\n",
    "        \n",
    "        # read scaler for use in production\n",
    "        self.year_scaler =  pickle.load(open(self.home_path + 'parameter/year_scaler.pkl','rb'))\n",
    "        \n",
    "        # read scaler for use in production\n",
    "        self.store_type_scaler = pickle.load(open(self.home_path + 'parameter/store_type_scaler.pkl', 'rb'))\n",
    "        \n",
    "        \n",
    "    def data_cleaning(self,df1):\n",
    "        # the same previously written sections are used for cleaning new data\n",
    "        \n",
    "        ## 1.1. Rename columns\n",
    "        cols_old = ['Store', 'DayOfWeek', 'Date', 'Open', 'Promo','StateHoliday', 'SchoolHoliday', 'StoreType', 'Assortment',\n",
    "                    'CompetitionDistance', 'CompetitionOpenSinceMonth','CompetitionOpenSinceYear', 'Promo2', 'Promo2SinceWeek','Promo2SinceYear', 'PromoInterval']\n",
    "\n",
    "        snakecase = lambda x: inflection.underscore(x)\n",
    "        cols_new = list(map(snakecase,cols_old))\n",
    "        df1.columns = cols_new\n",
    "            \n",
    "        ## 1.3. Data Types\n",
    "        df1['date'] = pd.to_datetime(df1['date'])\n",
    "            \n",
    "            \n",
    "        ## 1.5. Fillout NA\n",
    "        # competition_distance\n",
    "        df1[\"competition_distance\"] = df1[\"competition_distance\"].fillna(200000)\n",
    "\n",
    "        # competition_open_since_month\n",
    "        x = lambda x: x[\"date\"].month if math.isnan(x[\"competition_open_since_month\"]) else x[\"competition_open_since_month\"]\n",
    "        df1[\"competition_open_since_month\"] = df1.apply(x, axis=1)\n",
    "\n",
    "        # competition_open_since_year\n",
    "        x = lambda x: x[\"date\"].year if math.isnan(x[\"competition_open_since_year\"]) else x[\"competition_open_since_year\"]\n",
    "        df1[\"competition_open_since_year\"] = df1.apply(x, axis=1)\n",
    "\n",
    "        # promo2_since_week\n",
    "        x = lambda x: x[\"date\"].week if math.isnan(x[\"promo2_since_week\"]) else x[\"promo2_since_week\"]\n",
    "        df1[\"promo2_since_week\"] = df1.apply(x, axis=1)\n",
    "\n",
    "        # promo2_since_year\n",
    "        x = lambda x: x[\"date\"].year if math.isnan(x[\"promo2_since_year\"]) else x[\"promo2_since_year\"]\n",
    "        df1[\"promo2_since_year\"] = df1.apply(x, axis=1)\n",
    "\n",
    "        # promo_interval\n",
    "        df1[\"promo_interval\"].fillna(0, inplace = True)\n",
    "\n",
    "        # month_map\n",
    "        month_map = {1: \"Jan\", 2: \"Feb\", 3: \"Mar\", 4: \"Apr\", 5: \"May\", 6: \"Jun\", 7: \"Jul\", 8: \"Aug\",9: \"Sept\", 10: \"Oct\", 11: \"Nov\",12: \"Dec\"}\n",
    "        df1[\"month_map\"] = df1[\"date\"].dt.month.map(month_map)\n",
    "\n",
    "        # is_promo\n",
    "        df1[\"is_promo\"] = df1[[\"promo_interval\",\"month_map\"]].apply(lambda x: 0 if x[\"promo_interval\"] == 0 else 1 if x[\"month_map\"] in x[\"promo_interval\"].split(',') else 0, axis = 1)\n",
    "\n",
    "\n",
    "        ## 1.6. Change Types\n",
    "        df1[\"competition_open_since_month\"] = df1[\"competition_open_since_month\"].astype(int)\n",
    "        df1[\"competition_open_since_year\"] = df1[\"competition_open_since_year\"].astype(int)\n",
    "        df1[\"promo2_since_week\"] = df1[\"promo2_since_week\"].astype(int)\n",
    "        df1[\"promo2_since_year\"] = df1[\"promo2_since_year\"].astype(int)\n",
    "\n",
    "        return df1\n",
    "        \n",
    "    def feature_engineering(self,df2):\n",
    "        \n",
    "        # 2.3. Feature Engineering\n",
    "\n",
    "        # year\n",
    "        df2[\"year\"] = df2[\"date\"].dt.year\n",
    "        \n",
    "        # month\n",
    "        df2[\"month\"] = df2[\"date\"].dt.month\n",
    "        \n",
    "        # day\n",
    "        df2[\"day\"] = df2[\"date\"].dt.day\n",
    "        \n",
    "        # week of year\n",
    "        df2[\"week_of_year\"] = df2[\"date\"].dt.isocalendar().week\n",
    "        \n",
    "        # year week\n",
    "        df2[\"year_week\"] = df2[\"date\"].dt.strftime('%Y-%W')\n",
    "\n",
    "        # competition_time_month\n",
    "        df2[\"competition_since\"] = df2.apply(lambda x: datetime.datetime(year = x[\"competition_open_since_year\"], month = x[\"competition_open_since_month\"], day = 1), axis = 1)\n",
    "        df2[\"competition_time_month\"] = ((df2[\"date\"] - df2[\"competition_since\"]) / 30).apply(lambda x: x.days).astype(int)\n",
    "\n",
    "        # promo_time_week\n",
    "        df2[\"promo_since\"] = df2[\"promo2_since_year\"].astype(str) +  '-' + df2[\"promo2_since_week\"].astype(str)\n",
    "        df2[\"promo_since\"] = df2[\"promo_since\"].apply(lambda x: datetime.datetime.strptime(x + '-1', '%Y-%W-%w' ) - datetime.timedelta(days=7))\n",
    "        df2[\"promo_time_week\"] = ((df2[\"date\"] - df2[\"promo_since\"])/7).apply(lambda x: x.days).astype(int)\n",
    "\n",
    "        # assortment\n",
    "        df2[\"assortment\"] = df2[\"assortment\"].map({'a': 'basic', 'b': 'extra', 'c': 'extended'})\n",
    "        \n",
    "        # state holiday\n",
    "        df2[\"state_holiday\"] = df2[\"state_holiday\"].map({'a':'public_holiday', 'b':'easter_holiday', 'c':'christmas', '0': 'regular_day'})\n",
    "        \n",
    "        # 3.1. Line filtering\n",
    "        df2 = df2[df2['open'] != 0]\n",
    "        \n",
    "        # 3.2. Selection of columns\n",
    "        cols_drop = ['open', 'promo_interval', 'month_map']\n",
    "        df2 = df2.drop(cols_drop, axis=1)\n",
    "        \n",
    "        return df2\n",
    "    \n",
    "    \n",
    "    def data_preparation(self,df5):\n",
    "    \n",
    "        # 5.2 Rescaling\n",
    "        # originally the 'week_of_year' series is as type UInt32; the conversion takes place.\n",
    "        df5['week_of_year'] = df5['week_of_year'].astype(np.int64)\n",
    "\n",
    "        # competition_distance\n",
    "        df5['competition_distance'] = self.competition_distance_scaler.transform(df5[['competition_distance']].values)\n",
    "\n",
    "        # competition_time_month\n",
    "        df5['competition_time_month'] = self.competition_time_month_scaler.transform(df5[['competition_time_month']].values)\n",
    "\n",
    "        # promo_time_week\n",
    "        df5['promo_time_week'] = self.promo_time_week_scaler.transform(df5[['promo_time_week']].values)\n",
    "\n",
    "        # year\n",
    "        df5['year'] = self.year_scaler.transform(df5[['year']].values)\n",
    "\n",
    "\n",
    "        # 5.3.1 Non-cyclical features encoding\n",
    "        # state_holiday\n",
    "        df5 = pd.get_dummies(data=df5,prefix='state_holiday',columns=['state_holiday'])\n",
    "\n",
    "        # store_type\n",
    "        df5['store_type'] = self.store_type_scaler.transform(df5['store_type'])\n",
    "\n",
    "        # assortment\n",
    "        assortment_dict = {'basic':1, 'extra':2, 'extended':3} \n",
    "        df5['assortment'] = df5['assortment'].map(assortment_dict)\n",
    "\n",
    "\n",
    "        # 5.3.2 Cyclical features encoding\n",
    "        #month\n",
    "        df5['month_sin'] = df5['month'].apply(lambda x : np.sin(x * (2 * np.pi / 12)))\n",
    "        df5['month_cos'] = df5['month'].apply(lambda x : np.cos(x * (2 * np.pi / 12)))\n",
    "\n",
    "\n",
    "        #day\n",
    "        max_days_month = {1: 31, 2: 28, 3: 31, 4: 30, 5: 31, 6: 30, 7: 31, 8: 31, 9: 30, 10: 31, 11: 30, 12: 31}\n",
    "        df5['max_days_month'] = df5['month'].map(max_days_month)\n",
    "\n",
    "        x = lambda x: np.sin(x['day'] * (2 * np.pi / x['max_days_month']))\n",
    "        df5['day_sin'] = df5.apply(x, axis=1)\n",
    "\n",
    "        x = lambda x: np.cos(x['day'] * (2 * np.pi / x['max_days_month']))\n",
    "        df5['day_cos'] = df5.apply(x, axis=1)\n",
    "\n",
    "        df5.drop(columns='max_days_month',inplace=True)\n",
    "\n",
    "\n",
    "        #week_of_year\n",
    "        df5['week_of_year_sin'] = df5['week_of_year'].apply(lambda x : np.sin(x * (2 * np.pi / 52)))\n",
    "        df5['week_of_year_cos'] = df5['week_of_year'].apply(lambda x : np.cos(x * (2 * np.pi / 52)))\n",
    "\n",
    "        #day_of_week\n",
    "        df5['day_of_week_sin'] = df5['day_of_week'].apply(lambda x : np.sin(x * (2 * np.pi / 7)))\n",
    "        df5['day_of_week_cos'] = df5['day_of_week'].apply(lambda x : np.cos(x * (2 * np.pi / 7)))\n",
    "        \n",
    "        cols_selected = ['store','promo', 'store_type', 'assortment', 'competition_distance', 'competition_open_since_month',\n",
    "                         'competition_open_since_year', 'promo2', 'promo2_since_week', 'promo2_since_year', 'competition_time_month',\n",
    "                         'promo_time_week','month_sin', 'month_cos', 'day_sin', 'day_cos', 'week_of_year_sin','week_of_year_cos', \n",
    "                         'day_of_week_sin', 'day_of_week_cos']\n",
    "\n",
    "        return df5[cols_selected]\n",
    "    \n",
    "    def get_prediction(self,model,original_data, test_data):\n",
    "        pred = model.predict(test_data)\n",
    "        \n",
    "        # join pred into original data\n",
    "        original_data['prediction'] = np.expm1(pred)\n",
    "        \n",
    "        # load MAE\n",
    "        df_mae = pd.read_csv('data/MAE.csv')\n",
    "        \n",
    "        # merge with MAE\n",
    "        df_response_with_MAE = pd.merge(original_data, df_mae, how='left', on='store')\n",
    "        \n",
    "        # scenarios\n",
    "        df_response_with_MAE['best_scenario'] = df_response_with_MAE['prediction'] + df_response_with_MAE['MAE']\n",
    "        df_response_with_MAE['worst_scenario'] = df_response_with_MAE['prediction'] - df_response_with_MAE['MAE']\n",
    "        \n",
    "        \n",
    "        return df_response_with_MAE.to_json(orient='records', date_format = 'iso')"
   ]
  },
  {
   "cell_type": "markdown",
   "id": "dfe85ade-00e9-49d2-a59e-ef61b0f8e2c1",
   "metadata": {},
   "source": [
    "## 10.2. API handler"
   ]
  },
  {
   "cell_type": "code",
   "execution_count": null,
   "id": "6a9dbd4a-e604-489d-9540-0ec424f31838",
   "metadata": {
    "execution": {
     "iopub.execute_input": "2021-07-30T13:12:44.303000Z",
     "iopub.status.busy": "2021-07-30T13:12:44.303000Z",
     "iopub.status.idle": "2021-07-30T13:12:44.306000Z",
     "shell.execute_reply": "2021-07-30T13:12:44.306000Z",
     "shell.execute_reply.started": "2021-07-30T13:12:44.303000Z"
    },
    "tags": []
   },
   "outputs": [],
   "source": [
    "import pickle\n",
    "import os\n",
    "import pandas as pd\n",
    "from flask import Flask, request, Response\n",
    "from rossmann.Rossmann import Rossmann\n",
    "\n",
    "# load model\n",
    "model = pickle.load(open('model/model_rossmann.pkl', 'rb'))\n",
    "\n",
    "\n",
    "app = Flask(__name__)\n",
    "\n",
    "@app.route('/rossmann/predict', methods=['POST'])\n",
    "def rossmann_predict():\n",
    "    test_json = request.get_json()\n",
    "    \n",
    "    if test_json:\n",
    "        # if json is unique (ie a dictionary)\n",
    "        if isinstance(test_json, dict):\n",
    "            test_raw = pd.DataFrame(test_json, index=[0])\n",
    "        # if not unique, create dataframe considering json keys\n",
    "        else:       \n",
    "            test_raw = pd.DataFrame(test_json, columns = test_json[0].keys())\n",
    "            \n",
    "        # instantiate the Rossmann class\n",
    "        pipeline = Rossmann()\n",
    "        \n",
    "        \n",
    "        # data cleaning\n",
    "        df1 = pipeline.data_cleaning(test_raw)\n",
    "        \n",
    "        # feature engineering\n",
    "        df2 = pipeline.feature_engineering(df1)\n",
    "        \n",
    "        # data preparation\n",
    "        df3 = pipeline.data_preparation(df2)\n",
    "        \n",
    "        # prediction\n",
    "        df_response = pipeline.get_prediction(model, test_raw, df3)       \n",
    "       \n",
    "        return df_response\n",
    "        \n",
    "        \n",
    "    else:\n",
    "        return Response('{}', status=200, mimetype='application/json')\n",
    "\n",
    "if __name__ == '__main__':\n",
    "\tport = os.environ.get('PORT',5000)\n",
    "\tapp.run(host = '0.0.0.0', port=port)\n"
   ]
  },
  {
   "cell_type": "markdown",
   "id": "e0c49bb9-7e7b-460e-8030-d6f50eb9b24c",
   "metadata": {},
   "source": [
    "## 10.3. API tester"
   ]
  },
  {
   "cell_type": "code",
   "execution_count": 17,
   "id": "d2fe9697-1958-4ad5-b72d-aaee85c1e51f",
   "metadata": {
    "execution": {
     "iopub.execute_input": "2021-08-13T12:19:33.868974Z",
     "iopub.status.busy": "2021-08-13T12:19:33.868974Z",
     "iopub.status.idle": "2021-08-13T12:19:34.547974Z",
     "shell.execute_reply": "2021-08-13T12:19:34.547974Z",
     "shell.execute_reply.started": "2021-08-13T12:19:33.868974Z"
    },
    "tags": []
   },
   "outputs": [],
   "source": [
    "import requests\n",
    "import pandas as pd\n",
    "import json"
   ]
  },
  {
   "cell_type": "code",
   "execution_count": 18,
   "id": "cb5084be-499a-4476-87ea-5d4d4255f249",
   "metadata": {
    "execution": {
     "iopub.execute_input": "2021-08-13T12:19:42.979974Z",
     "iopub.status.busy": "2021-08-13T12:19:42.979974Z",
     "iopub.status.idle": "2021-08-13T12:19:43.125974Z",
     "shell.execute_reply": "2021-08-13T12:19:43.124974Z",
     "shell.execute_reply.started": "2021-08-13T12:19:42.979974Z"
    },
    "tags": []
   },
   "outputs": [],
   "source": [
    "# load test dataset\n",
    "df10 = pd.read_csv('/home/ub/Documents/github/Product-sales-Rossman/data/test.csv')\n",
    "df_sales_raw = pd.read_csv( 'data/train.csv', low_memory = False)\n",
    "df_store_raw = pd.read_csv( 'data/store.csv', low_memory = False)\n",
    "df_test = pd.merge(df10,df_store_raw, how='left', on = 'Store')\n",
    "\n",
    "# choose store for prediction\n",
    "df_test = df_test[df_test['Store'].isin([50,100,200, 1060, 574, 325])]\n",
    "\n",
    "# remove closed days\n",
    "df_test = df_test[df_test['Open'] != 0]\n",
    "df_test = df_test[~df_test['Open'].isnull()] # some 'Open' values are null; these rows cannot be used\n",
    "df_test = df_test.drop(columns = ['Id'])"
   ]
  },
  {
   "cell_type": "code",
   "execution_count": 19,
   "id": "72ef45ca-771b-4093-bbad-967ddd9e2bb1",
   "metadata": {
    "execution": {
     "iopub.execute_input": "2021-08-13T12:19:45.493974Z",
     "iopub.status.busy": "2021-08-13T12:19:45.492974Z",
     "iopub.status.idle": "2021-08-13T12:19:45.502974Z",
     "shell.execute_reply": "2021-08-13T12:19:45.502974Z",
     "shell.execute_reply.started": "2021-08-13T12:19:45.492974Z"
    },
    "tags": []
   },
   "outputs": [],
   "source": [
    "# convert dataframe to a json list\n",
    "data = json.dumps(df_test.to_dict(orient = 'records'))"
   ]
  },
  {
   "cell_type": "code",
   "execution_count": 20,
   "id": "01e66194-5b72-4f95-ac35-cc6d63e52d66",
   "metadata": {
    "execution": {
     "iopub.execute_input": "2021-08-13T12:19:49.920974Z",
     "iopub.status.busy": "2021-08-13T12:19:49.920974Z",
     "iopub.status.idle": "2021-08-13T12:20:37.090974Z",
     "shell.execute_reply": "2021-08-13T12:20:37.089974Z",
     "shell.execute_reply.started": "2021-08-13T12:19:49.920974Z"
    },
    "tags": []
   },
   "outputs": [
    {
     "name": "stdout",
     "output_type": "stream",
     "text": [
      "Status code 200\n"
     ]
    }
   ],
   "source": [
    "# API call\n",
    "# open terminal and run api handler (python handler.py)\n",
    "#url = 'http://192.168.15.7:5000/rossmann/predict'\n",
    "url = 'https://rossmann-model-clay.herokuapp.com/rossmann/predict'\n",
    "header = {'Content-type':'application/json'} # type of requisition\n",
    "data = data\n",
    "\n",
    "r = requests.post(url=url,data=data, headers = header)\n",
    "print(f'Status code {r.status_code}')"
   ]
  },
  {
   "cell_type": "code",
   "execution_count": 21,
   "id": "1da85ca3-46f1-4d2b-af07-156e732cecb2",
   "metadata": {
    "execution": {
     "iopub.execute_input": "2021-08-13T12:24:31.332974Z",
     "iopub.status.busy": "2021-08-13T12:24:31.332974Z",
     "iopub.status.idle": "2021-08-13T12:24:31.374974Z",
     "shell.execute_reply": "2021-08-13T12:24:31.373974Z",
     "shell.execute_reply.started": "2021-08-13T12:24:31.332974Z"
    },
    "tags": []
   },
   "outputs": [
    {
     "data": {
      "text/html": [
       "<div>\n",
       "<style scoped>\n",
       "    .dataframe tbody tr th:only-of-type {\n",
       "        vertical-align: middle;\n",
       "    }\n",
       "\n",
       "    .dataframe tbody tr th {\n",
       "        vertical-align: top;\n",
       "    }\n",
       "\n",
       "    .dataframe thead th {\n",
       "        text-align: right;\n",
       "    }\n",
       "</style>\n",
       "<table border=\"1\" class=\"dataframe\">\n",
       "  <thead>\n",
       "    <tr style=\"text-align: right;\">\n",
       "      <th></th>\n",
       "      <th>store</th>\n",
       "      <th>day_of_week</th>\n",
       "      <th>date</th>\n",
       "      <th>open</th>\n",
       "      <th>promo</th>\n",
       "      <th>state_holiday</th>\n",
       "      <th>school_holiday</th>\n",
       "      <th>store_type</th>\n",
       "      <th>assortment</th>\n",
       "      <th>competition_distance</th>\n",
       "      <th>...</th>\n",
       "      <th>week_of_year</th>\n",
       "      <th>year_week</th>\n",
       "      <th>competition_since</th>\n",
       "      <th>competition_time_month</th>\n",
       "      <th>promo_since</th>\n",
       "      <th>promo_time_week</th>\n",
       "      <th>prediction</th>\n",
       "      <th>MAE</th>\n",
       "      <th>best_scenario</th>\n",
       "      <th>worst_scenario</th>\n",
       "    </tr>\n",
       "  </thead>\n",
       "  <tbody>\n",
       "    <tr>\n",
       "      <th>0</th>\n",
       "      <td>50</td>\n",
       "      <td>4</td>\n",
       "      <td>2015-09-17T00:00:00.000Z</td>\n",
       "      <td>1.0</td>\n",
       "      <td>1</td>\n",
       "      <td>regular_day</td>\n",
       "      <td>0</td>\n",
       "      <td>d</td>\n",
       "      <td>basic</td>\n",
       "      <td>6260.0</td>\n",
       "      <td>...</td>\n",
       "      <td>38</td>\n",
       "      <td>2015-37</td>\n",
       "      <td>2009-11-01T00:00:00.000Z</td>\n",
       "      <td>71</td>\n",
       "      <td>2015-09-14T00:00:00.000Z</td>\n",
       "      <td>0</td>\n",
       "      <td>4568.562012</td>\n",
       "      <td>400.094232</td>\n",
       "      <td>4968.656243</td>\n",
       "      <td>4168.467780</td>\n",
       "    </tr>\n",
       "    <tr>\n",
       "      <th>1</th>\n",
       "      <td>100</td>\n",
       "      <td>4</td>\n",
       "      <td>2015-09-17T00:00:00.000Z</td>\n",
       "      <td>1.0</td>\n",
       "      <td>1</td>\n",
       "      <td>regular_day</td>\n",
       "      <td>0</td>\n",
       "      <td>d</td>\n",
       "      <td>basic</td>\n",
       "      <td>17930.0</td>\n",
       "      <td>...</td>\n",
       "      <td>38</td>\n",
       "      <td>2015-37</td>\n",
       "      <td>2015-09-01T00:00:00.000Z</td>\n",
       "      <td>0</td>\n",
       "      <td>2015-09-14T00:00:00.000Z</td>\n",
       "      <td>0</td>\n",
       "      <td>7200.652344</td>\n",
       "      <td>623.883736</td>\n",
       "      <td>7824.536080</td>\n",
       "      <td>6576.768607</td>\n",
       "    </tr>\n",
       "    <tr>\n",
       "      <th>2</th>\n",
       "      <td>200</td>\n",
       "      <td>4</td>\n",
       "      <td>2015-09-17T00:00:00.000Z</td>\n",
       "      <td>1.0</td>\n",
       "      <td>1</td>\n",
       "      <td>regular_day</td>\n",
       "      <td>0</td>\n",
       "      <td>a</td>\n",
       "      <td>basic</td>\n",
       "      <td>1650.0</td>\n",
       "      <td>...</td>\n",
       "      <td>38</td>\n",
       "      <td>2015-37</td>\n",
       "      <td>2000-10-01T00:00:00.000Z</td>\n",
       "      <td>182</td>\n",
       "      <td>2015-09-14T00:00:00.000Z</td>\n",
       "      <td>0</td>\n",
       "      <td>7570.020508</td>\n",
       "      <td>741.829234</td>\n",
       "      <td>8311.849741</td>\n",
       "      <td>6828.191274</td>\n",
       "    </tr>\n",
       "    <tr>\n",
       "      <th>3</th>\n",
       "      <td>325</td>\n",
       "      <td>4</td>\n",
       "      <td>2015-09-17T00:00:00.000Z</td>\n",
       "      <td>1.0</td>\n",
       "      <td>1</td>\n",
       "      <td>regular_day</td>\n",
       "      <td>0</td>\n",
       "      <td>a</td>\n",
       "      <td>extended</td>\n",
       "      <td>350.0</td>\n",
       "      <td>...</td>\n",
       "      <td>38</td>\n",
       "      <td>2015-37</td>\n",
       "      <td>2011-03-01T00:00:00.000Z</td>\n",
       "      <td>55</td>\n",
       "      <td>2011-05-23T00:00:00.000Z</td>\n",
       "      <td>225</td>\n",
       "      <td>7136.449219</td>\n",
       "      <td>907.091361</td>\n",
       "      <td>8043.540580</td>\n",
       "      <td>6229.357857</td>\n",
       "    </tr>\n",
       "    <tr>\n",
       "      <th>4</th>\n",
       "      <td>574</td>\n",
       "      <td>4</td>\n",
       "      <td>2015-09-17T00:00:00.000Z</td>\n",
       "      <td>1.0</td>\n",
       "      <td>1</td>\n",
       "      <td>regular_day</td>\n",
       "      <td>0</td>\n",
       "      <td>d</td>\n",
       "      <td>basic</td>\n",
       "      <td>4400.0</td>\n",
       "      <td>...</td>\n",
       "      <td>38</td>\n",
       "      <td>2015-37</td>\n",
       "      <td>2015-09-01T00:00:00.000Z</td>\n",
       "      <td>0</td>\n",
       "      <td>2015-09-14T00:00:00.000Z</td>\n",
       "      <td>0</td>\n",
       "      <td>8071.609375</td>\n",
       "      <td>1108.474821</td>\n",
       "      <td>9180.084196</td>\n",
       "      <td>6963.134554</td>\n",
       "    </tr>\n",
       "  </tbody>\n",
       "</table>\n",
       "<p>5 rows × 31 columns</p>\n",
       "</div>"
      ],
      "text/plain": [
       "   store  day_of_week                      date  open  promo state_holiday  \\\n",
       "0     50            4  2015-09-17T00:00:00.000Z   1.0      1   regular_day   \n",
       "1    100            4  2015-09-17T00:00:00.000Z   1.0      1   regular_day   \n",
       "2    200            4  2015-09-17T00:00:00.000Z   1.0      1   regular_day   \n",
       "3    325            4  2015-09-17T00:00:00.000Z   1.0      1   regular_day   \n",
       "4    574            4  2015-09-17T00:00:00.000Z   1.0      1   regular_day   \n",
       "\n",
       "   school_holiday store_type assortment  competition_distance  ...  \\\n",
       "0               0          d      basic                6260.0  ...   \n",
       "1               0          d      basic               17930.0  ...   \n",
       "2               0          a      basic                1650.0  ...   \n",
       "3               0          a   extended                 350.0  ...   \n",
       "4               0          d      basic                4400.0  ...   \n",
       "\n",
       "   week_of_year  year_week         competition_since  competition_time_month  \\\n",
       "0            38    2015-37  2009-11-01T00:00:00.000Z                      71   \n",
       "1            38    2015-37  2015-09-01T00:00:00.000Z                       0   \n",
       "2            38    2015-37  2000-10-01T00:00:00.000Z                     182   \n",
       "3            38    2015-37  2011-03-01T00:00:00.000Z                      55   \n",
       "4            38    2015-37  2015-09-01T00:00:00.000Z                       0   \n",
       "\n",
       "                promo_since promo_time_week   prediction          MAE  \\\n",
       "0  2015-09-14T00:00:00.000Z               0  4568.562012   400.094232   \n",
       "1  2015-09-14T00:00:00.000Z               0  7200.652344   623.883736   \n",
       "2  2015-09-14T00:00:00.000Z               0  7570.020508   741.829234   \n",
       "3  2011-05-23T00:00:00.000Z             225  7136.449219   907.091361   \n",
       "4  2015-09-14T00:00:00.000Z               0  8071.609375  1108.474821   \n",
       "\n",
       "   best_scenario  worst_scenario  \n",
       "0    4968.656243     4168.467780  \n",
       "1    7824.536080     6576.768607  \n",
       "2    8311.849741     6828.191274  \n",
       "3    8043.540580     6229.357857  \n",
       "4    9180.084196     6963.134554  \n",
       "\n",
       "[5 rows x 31 columns]"
      ]
     },
     "execution_count": 21,
     "metadata": {},
     "output_type": "execute_result"
    }
   ],
   "source": [
    "df_resp = pd.DataFrame(r.json())\n",
    "df_resp.head()"
   ]
  },
  {
   "cell_type": "code",
   "execution_count": 22,
   "id": "77f94264-a5de-425c-9361-604457665767",
   "metadata": {
    "execution": {
     "iopub.execute_input": "2021-08-13T12:25:20.788974Z",
     "iopub.status.busy": "2021-08-13T12:25:20.788974Z",
     "iopub.status.idle": "2021-08-13T12:25:20.800974Z",
     "shell.execute_reply": "2021-08-13T12:25:20.798974Z",
     "shell.execute_reply.started": "2021-08-13T12:25:20.788974Z"
    },
    "tags": []
   },
   "outputs": [
    {
     "name": "stdout",
     "output_type": "stream",
     "text": [
      "Store number 50 will sell R$ 179,822.84 (may vary between R$ 163,418.98 and R$ 196,226.71) in the next 6 weeeks.\n",
      "Store number 100 will sell R$ 305,562.23 (may vary between R$ 280,606.88 and R$ 330,517.58) in the next 6 weeeks.\n",
      "Store number 200 will sell R$ 304,216.05 (may vary between R$ 273,801.05 and R$ 334,631.05) in the next 6 weeeks.\n",
      "Store number 325 will sell R$ 271,664.83 (may vary between R$ 234,474.08 and R$ 308,855.58) in the next 6 weeeks.\n",
      "Store number 574 will sell R$ 328,776.32 (may vary between R$ 283,328.86 and R$ 374,223.79) in the next 6 weeeks.\n",
      "Store number 1060 will sell R$ 285,160.72 (may vary between R$ 263,420.87 and R$ 306,900.56) in the next 6 weeeks.\n"
     ]
    }
   ],
   "source": [
    "df_pred = df_resp[['store','prediction','worst_scenario','best_scenario']].groupby('store').sum().reset_index()\n",
    "\n",
    "for i in range(len(df_pred)):\n",
    "     print(\"Store number {} will sell R$ {:,.2f} (may vary between R$ {:,.2f} and R$ {:,.2f}) in the next 6 weeeks.\".format(df_pred.loc[i, 'store'],\n",
    "                                                                                                                            df_pred.loc[i, 'prediction'],\n",
    "                                                                                                                            df_pred.loc[i, 'worst_scenario'],\n",
    "                                                                                                                            df_pred.loc[i, 'best_scenario']))"
   ]
  },
  {
   "cell_type": "markdown",
   "id": "49bdebb8-2046-4e8e-b6d0-3dce3a247052",
   "metadata": {},
   "source": [
    "# 11. Future CRISP cycles"
   ]
  },
  {
   "cell_type": "markdown",
   "id": "13c285f2-188e-42b1-a3c8-94f177139e7c",
   "metadata": {},
   "source": [
    "If necessary, work on another CRISP cycle to:\n",
    "- use the 'customers' feature\n",
    "     - to do so, develop a customer forecasting project, using new features (if possible to be obtained), such as 'demographic density in the store's region', 'population/number of stores in the city', 'tourist city or not' , 'weather of the day' etc. Also, some features already available may be more appropriate for this project, such as 'closest competitor', \"promotions\" etc. Such features impact the number of customers more than the sales themselves. But in this project, we encapsulate all features to forecast sales, only. On the other hand, features such as \"holiday\" do not impact the number of customers, as all customers will be on the same holiday. The holiday impacts buying behavior, that is, sales directly. With the customer forecast project completed, the data obtained can be fed into the sales forecast project. \n",
    "<br>\n",
    "\n",
    "\n",
    "- if it is necessary to increase the accuracy of the sales forecast for a specific store (mainly for those whose forecast resulted in a high MAPE value), a model for that store can be created.\n",
    "\n",
    "- in section 5.2, rescale the variables 'promo2_since_week', 'promo2_since_year' and 'competition_open_since_year'\n",
    "\n",
    "- in section 6.1, if necessary, the stores that ended sales on 07/10 and 07/15 (one for each date) can be studied and trained separately from the others.\n",
    "\n",
    "- in section 6.2.2, a a new hypothesis can be created: \"Stores should sell more during the holiday week\", whose key variable is the 'week_of_year', already selected by the Boruta.\n",
    "\n",
    "- in section 6.2.2, as explained, improve the assignment of the is_promo feature during section 1.5\n",
    "     "
   ]
  },
  {
   "cell_type": "code",
   "execution_count": null,
   "id": "8c14f560-05be-4987-99bf-607b1e565239",
   "metadata": {
    "execution": {
     "iopub.execute_input": "2021-08-13T12:35:15.057974Z",
     "iopub.status.busy": "2021-08-13T12:35:15.056974Z",
     "iopub.status.idle": "2021-08-13T12:35:19.538974Z",
     "shell.execute_reply": "2021-08-13T12:35:19.538974Z",
     "shell.execute_reply.started": "2021-08-13T12:35:15.057974Z"
    },
    "tags": []
   },
   "outputs": [],
   "source": [
    "!pip freeze > requirements.txt"
   ]
  }
 ],
 "metadata": {
  "kernelspec": {
   "display_name": "Python 3 (ipykernel)",
   "language": "python",
   "name": "python3"
  },
  "language_info": {
   "codemirror_mode": {
    "name": "ipython",
    "version": 3
   },
   "file_extension": ".py",
   "mimetype": "text/x-python",
   "name": "python",
   "nbconvert_exporter": "python",
   "pygments_lexer": "ipython3",
   "version": "3.9.7"
  },
  "toc-autonumbering": false,
  "toc-showcode": false,
  "toc-showmarkdowntxt": false,
  "toc-showtags": false
 },
 "nbformat": 4,
 "nbformat_minor": 5
}
